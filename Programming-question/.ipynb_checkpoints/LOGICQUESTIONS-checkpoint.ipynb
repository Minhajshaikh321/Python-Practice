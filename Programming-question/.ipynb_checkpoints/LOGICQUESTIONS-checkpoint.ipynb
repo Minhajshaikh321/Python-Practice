{
 "cells": [
  {
   "cell_type": "markdown",
   "id": "21845931",
   "metadata": {},
   "source": [
    "# LEETCODE QN"
   ]
  },
  {
   "cell_type": "code",
   "execution_count": null,
   "id": "485c1488",
   "metadata": {},
   "outputs": [],
   "source": []
  },
  {
   "cell_type": "code",
   "execution_count": null,
   "id": "a191411d",
   "metadata": {},
   "outputs": [],
   "source": []
  },
  {
   "cell_type": "code",
   "execution_count": null,
   "id": "c9ec056a",
   "metadata": {},
   "outputs": [],
   "source": []
  },
  {
   "cell_type": "code",
   "execution_count": null,
   "id": "6121dc63",
   "metadata": {},
   "outputs": [],
   "source": []
  },
  {
   "cell_type": "markdown",
   "id": "c69e631f",
   "metadata": {},
   "source": [
    "# HACKER RANK QN"
   ]
  },
  {
   "cell_type": "markdown",
   "id": "b58a2906",
   "metadata": {},
   "source": [
    "# Say \"Hello, World!\" With Python"
   ]
  },
  {
   "cell_type": "code",
   "execution_count": 1,
   "id": "3f734d50",
   "metadata": {},
   "outputs": [
    {
     "name": "stdout",
     "output_type": "stream",
     "text": [
      "Hello, World!\n"
     ]
    }
   ],
   "source": [
    "if __name__ == '__main__':\n",
    "    print(\"Hello, World!\")"
   ]
  },
  {
   "cell_type": "markdown",
   "id": "68217bd4",
   "metadata": {},
   "source": [
    "# Python If-Else"
   ]
  },
  {
   "cell_type": "code",
   "execution_count": 10,
   "id": "699dbaab",
   "metadata": {},
   "outputs": [
    {
     "name": "stdout",
     "output_type": "stream",
     "text": [
      "22\n",
      "Not Weird\n"
     ]
    }
   ],
   "source": [
    "n=int(input())\n",
    "if n%2:\n",
    "    print(\"Weird\")\n",
    "elif (n>=2 and n<=5):\n",
    "    print(\"Not Weird\")\n",
    "elif (n>=6 and n<=20):\n",
    "    print(\"Weird\")\n",
    "else:\n",
    "    print(\"Not Weird\")\n",
    "    "
   ]
  },
  {
   "cell_type": "markdown",
   "id": "6a9b5a02",
   "metadata": {},
   "source": [
    "# Arithmetic operators"
   ]
  },
  {
   "cell_type": "code",
   "execution_count": 11,
   "id": "20f049aa",
   "metadata": {},
   "outputs": [
    {
     "name": "stdout",
     "output_type": "stream",
     "text": [
      "3\n",
      "2\n",
      "5\n",
      "1\n",
      "6\n"
     ]
    }
   ],
   "source": [
    "if __name__ == '__main__':\n",
    "    a = int(input())\n",
    "    b = int(input())\n",
    "    print(a+b)\n",
    "    print(a-b)\n",
    "    print(a*b)"
   ]
  },
  {
   "cell_type": "code",
   "execution_count": 13,
   "id": "64596f91",
   "metadata": {},
   "outputs": [],
   "source": [
    "# Python Division"
   ]
  },
  {
   "cell_type": "code",
   "execution_count": 14,
   "id": "20ab60a4",
   "metadata": {},
   "outputs": [
    {
     "name": "stdout",
     "output_type": "stream",
     "text": [
      "3\n",
      "5\n",
      "0\n",
      "0.6\n"
     ]
    }
   ],
   "source": [
    "if __name__ == '__main__':\n",
    "    a = int(input())\n",
    "    b = int(input())\n",
    "    print(a//b)\n",
    "    print(a/b)"
   ]
  },
  {
   "cell_type": "code",
   "execution_count": 15,
   "id": "c440352b",
   "metadata": {},
   "outputs": [],
   "source": [
    "# python loop"
   ]
  },
  {
   "cell_type": "code",
   "execution_count": 16,
   "id": "51829e81",
   "metadata": {},
   "outputs": [
    {
     "name": "stdout",
     "output_type": "stream",
     "text": [
      "3\n",
      "0\n",
      "1\n",
      "4\n"
     ]
    }
   ],
   "source": [
    "if __name__ == '__main__':\n",
    "    n = int(input())\n",
    "    for i in range(n):\n",
    "        print(i**2)"
   ]
  },
  {
   "cell_type": "code",
   "execution_count": 18,
   "id": "17ce683f",
   "metadata": {},
   "outputs": [],
   "source": [
    "# python function"
   ]
  },
  {
   "cell_type": "code",
   "execution_count": 33,
   "id": "7cb0121a",
   "metadata": {},
   "outputs": [
    {
     "name": "stdout",
     "output_type": "stream",
     "text": [
      "3\n",
      "123"
     ]
    }
   ],
   "source": [
    "n=int(input())\n",
    "e=[]\n",
    "for i in range(1,n+1):\n",
    "    print(i,end='')"
   ]
  },
  {
   "cell_type": "markdown",
   "id": "c21d93a2",
   "metadata": {},
   "source": [
    "# merged tools"
   ]
  },
  {
   "cell_type": "code",
   "execution_count": 27,
   "id": "0fd27656",
   "metadata": {},
   "outputs": [
    {
     "name": "stdout",
     "output_type": "stream",
     "text": [
      "7Q5H9438L\n"
     ]
    }
   ],
   "source": [
    "def merge_the_tools(string, k):\n",
    "    # your code goes here\n",
    "    temp = []\n",
    "    len_temp = 0\n",
    "    for item in string:\n",
    "        len_temp += 1\n",
    "#         print('len',len_temp)\n",
    "        if item not in temp:\n",
    "            temp.append(item)\n",
    "#             print('temp',temp)\n",
    "        if len_temp == k:\n",
    "#             print('len_temp',len_temp)\n",
    "            print (''.join(temp))\n",
    "#             print('temp',temp)\n",
    "            temp = []\n",
    "            len_temp = 0\n",
    "string, k = input(), int(input())\n",
    "merge_the_tools(string, k)"
   ]
  },
  {
   "cell_type": "markdown",
   "id": "55585a72",
   "metadata": {},
   "source": [
    "# compnay logo\n"
   ]
  },
  {
   "cell_type": "code",
   "execution_count": 1,
   "id": "87967894",
   "metadata": {},
   "outputs": [
    {
     "name": "stdout",
     "output_type": "stream",
     "text": [
      "aaabbbbbbccccss\n",
      "b 6\n",
      "c 4\n",
      "a 3\n"
     ]
    }
   ],
   "source": [
    "from collections import Counter\n",
    "\n",
    "s = input()\n",
    "s=sorted(s)\n",
    "frequency=Counter(list(s))\n",
    "for k,v in frequency.most_common(3):\n",
    "    print(k,v)\n"
   ]
  },
  {
   "cell_type": "markdown",
   "id": "f810e8fc",
   "metadata": {},
   "source": [
    "# word order"
   ]
  },
  {
   "cell_type": "code",
   "execution_count": null,
   "id": "2d60df34",
   "metadata": {},
   "outputs": [],
   "source": [
    "n = int(input().strip())\n",
    "counter = {}\n",
    "words = []\n",
    "for i in range(n):\n",
    "  word = input().strip()\n",
    "  if word in counter:\n",
    "    counter[word] += 1\n",
    "  else:\n",
    "    counter[word] = 1\n",
    "    words.append(word)\n",
    "    \n",
    "print(len(words))\n",
    "print(' '.join([str(counter[word]) for word in words]))\n"
   ]
  },
  {
   "cell_type": "markdown",
   "id": "91cf6256",
   "metadata": {},
   "source": [
    "# itertools.product()"
   ]
  },
  {
   "cell_type": "code",
   "execution_count": 2,
   "id": "5cc2be63",
   "metadata": {},
   "outputs": [
    {
     "name": "stdout",
     "output_type": "stream",
     "text": [
      "1 2\n",
      "3 4\n",
      "(1, 3) (1, 4) (2, 3) (2, 4)\n"
     ]
    }
   ],
   "source": [
    "from itertools import product\n",
    "a = map(int, input().split())\n",
    "b = map(int, input().split())\n",
    "print(*product(a, b))"
   ]
  },
  {
   "cell_type": "code",
   "execution_count": null,
   "id": "76792ee2",
   "metadata": {},
   "outputs": [],
   "source": []
  },
  {
   "cell_type": "code",
   "execution_count": null,
   "id": "59f2af39",
   "metadata": {},
   "outputs": [],
   "source": []
  },
  {
   "cell_type": "code",
   "execution_count": null,
   "id": "b19d7ed2",
   "metadata": {},
   "outputs": [],
   "source": []
  },
  {
   "cell_type": "code",
   "execution_count": null,
   "id": "d1151c90",
   "metadata": {},
   "outputs": [],
   "source": []
  },
  {
   "cell_type": "markdown",
   "id": "411c6e6a",
   "metadata": {},
   "source": [
    "# CODE WARS\n"
   ]
  },
  {
   "cell_type": "code",
   "execution_count": null,
   "id": "d29429fa",
   "metadata": {},
   "outputs": [],
   "source": []
  }
 ],
 "metadata": {
  "kernelspec": {
   "display_name": "Python 3 (ipykernel)",
   "language": "python",
   "name": "python3"
  },
  "language_info": {
   "codemirror_mode": {
    "name": "ipython",
    "version": 3
   },
   "file_extension": ".py",
   "mimetype": "text/x-python",
   "name": "python",
   "nbconvert_exporter": "python",
   "pygments_lexer": "ipython3",
   "version": "3.10.6"
  },
  "vscode": {
   "interpreter": {
    "hash": "778e1c0d97e8ccb4447350f67267b8c90fb9bd4985834c68b4d2c59951ec2097"
   }
  }
 },
 "nbformat": 4,
 "nbformat_minor": 5
}
