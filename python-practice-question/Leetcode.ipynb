{
 "cells": [
  {
   "cell_type": "markdown",
   "id": "a48e4c9d",
   "metadata": {},
   "source": [
    "# W3 RESOURCE QUESTIONS"
   ]
  },
  {
   "cell_type": "markdown",
   "id": "4b3a423d",
   "metadata": {},
   "source": [
    "Write a Python program find a list of integers with exactly two occurrences \n",
    "of nineteen and at least three occurrences of five"
   ]
  },
  {
   "cell_type": "code",
   "execution_count": 50,
   "id": "329cac6e",
   "metadata": {},
   "outputs": [
    {
     "name": "stdout",
     "output_type": "stream",
     "text": [
      "True\n"
     ]
    }
   ],
   "source": [
    "def test(num):\n",
    "    return num.count(19)==2 and num.count(5)>=3\n",
    "num=[19,15,5,3,19,5,5,2]\n",
    "# num = [19,15,15,5,3,3,5,2]\n",
    "# num = [19,19,5,5,5,5,5]\n",
    "\n",
    "print(test(num))\n",
    "    "
   ]
  },
  {
   "cell_type": "code",
   "execution_count": 52,
   "id": "06aa9e27",
   "metadata": {},
   "outputs": [
    {
     "name": "stdout",
     "output_type": "stream",
     "text": [
      "Original list:\n",
      "[19, 19, 15, 5, 3, 5, 5, 2]\n",
      "Check two occurrences of nineteen and at least three occurrences of five in the said list:\n",
      "True\n",
      "\n",
      "Original list:\n",
      "[19, 15, 15, 5, 3, 3, 5, 2]\n",
      "Check two occurrences of nineteen and at least three occurrences of five in the said list:\n",
      "False\n",
      "\n",
      "Original list:\n",
      "[19, 19, 5, 5, 5, 5, 5]\n",
      "Check two occurrences of nineteen and at least three occurrences of five in the said list:\n",
      "True\n"
     ]
    }
   ],
   "source": [
    "#License: https://bit.ly/3oLErEI\n",
    "\n",
    "def test(nums):\n",
    "    return nums.count(19) == 2 and nums.count(5) >= 3\n",
    "nums = [19,19,15,5,3,5,5,2]\n",
    "print(\"Original list:\")\n",
    "print(nums)\n",
    "print(\"Check two occurrences of nineteen and at least three occurrences of five in the said list:\")\n",
    "print(test(nums))\n",
    "\n",
    "nums = [19,15,15,5,3,3,5,2]\n",
    "print(\"\\nOriginal list:\")\n",
    "print(nums)\n",
    "print(\"Check two occurrences of nineteen and at least three occurrences of five in the said list:\")\n",
    "print(test(nums))\n",
    "nums = [19,19,5,5,5,5,5]\n",
    "\n",
    "print(\"\\nOriginal list:\")\n",
    "print(nums)\n",
    "print(\"Check two occurrences of nineteen and at least three occurrences of five in the said list:\")\n",
    "print(test(nums))\n"
   ]
  },
  {
   "cell_type": "code",
   "execution_count": 73,
   "id": "a5f9e3b0",
   "metadata": {},
   "outputs": [
    {
     "name": "stdout",
     "output_type": "stream",
     "text": [
      "False\n"
     ]
    }
   ],
   "source": [
    "def check(num_lst):\n",
    "#     for i in range(len(num_lst)):\n",
    "#         if i==5:\n",
    "            return len(num_lst)==8 and num_lst.count(num_lst[4])==3\n",
    "# num_lst=[19, 19, 15,5, 5,  5, 1, 2]\n",
    "num_lst=[19, 15, 5, 7, 5, 5, 2]\n",
    "# num_lst=[11, 12, 14, 13, 14, 13, 15, 14]\n",
    "# num_lst=[19, 15, 11, 7, 5, 6, 2]\n",
    "\n",
    "print(check(num_lst))"
   ]
  },
  {
   "cell_type": "code",
   "execution_count": 89,
   "id": "d4615f72",
   "metadata": {},
   "outputs": [
    {
     "name": "stdout",
     "output_type": "stream",
     "text": [
      "{'g': 2, 'o': 3, 'l': 1, 'e': 1, '.': 1, 'c': 1, 'm': 1}\n"
     ]
    }
   ],
   "source": [
    "def char_count(SampleStr):\n",
    "    voidDict = {}\n",
    "#     print(dict)\n",
    "    for n in SampleStr:\n",
    "        keys = voidDict.keys()\n",
    "#         print(keys)\n",
    "        if n in keys:\n",
    "            voidDict[n] += 1\n",
    "        else:\n",
    "            voidDict[n] = 1\n",
    "    return voidDict\n",
    "print(char_count('google.com'))\n",
    "\n"
   ]
  },
  {
   "cell_type": "code",
   "execution_count": null,
   "id": "077f2f74",
   "metadata": {},
   "outputs": [],
   "source": []
  },
  {
   "cell_type": "code",
   "execution_count": 88,
   "id": "53491f32",
   "metadata": {},
   "outputs": [
    {
     "name": "stdout",
     "output_type": "stream",
     "text": [
      "{'g': 2, 'o': 3, 'l': 1, 'e': 1, '.': 1, 'c': 1, 'm': 1}\n"
     ]
    }
   ],
   "source": [
    "def char_frequency(str1):\n",
    "    dict = {}\n",
    "#     print(dict)\n",
    "    for n in str1:\n",
    "        keys = dict.keys()\n",
    "#         print(keys)\n",
    "        if n in keys:\n",
    "            dict[n] += 1\n",
    "        else:\n",
    "            dict[n] = 1\n",
    "    return dict\n",
    "print(char_frequency('google.com'))\n"
   ]
  },
  {
   "cell_type": "code",
   "execution_count": 29,
   "id": "8a956295",
   "metadata": {},
   "outputs": [
    {
     "name": "stdout",
     "output_type": "stream",
     "text": [
      "['Hey']\n"
     ]
    }
   ],
   "source": [
    "# for i in range(5):\n",
    "#     else:\n",
    "# #     if i%2==0:\n",
    "#         print(i)\n",
    "# else:\n",
    "#     print(\"hello\")\n",
    "l=['Hey', 'fellow', 'warriors']\n",
    "print(l[:1])"
   ]
  },
  {
   "cell_type": "code",
   "execution_count": 93,
   "id": "9118d49b",
   "metadata": {},
   "outputs": [
    {
     "ename": "SyntaxError",
     "evalue": "expected 'except' or 'finally' block (430099020.py, line 4)",
     "output_type": "error",
     "traceback": [
      "\u001b[1;36m  Input \u001b[1;32mIn [93]\u001b[1;36m\u001b[0m\n\u001b[1;33m    else:\u001b[0m\n\u001b[1;37m    ^\u001b[0m\n\u001b[1;31mSyntaxError\u001b[0m\u001b[1;31m:\u001b[0m expected 'except' or 'finally' block\n"
     ]
    }
   ],
   "source": [
    "# \n"
   ]
  },
  {
   "cell_type": "code",
   "execution_count": 47,
   "id": "6458e9a5",
   "metadata": {},
   "outputs": [
    {
     "name": "stdout",
     "output_type": "stream",
     "text": [
      "input => Hey fellow warriors\n",
      "output => Hey wollef sroirraw\n"
     ]
    }
   ],
   "source": [
    "# spinWords( \"Hey fellow warriors\" ) => returns \"Hey wollef sroirraw\" \n",
    "spinWords=\"Hey fellow warriors\"\n",
    "# spinWords=\"This is another test\"\n",
    "print(\"input =>\",spinWords)\n",
    "spin=spinWords.split()\n",
    "s=spin[1:]\n",
    "# print(s)\n",
    "l=spin[:1]\n",
    "# print(l)\n",
    "empty_list=[]\n",
    "for i in s:\n",
    "#     print(i)\n",
    "    if len(i)>=5:\n",
    "        reverse=i[::-1]\n",
    "        empty_list.append(reverse)\n",
    "# print(empty_list)\n",
    "main=l+empty_list\n",
    "# print(main)\n",
    "output=\" \".join(main)\n",
    "print(\"output =>\",output)"
   ]
  },
  {
   "cell_type": "code",
   "execution_count": 41,
   "id": "f71a200a",
   "metadata": {},
   "outputs": [
    {
     "name": "stdout",
     "output_type": "stream",
     "text": [
      "Hey fellow warriors\n"
     ]
    },
    {
     "data": {
      "text/plain": [
       "'Hey wollef sroirraw'"
      ]
     },
     "execution_count": 41,
     "metadata": {},
     "output_type": "execute_result"
    }
   ],
   "source": [
    "def spin_words(sentence):\n",
    "#     return sentence\n",
    "    spin=spinWords.split()\n",
    "    s=spin[1:]\n",
    "        # print(s)\n",
    "    l=spin[:1]\n",
    "        # print(l)\n",
    "    empty_list=[]\n",
    "    for i in s:\n",
    "            reverse=i[::-1]\n",
    "            empty_list.append(reverse)\n",
    "        # print(empty_list)\n",
    "    main=l+empty_list\n",
    "        # print(main)\n",
    "    output=\" \".join(main)\n",
    "    return output\n",
    "sentence=input()    \n",
    "spin_words(sentence)    "
   ]
  },
  {
   "cell_type": "markdown",
   "id": "1d02653b",
   "metadata": {},
   "source": [
    "# Sum of Numbers"
   ]
  },
  {
   "cell_type": "code",
   "execution_count": 13,
   "id": "87b04710",
   "metadata": {},
   "outputs": [
    {
     "name": "stdout",
     "output_type": "stream",
     "text": [
      "492\n"
     ]
    }
   ],
   "source": [
    "def sumnumbers(a,b):\n",
    "        if a==b:\n",
    "            print(a)\n",
    "        else:    \n",
    "            c=a+b\n",
    "            print(c)\n",
    "   \n",
    "# a=int(input())\n",
    "# b=int(input())\n",
    "sumnumbers(1130,-638)        "
   ]
  },
  {
   "cell_type": "code",
   "execution_count": 16,
   "id": "4c2c9849",
   "metadata": {},
   "outputs": [
    {
     "name": "stdout",
     "output_type": "stream",
     "text": [
      "1\n",
      "-2\n"
     ]
    },
    {
     "data": {
      "text/plain": [
       "-2"
      ]
     },
     "execution_count": 16,
     "metadata": {},
     "output_type": "execute_result"
    }
   ],
   "source": [
    "def addnumbers(a,b):\n",
    "    return sum(list(range(a, b+1))) if a < b else sum(list(range(b, a+1)))\n",
    "a=int(input())\n",
    "b=int(input())\n",
    "addnumbers(a,b)"
   ]
  },
  {
   "cell_type": "code",
   "execution_count": 9,
   "id": "c90b868f",
   "metadata": {},
   "outputs": [
    {
     "name": "stdout",
     "output_type": "stream",
     "text": [
      "ABAAAC\n",
      "2\n",
      "len 1\n",
      "temp ['A']\n",
      "len 2\n",
      "temp ['A', 'B']\n",
      "len_temp 2\n",
      "AB\n",
      "len 1\n",
      "temp ['A']\n",
      "len 2\n",
      "len_temp 2\n",
      "A\n",
      "len 1\n",
      "temp ['A']\n",
      "len 2\n",
      "temp ['A', 'C']\n",
      "len_temp 2\n",
      "AC\n"
     ]
    }
   ],
   "source": [
    "def merge_the_tools(string, k):\n",
    "    # your code goes here\n",
    "    temp = []\n",
    "    len_temp = 0\n",
    "    for item in string:\n",
    "        len_temp += 1\n",
    "        print('len',len_temp)\n",
    "        if item not in temp:\n",
    "            temp.append(item)\n",
    "            print('temp',temp)\n",
    "        if len_temp == k:\n",
    "            print('len_temp',len_temp)\n",
    "            print (''.join(temp))\n",
    "#             print('temp',temp)\n",
    "            temp = []\n",
    "            len_temp = 0\n",
    "string, k = input(), int(input())\n",
    "merge_the_tools(string, k)"
   ]
  },
  {
   "cell_type": "markdown",
   "id": "edce186d",
   "metadata": {},
   "source": [
    "###### d={'1':2,'2':3,'3':4}\n",
    "dic=sum(d.values())\n",
    "print(dic)"
   ]
  },
  {
   "cell_type": "code",
   "execution_count": 4,
   "id": "9606476f",
   "metadata": {},
   "outputs": [
    {
     "name": "stdout",
     "output_type": "stream",
     "text": [
      "10\n",
      "2 3 4 5 6 8 7 6 5 18\n",
      "6\n",
      "6 55\n",
      "6 45\n",
      "6 55\n",
      "4 40\n",
      "18 60\n",
      "10 50\n",
      "200\n"
     ]
    }
   ],
   "source": [
    "from collections import Counter\n",
    "X = int(input())\n",
    "N = map(int,input().split())\n",
    "x = int(input())\n",
    "L = map(tuple,(map(int,input().split()) for _ in range(x)))\n",
    "n = Counter(N)\n",
    "p =0\n",
    "for i in L:\n",
    "    if i[0] in n.keys() and n[i[0]] >0 :\n",
    "        n[i[0]] = n[i[0]]-1\n",
    "        p = p+i[1]\n",
    "          \n",
    "print(p)"
   ]
  },
  {
   "cell_type": "code",
   "execution_count": 5,
   "id": "31eb05be",
   "metadata": {},
   "outputs": [
    {
     "name": "stdout",
     "output_type": "stream",
     "text": [
      "5\n",
      "2 3 4 5 6 \n",
      "4\n",
      "2\n",
      "3\n",
      "4\n",
      "5\n",
      "6\n"
     ]
    }
   ],
   "source": [
    "X = int(input())\n",
    "N = map(int,input().split())\n",
    "commnads=int(input())\n",
    "for i in N:\n",
    "    if i==1"
   ]
  },
  {
   "cell_type": "code",
   "execution_count": 1,
   "id": "f2d39e2d",
   "metadata": {},
   "outputs": [
    {
     "name": "stdout",
     "output_type": "stream",
     "text": [
      "5\n",
      "2 3 4 5 6\n",
      "4\n",
      "remove\n"
     ]
    },
    {
     "ename": "IndexError",
     "evalue": "list index out of range",
     "output_type": "error",
     "traceback": [
      "\u001b[1;31m---------------------------------------------------------------------------\u001b[0m",
      "\u001b[1;31mIndexError\u001b[0m                                Traceback (most recent call last)",
      "Input \u001b[1;32mIn [1]\u001b[0m, in \u001b[0;36m<cell line: 5>\u001b[1;34m()\u001b[0m\n\u001b[0;32m      6\u001b[0m oper \u001b[38;5;241m=\u001b[39m \u001b[38;5;28minput\u001b[39m()\u001b[38;5;241m.\u001b[39msplit()\n\u001b[0;32m      7\u001b[0m \u001b[38;5;28;01mif\u001b[39;00m oper[\u001b[38;5;241m0\u001b[39m] \u001b[38;5;241m==\u001b[39m \u001b[38;5;124m\"\u001b[39m\u001b[38;5;124mremove\u001b[39m\u001b[38;5;124m\"\u001b[39m:\n\u001b[1;32m----> 8\u001b[0m   data\u001b[38;5;241m.\u001b[39mremove(\u001b[38;5;28mint\u001b[39m(\u001b[43moper\u001b[49m\u001b[43m[\u001b[49m\u001b[38;5;241;43m1\u001b[39;49m\u001b[43m]\u001b[49m))\n\u001b[0;32m      9\u001b[0m \u001b[38;5;28;01melif\u001b[39;00m oper[\u001b[38;5;241m0\u001b[39m] \u001b[38;5;241m==\u001b[39m \u001b[38;5;124m\"\u001b[39m\u001b[38;5;124mdiscard\u001b[39m\u001b[38;5;124m\"\u001b[39m:\n\u001b[0;32m     10\u001b[0m   data\u001b[38;5;241m.\u001b[39mdiscard(\u001b[38;5;28mint\u001b[39m(oper[\u001b[38;5;241m1\u001b[39m]))\n",
      "\u001b[1;31mIndexError\u001b[0m: list index out of range"
     ]
    }
   ],
   "source": [
    "num = int(input())\n",
    "data = set(map(int, input().split()))\n",
    "operations = int(input())\n",
    "\n",
    "for x in range(operations):\n",
    "  oper = input().split()\n",
    "  if oper[0] == \"remove\":\n",
    "    data.remove(int(oper[1]))\n",
    "  elif oper[0] == \"discard\":\n",
    "    data.discard(int(oper[1]))\n",
    "  else:\n",
    "    data.pop()\n",
    "    \n",
    "print(sum(data))"
   ]
  },
  {
   "cell_type": "code",
   "execution_count": 4,
   "id": "bd8145b4",
   "metadata": {},
   "outputs": [
    {
     "name": "stdout",
     "output_type": "stream",
     "text": [
      "5\n",
      "1 2 4 5 6\n",
      "3\n",
      "1\n",
      "2\n",
      "3\n",
      "18\n"
     ]
    }
   ],
   "source": [
    "n = int(input())\n",
    "s = set(map(int, input().split())) # Set of n elements\n",
    "\n",
    "for i in range(int(input())): # Iterate in range of the input num\n",
    "    s1 = input().split()\n",
    "    if s1[0] == 'pop':\n",
    "        s.pop()\n",
    "    elif s1[0] == 'remove':\n",
    "        s.remove(int(s1[1]))\n",
    "    elif s1[0] == 'discard':\n",
    "        s.discard(int(s1[1]))\n",
    "\n",
    "print(sum(s))\n"
   ]
  },
  {
   "cell_type": "code",
   "execution_count": 6,
   "id": "4ecaa4f7",
   "metadata": {},
   "outputs": [
    {
     "name": "stdout",
     "output_type": "stream",
     "text": [
      "{1, 2, 3, 4, 5, 6, 7, 8, 9, 10, 11, 21, 55}\n",
      "13\n"
     ]
    }
   ],
   "source": [
    "s1={1,2,3,4,5,6,7,8,9}\n",
    "s2={10,1,2,3,11,21,55,6,8}\n",
    "s3=s1.union(s2)\n",
    "print(s3)\n",
    "print(len(s3))"
   ]
  },
  {
   "cell_type": "code",
   "execution_count": 2,
   "id": "3eed2244",
   "metadata": {},
   "outputs": [
    {
     "name": "stdout",
     "output_type": "stream",
     "text": [
      "English newspaper student9\n",
      "9\n",
      "1 2 3 4 5 6 7 8 9 \n",
      "{1, 2, 3, 4, 5, 6, 7, 8, 9}\n",
      "french newspaper student9\n",
      "9\n",
      "10 1 2 3 11 21 55 6 8\n",
      "{1, 2, 3, 6, 8, 10, 11, 21, 55}\n",
      "13\n"
     ]
    }
   ],
   "source": [
    "n=int(input('English newspaper student'))\n",
    "print(n)\n",
    "s1 = set(map(int, input().split())) # Set of n elements\n",
    "print(s1)\n",
    "n=int(input('french newspaper student'))\n",
    "print(n)\n",
    "s2 = set(map(int, input().split())) # Set of n elements\n",
    "print(s2)\n",
    "s3=s2.union(s1)\n",
    "print(len(s3))"
   ]
  },
  {
   "cell_type": "code",
   "execution_count": 3,
   "id": "4efa5979",
   "metadata": {},
   "outputs": [
    {
     "name": "stdout",
     "output_type": "stream",
     "text": [
      "Number of student english newspaper9\n",
      "1 2 3 4 5 6 7 8 9\n"
     ]
    },
    {
     "ename": "TypeError",
     "evalue": "'builtin_function_or_method' object is not iterable",
     "output_type": "error",
     "traceback": [
      "\u001b[1;31m---------------------------------------------------------------------------\u001b[0m",
      "\u001b[1;31mTypeError\u001b[0m                                 Traceback (most recent call last)",
      "Input \u001b[1;32mIn [3]\u001b[0m, in \u001b[0;36m<cell line: 2>\u001b[1;34m()\u001b[0m\n\u001b[0;32m      1\u001b[0m stusent_english_newpaper\u001b[38;5;241m=\u001b[39m\u001b[38;5;28mint\u001b[39m(\u001b[38;5;28minput\u001b[39m(\u001b[38;5;124m'\u001b[39m\u001b[38;5;124mNumber of student english newspaper\u001b[39m\u001b[38;5;124m'\u001b[39m))\n\u001b[1;32m----> 2\u001b[0m s1\u001b[38;5;241m=\u001b[39m\u001b[38;5;28mset\u001b[39m(\u001b[38;5;28;43mmap\u001b[39;49m\u001b[43m(\u001b[49m\u001b[38;5;28;43mint\u001b[39;49m\u001b[43m,\u001b[49m\u001b[38;5;28;43minput\u001b[39;49m\u001b[43m(\u001b[49m\u001b[43m)\u001b[49m\u001b[38;5;241;43m.\u001b[39;49m\u001b[43msplit\u001b[49m\u001b[43m)\u001b[49m)\n\u001b[0;32m      3\u001b[0m stusent_french_newpaper\u001b[38;5;241m=\u001b[39m\u001b[38;5;28mint\u001b[39m(\u001b[38;5;28minput\u001b[39m(\u001b[38;5;124m'\u001b[39m\u001b[38;5;124mNumber of student french newspaper\u001b[39m\u001b[38;5;124m'\u001b[39m))\n\u001b[0;32m      4\u001b[0m s2\u001b[38;5;241m=\u001b[39m\u001b[38;5;28mset\u001b[39m(\u001b[38;5;28mmap\u001b[39m(\u001b[38;5;28mint\u001b[39m,\u001b[38;5;28minput\u001b[39m()\u001b[38;5;241m.\u001b[39msplit))\n",
      "\u001b[1;31mTypeError\u001b[0m: 'builtin_function_or_method' object is not iterable"
     ]
    }
   ],
   "source": [
    "stusent_english_newpaper=int(input('Number of student english newspaper'))\n",
    "s1=set(map(int,input().split))\n",
    "stusent_french_newpaper=int(input('Number of student french newspaper'))\n",
    "s2=set(map(int,input().split))\n",
    "s3=s2.union(s1)\n",
    "print(len(s3))"
   ]
  },
  {
   "cell_type": "code",
   "execution_count": 4,
   "id": "3db5cdd6",
   "metadata": {},
   "outputs": [
    {
     "name": "stdout",
     "output_type": "stream",
     "text": [
      "Number of student english newspaper9\n",
      "1 2 3 4 5 6 7 8 9\n",
      "Number of student french newspaper9\n",
      "10 1 2 3 11 21 55 6 8\n",
      "13\n"
     ]
    }
   ],
   "source": [
    "stusent_english_newpaper=int(input('Number of student english newspaper'))\n",
    "s1 = set(map(int, input().split()))\n",
    "stusent_french_newpaper=int(input('Number of student french newspaper'))\n",
    "s2 = set(map(int, input().split())) # Set of n elements\n",
    "s3=s2.union(s1)\n",
    "print('least one newspaper',len(s3))"
   ]
  },
  {
   "cell_type": "code",
   "execution_count": 5,
   "id": "923c4459",
   "metadata": {},
   "outputs": [
    {
     "name": "stdout",
     "output_type": "stream",
     "text": [
      "Number of student english newspaper9\n",
      "1 2 3 4 5 6 7 8 9\n",
      "Number of student french newspaper9\n",
      "10 1 2 3 11 21 55 6 8\n",
      "both English and French newspapers 5\n"
     ]
    }
   ],
   "source": [
    "student_english_newpaper=int(input('Number of student english newspaper'))\n",
    "s1 = set(map(int, input().split()))\n",
    "student_french_newpaper=int(input('Number of student french newspaper'))\n",
    "s2 = set(map(int, input().split())) # Set of n elements\n",
    "s3=s2.intersection(s1)\n",
    "print('both English and French newspapers',len(s3))"
   ]
  },
  {
   "cell_type": "code",
   "execution_count": 6,
   "id": "716ee18d",
   "metadata": {},
   "outputs": [
    {
     "name": "stdout",
     "output_type": "stream",
     "text": [
      "Number of student english newspaper9\n",
      "1 2 3 4 5 6 7 8 9\n",
      "Number of student french newspaper9\n",
      "10 1 2 3 11 21 55 6 8\n",
      "subscribed to only English newspapers 4\n"
     ]
    }
   ],
   "source": [
    "student_english_newpaper=int(input('Number of student english newspaper'))\n",
    "s1 = set(map(int, input().split()))\n",
    "student_french_newpaper=int(input('Number of student french newspaper'))\n",
    "s2 = set(map(int, input().split())) # Set of n elements\n",
    "s3=s1.difference(s2)\n",
    "print('subscribed to only English newspapers',len(s3))"
   ]
  },
  {
   "cell_type": "code",
   "execution_count": 7,
   "id": "40db8fb3",
   "metadata": {},
   "outputs": [
    {
     "name": "stdout",
     "output_type": "stream",
     "text": [
      "Number of student english newspaper9\n",
      "1 2 3 4 5 6 7 8 9\n",
      "Number of student french newspaper9 \n",
      "10 1 2 3 11 21 55 6 8\n",
      "English or the French newspaper but not both 8\n"
     ]
    }
   ],
   "source": [
    "student_english_newpaper=int(input('Number of student english newspaper'))\n",
    "s1 = set(map(int, input().split()))\n",
    "student_french_newpaper=int(input('Number of student french newspaper'))\n",
    "s2 = set(map(int, input().split())) # Set of n elements\n",
    "s3=s1.symmetric_difference(s2)\n",
    "print('English or the French newspaper but not both',len(s3))"
   ]
  },
  {
   "cell_type": "code",
   "execution_count": 12,
   "id": "25286ac1",
   "metadata": {
    "scrolled": true
   },
   "outputs": [
    {
     "name": "stdout",
     "output_type": "stream",
     "text": [
      "4\n",
      "abcd\n",
      "word before if abcd\n",
      "counter after else condition {'abcd': 1}\n",
      "words append ['abcd']\n",
      "bcde\n",
      "word before if bcde\n",
      "counter after else condition {'abcd': 1, 'bcde': 1}\n",
      "words append ['abcd', 'bcde']\n",
      "abcd\n",
      "word before if abcd\n",
      "counter after if condition {'abcd': 2, 'bcde': 1}\n",
      "def\n",
      "word before if def\n",
      "counter after else condition {'abcd': 2, 'bcde': 1, 'def': 1}\n",
      "words append ['abcd', 'bcde', 'def']\n",
      "3\n",
      "2 1 1\n"
     ]
    }
   ],
   "source": [
    "n = int(input().strip())\n",
    "counter = {}\n",
    "words = []\n",
    "for i in range(n):\n",
    "  word = input().strip()\n",
    "  print(\"word before if\",word)\n",
    "  if word in counter:\n",
    "    counter[word] += 1\n",
    "    print(\"counter after if condition\",counter)\n",
    "  else:\n",
    "    counter[word] = 1\n",
    "    print(\"counter after else condition\",counter)\n",
    "    words.append(word)\n",
    "    print(\"words append\",words)    \n",
    "print(len(words))\n",
    "print(' '.join([str(counter[word]) for word in words]))"
   ]
  },
  {
   "cell_type": "code",
   "execution_count": 13,
   "id": "fe00a4a7",
   "metadata": {},
   "outputs": [
    {
     "ename": "TypeError",
     "evalue": "unhashable type: 'list'",
     "output_type": "error",
     "traceback": [
      "\u001b[1;31m---------------------------------------------------------------------------\u001b[0m",
      "\u001b[1;31mTypeError\u001b[0m                                 Traceback (most recent call last)",
      "Input \u001b[1;32mIn [13]\u001b[0m, in \u001b[0;36m<cell line: 4>\u001b[1;34m()\u001b[0m\n\u001b[0;32m      4\u001b[0m \u001b[38;5;28;01mfor\u001b[39;00m i \u001b[38;5;129;01min\u001b[39;00m \u001b[38;5;28mrange\u001b[39m(n):\n\u001b[0;32m      5\u001b[0m   word \u001b[38;5;241m=\u001b[39m [\u001b[38;5;124m\"\u001b[39m\u001b[38;5;124mbcdef\u001b[39m\u001b[38;5;124m\"\u001b[39m,\u001b[38;5;124m\"\u001b[39m\u001b[38;5;124mabcd\u001b[39m\u001b[38;5;124m\"\u001b[39m,\u001b[38;5;124m\"\u001b[39m\u001b[38;5;124mcdef\u001b[39m\u001b[38;5;124m\"\u001b[39m,\u001b[38;5;124m\"\u001b[39m\u001b[38;5;124mbcdef\u001b[39m\u001b[38;5;124m\"\u001b[39m]\n\u001b[1;32m----> 6\u001b[0m   \u001b[38;5;28;01mif\u001b[39;00m \u001b[43mword\u001b[49m\u001b[43m \u001b[49m\u001b[38;5;129;43;01min\u001b[39;49;00m\u001b[43m \u001b[49m\u001b[43mcounter\u001b[49m:\n\u001b[0;32m      7\u001b[0m     counter[word] \u001b[38;5;241m+\u001b[39m\u001b[38;5;241m=\u001b[39m \u001b[38;5;241m1\u001b[39m\n\u001b[0;32m      8\u001b[0m   \u001b[38;5;28;01melse\u001b[39;00m:\n",
      "\u001b[1;31mTypeError\u001b[0m: unhashable type: 'list'"
     ]
    }
   ],
   "source": [
    "n = 4\n",
    "counter = {}\n",
    "words = []\n",
    "for i in range(n):\n",
    "  word = [\"bcdef\",\"abcd\",\"cdef\",\"bcdef\"]\n",
    "  if word in counter:\n",
    "    counter[word] += 1\n",
    "  else:\n",
    "    counter[word] = 1\n",
    "    words.append(word)\n",
    "    \n",
    "print(len(words))\n",
    "print(' '.join([str(counter[word]) for word in words]))\n"
   ]
  },
  {
   "cell_type": "code",
   "execution_count": 15,
   "id": "51959130",
   "metadata": {},
   "outputs": [
    {
     "name": "stdout",
     "output_type": "stream",
     "text": [
      "a b c d\n",
      "a b c d\n"
     ]
    }
   ],
   "source": [
    "word = input().strip()\n",
    "print(word)"
   ]
  },
  {
   "cell_type": "code",
   "execution_count": 24,
   "id": "10307e4e",
   "metadata": {},
   "outputs": [
    {
     "name": "stdout",
     "output_type": "stream",
     "text": [
      "M4\n",
      "2 4 5 9\n",
      "N4\n",
      "2 4 11 12\n",
      "5\n",
      "9\n",
      "11\n",
      "12\n"
     ]
    }
   ],
   "source": [
    "M=int(input('M'))\n",
    "seta = set(map(int, input().split()))\n",
    "N=int(input('N'))\n",
    "setb = set(map(int, input().split())) # Set of n elements\n",
    "setc=seta.symmetric_difference(setb)\n",
    "castlist=list(setc)\n",
    "castlist.sort()\n",
    "for i in castlist:\n",
    "    print(i)"
   ]
  },
  {
   "cell_type": "code",
   "execution_count": 22,
   "id": "983fbbcf",
   "metadata": {},
   "outputs": [
    {
     "name": "stdout",
     "output_type": "stream",
     "text": [
      "[5, 9, 11, 12]\n"
     ]
    }
   ],
   "source": [
    "s={5, 9, 11, 12}\n",
    "l=list(s)\n",
    "l.sort()\n",
    "print(l)"
   ]
  },
  {
   "cell_type": "code",
   "execution_count": null,
   "id": "636d7b42",
   "metadata": {},
   "outputs": [],
   "source": []
  }
 ],
 "metadata": {
  "kernelspec": {
   "display_name": "Python 3 (ipykernel)",
   "language": "python",
   "name": "python3"
  },
  "language_info": {
   "codemirror_mode": {
    "name": "ipython",
    "version": 3
   },
   "file_extension": ".py",
   "mimetype": "text/x-python",
   "name": "python",
   "nbconvert_exporter": "python",
   "pygments_lexer": "ipython3",
   "version": "3.10.6"
  }
 },
 "nbformat": 4,
 "nbformat_minor": 5
}
