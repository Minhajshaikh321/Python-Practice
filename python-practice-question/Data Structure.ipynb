{
 "cells": [
  {
   "cell_type": "markdown",
   "id": "0d39f023",
   "metadata": {},
   "source": [
    "# Array"
   ]
  },
  {
   "cell_type": "code",
   "execution_count": 8,
   "id": "e287e64e",
   "metadata": {},
   "outputs": [
    {
     "name": "stdout",
     "output_type": "stream",
     "text": [
      "array('i', [10, 20, 30])\n",
      "10\n",
      "20\n",
      "30\n",
      "30\n",
      "20\n",
      "10\n"
     ]
    }
   ],
   "source": [
    "import array as arr \n",
    "\n",
    "numbers = arr.array('i',[10,20,30])\n",
    "\n",
    "\n",
    "print(numbers)\n",
    "print(numbers[0]) # gets the 1st element\n",
    "print(numbers[1]) # gets the 2nd element\n",
    "print(numbers[2]) # gets the 3rd element\n",
    "\n",
    "print(numbers[-1]) #gets last item\n",
    "print(numbers[-2]) #gets second last item\n",
    "print(numbers[-3]) #gets third last item"
   ]
  },
  {
   "cell_type": "code",
   "execution_count": null,
   "id": "41d41ce8",
   "metadata": {},
   "outputs": [],
   "source": []
  },
  {
   "cell_type": "code",
   "execution_count": null,
   "id": "40cfc089",
   "metadata": {},
   "outputs": [],
   "source": []
  },
  {
   "cell_type": "code",
   "execution_count": null,
   "id": "bee8eca0",
   "metadata": {},
   "outputs": [],
   "source": []
  },
  {
   "cell_type": "code",
   "execution_count": null,
   "id": "b36a0db3",
   "metadata": {},
   "outputs": [],
   "source": []
  },
  {
   "cell_type": "code",
   "execution_count": null,
   "id": "dc00d4f8",
   "metadata": {},
   "outputs": [],
   "source": []
  },
  {
   "cell_type": "code",
   "execution_count": null,
   "id": "94eb8bdd",
   "metadata": {},
   "outputs": [],
   "source": []
  }
 ],
 "metadata": {
  "kernelspec": {
   "display_name": "Python 3 (ipykernel)",
   "language": "python",
   "name": "python3"
  },
  "language_info": {
   "codemirror_mode": {
    "name": "ipython",
    "version": 3
   },
   "file_extension": ".py",
   "mimetype": "text/x-python",
   "name": "python",
   "nbconvert_exporter": "python",
   "pygments_lexer": "ipython3",
   "version": "3.10.6"
  }
 },
 "nbformat": 4,
 "nbformat_minor": 5
}
