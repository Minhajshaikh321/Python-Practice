{
 "cells": [
  {
   "cell_type": "markdown",
   "id": "21845931",
   "metadata": {},
   "source": [
    "# LEETCODE QN"
   ]
  },
  {
   "cell_type": "code",
   "execution_count": 2,
   "id": "485c1488",
   "metadata": {},
   "outputs": [
    {
     "name": "stdout",
     "output_type": "stream",
     "text": [
      "5\n",
      "herry\n",
      "37.21\n",
      "tina\n",
      "35.2\n",
      "berry\n",
      "37.21\n",
      "albert\n",
      "41\n",
      "harsh\n",
      "39\n",
      "berry\n",
      "herry\n"
     ]
    }
   ],
   "source": [
    "Result =[]\n",
    "scorelist = []\n",
    "\n",
    "if __name__ == '__main__':\n",
    "    for _ in range(int(input())):\n",
    "        name = input()\n",
    "        score = float(input())\n",
    "        \n",
    "        Result+=[[name,score]]\n",
    "#         print('result ++',Result)\n",
    "        scorelist+=[score]\n",
    "#         print('scorelist ++',scorelist)\n",
    "        \n",
    "    b=sorted(list(set(scorelist)))[1] \n",
    "#     print('sorted list of b',b)\n",
    "\n",
    "    for a,c in sorted(Result):\n",
    "        if c==b:\n",
    "            print(a)"
   ]
  },
  {
   "cell_type": "code",
   "execution_count": 24,
   "id": "a191411d",
   "metadata": {},
   "outputs": [
    {
     "name": "stdout",
     "output_type": "stream",
     "text": [
      "5\n",
      "herry\n",
      "37.21\n",
      "berry\n",
      "37.21\n",
      "tina\n",
      "37.2\n",
      "arti\n",
      "41\n",
      "harsh\n",
      "39\n",
      "berry\n",
      "herry\n"
     ]
    }
   ],
   "source": [
    "Result =[]\n",
    "scorelist = []\n",
    "\n",
    "if __name__ == '__main__':\n",
    "    for _ in range(int(input())):\n",
    "        name = input()\n",
    "        score = float(input())\n",
    "        Result+=[[name,score]]\n",
    "        scorelist+=[score]\n",
    "    b=sorted(list(set(scorelist)))[1] \n",
    "\n",
    "    for a,c in sorted(Result):\n",
    "        if c==b:\n",
    "            print(a)\n",
    "            "
   ]
  },
  {
   "cell_type": "code",
   "execution_count": 21,
   "id": "c9ec056a",
   "metadata": {},
   "outputs": [
    {
     "name": "stdout",
     "output_type": "stream",
     "text": [
      "[40.6, 37.0, 35.2, 20.9]\n",
      "37.0\n",
      "[['albert', 40.6], ['berry', 37.0], ['harsh', 20.9], ['herry', 37.0], ['tina', 35.2]]\n",
      "['u', 'o', 'i', 'e', 'a']\n"
     ]
    }
   ],
   "source": [
    "scorelist=[37.0, 37.0, 35.2, 40.6, 20.9]\n",
    "b=sorted(list(set(scorelist)),reverse=True)\n",
    "print(b)\n",
    "print(b[1])\n",
    "Resultss=[['herry', 37.0], ['berry', 37.0], ['tina', 35.2], ['albert', 40.6], ['harsh', 20.9]]\n",
    "print(sorted(Resultss))\n",
    "\n",
    "# for a,c in sorted(Resultss):\n",
    "# #         print(Resultss)\n",
    "#         if c==35.2:\n",
    "#             print(c)\n",
    "#             print(a)\n",
    "py_set = {'e', 'a', 'u', 'o', 'i'}\n",
    "print(sorted(py_set, reverse=True))"
   ]
  },
  {
   "cell_type": "code",
   "execution_count": 26,
   "id": "6121dc63",
   "metadata": {},
   "outputs": [
    {
     "name": "stdout",
     "output_type": "stream",
     "text": [
      "2\n",
      "hhh 11 12 13\n",
      "student_mark {'hhh': [11.0, 12.0, 13.0]}\n",
      "nnn 21 22 23\n",
      "student_mark {'hhh': [11.0, 12.0, 13.0], 'nnn': [21.0, 22.0, 23.0]}\n",
      "hhh\n",
      "12.000\n"
     ]
    }
   ],
   "source": [
    "if __name__ == '__main__':\n",
    "    n = int(input())\n",
    "    student_marks = {}\n",
    "    for _ in range(n):\n",
    "        name, *line = input().split()\n",
    "        scores = list(map(float, line))\n",
    "        student_marks[name] = scores\n",
    "        print('student_mark',student_marks)\n",
    "    query_name = input()\n",
    "\n",
    "    print(\"%.03f\" % (sum(student_marks[query_name]) / 3))"
   ]
  },
  {
   "cell_type": "markdown",
   "id": "c69e631f",
   "metadata": {},
   "source": [
    "# HACKER RANK QN"
   ]
  },
  {
   "cell_type": "markdown",
   "id": "b58a2906",
   "metadata": {},
   "source": [
    "# Say \"Hello, World!\" With Python"
   ]
  },
  {
   "cell_type": "code",
   "execution_count": 1,
   "id": "3f734d50",
   "metadata": {},
   "outputs": [
    {
     "name": "stdout",
     "output_type": "stream",
     "text": [
      "Hello, World!\n"
     ]
    }
   ],
   "source": [
    "if __name__ == '__main__':\n",
    "    print(\"Hello, World!\")"
   ]
  },
  {
   "cell_type": "markdown",
   "id": "68217bd4",
   "metadata": {},
   "source": [
    "# Python If-Else"
   ]
  },
  {
   "cell_type": "code",
   "execution_count": 10,
   "id": "699dbaab",
   "metadata": {},
   "outputs": [
    {
     "name": "stdout",
     "output_type": "stream",
     "text": [
      "22\n",
      "Not Weird\n"
     ]
    }
   ],
   "source": [
    "n=int(input())\n",
    "if n%2:\n",
    "    print(\"Weird\")\n",
    "elif (n>=2 and n<=5):\n",
    "    print(\"Not Weird\")\n",
    "elif (n>=6 and n<=20):\n",
    "    print(\"Weird\")\n",
    "else:\n",
    "    print(\"Not Weird\")\n",
    "    "
   ]
  },
  {
   "cell_type": "markdown",
   "id": "6a9b5a02",
   "metadata": {},
   "source": [
    "# Arithmetic operators"
   ]
  },
  {
   "cell_type": "code",
   "execution_count": 11,
   "id": "20f049aa",
   "metadata": {},
   "outputs": [
    {
     "name": "stdout",
     "output_type": "stream",
     "text": [
      "3\n",
      "2\n",
      "5\n",
      "1\n",
      "6\n"
     ]
    }
   ],
   "source": [
    "if __name__ == '__main__':\n",
    "    a = int(input())\n",
    "    b = int(input())\n",
    "    print(a+b)\n",
    "    print(a-b)\n",
    "    print(a*b)"
   ]
  },
  {
   "cell_type": "markdown",
   "id": "1aff179c",
   "metadata": {},
   "source": [
    "# Python Division"
   ]
  },
  {
   "cell_type": "code",
   "execution_count": 14,
   "id": "20ab60a4",
   "metadata": {},
   "outputs": [
    {
     "name": "stdout",
     "output_type": "stream",
     "text": [
      "3\n",
      "5\n",
      "0\n",
      "0.6\n"
     ]
    }
   ],
   "source": [
    "if __name__ == '__main__':\n",
    "    a = int(input())\n",
    "    b = int(input())\n",
    "    print(a//b)\n",
    "    print(a/b)"
   ]
  },
  {
   "cell_type": "markdown",
   "id": "82bf24f0",
   "metadata": {},
   "source": [
    "# python loop"
   ]
  },
  {
   "cell_type": "code",
   "execution_count": 16,
   "id": "51829e81",
   "metadata": {},
   "outputs": [
    {
     "name": "stdout",
     "output_type": "stream",
     "text": [
      "3\n",
      "0\n",
      "1\n",
      "4\n"
     ]
    }
   ],
   "source": [
    "if __name__ == '__main__':\n",
    "    n = int(input())\n",
    "    for i in range(n):\n",
    "        print(i**2)"
   ]
  },
  {
   "cell_type": "markdown",
   "id": "6b24cd98",
   "metadata": {},
   "source": [
    "# python function"
   ]
  },
  {
   "cell_type": "code",
   "execution_count": 33,
   "id": "7cb0121a",
   "metadata": {},
   "outputs": [
    {
     "name": "stdout",
     "output_type": "stream",
     "text": [
      "3\n",
      "123"
     ]
    }
   ],
   "source": [
    "n=int(input())\n",
    "e=[]\n",
    "for i in range(1,n+1):\n",
    "    print(i,end='')"
   ]
  },
  {
   "cell_type": "markdown",
   "id": "c21d93a2",
   "metadata": {},
   "source": [
    "# merged tools"
   ]
  },
  {
   "cell_type": "code",
   "execution_count": 2,
   "id": "0fd27656",
   "metadata": {},
   "outputs": [
    {
     "name": "stdout",
     "output_type": "stream",
     "text": [
      "aaabbbccccdd\n",
      "2\n",
      "a\n",
      "ab\n",
      "b\n",
      "c\n",
      "c\n",
      "d\n"
     ]
    }
   ],
   "source": [
    "def merge_the_tools(string, k):\n",
    "    # your code goes here\n",
    "    temp = []\n",
    "    len_temp = 0\n",
    "    for item in string:\n",
    "        len_temp += 1\n",
    "#         print('len',len_temp)\n",
    "        if item not in temp:\n",
    "            temp.append(item)\n",
    "#             print('temp',temp)\n",
    "        if len_temp == k:\n",
    "#             print('len_temp',len_temp)\n",
    "            print (''.join(temp))\n",
    "#             print('temp',temp)\n",
    "            temp = []\n",
    "            len_temp = 0\n",
    "string, k = input(), int(input())\n",
    "merge_the_tools(string, k)"
   ]
  },
  {
   "cell_type": "markdown",
   "id": "55585a72",
   "metadata": {},
   "source": [
    "# compnay logo\n"
   ]
  },
  {
   "cell_type": "code",
   "execution_count": 1,
   "id": "87967894",
   "metadata": {},
   "outputs": [
    {
     "name": "stdout",
     "output_type": "stream",
     "text": [
      "aaabbbbbbccccss\n",
      "b 6\n",
      "c 4\n",
      "a 3\n"
     ]
    }
   ],
   "source": [
    "from collections import Counter\n",
    "\n",
    "s = input()\n",
    "s=sorted(s)\n",
    "frequency=Counter(list(s))\n",
    "for k,v in frequency.most_common(3):\n",
    "    print(k,v)\n"
   ]
  },
  {
   "cell_type": "markdown",
   "id": "f810e8fc",
   "metadata": {},
   "source": [
    "# word order"
   ]
  },
  {
   "cell_type": "code",
   "execution_count": 1,
   "id": "2d60df34",
   "metadata": {},
   "outputs": [
    {
     "name": "stdout",
     "output_type": "stream",
     "text": [
      "4\n",
      "abcdef\n",
      "bced\n",
      "abcdef\n",
      "abc\n",
      "3\n",
      "2 1 1\n"
     ]
    }
   ],
   "source": [
    "n = int(input().strip())\n",
    "counter = {}\n",
    "words = []\n",
    "for i in range(n):\n",
    "  word = input().strip()\n",
    "  if word in counter:\n",
    "    counter[word] += 1\n",
    "  else:\n",
    "    counter[word] = 1\n",
    "    words.append(word)\n",
    "    \n",
    "print(len(words))\n",
    "print(' '.join([str(counter[word]) for word in words]))\n"
   ]
  },
  {
   "cell_type": "markdown",
   "id": "91cf6256",
   "metadata": {},
   "source": [
    "# itertools.product()"
   ]
  },
  {
   "cell_type": "code",
   "execution_count": 2,
   "id": "5cc2be63",
   "metadata": {},
   "outputs": [
    {
     "name": "stdout",
     "output_type": "stream",
     "text": [
      "1 2\n",
      "3 4\n",
      "(1, 3) (1, 4) (2, 3) (2, 4)\n"
     ]
    }
   ],
   "source": [
    "from itertools import product\n",
    "a = map(int, input().split())\n",
    "b = map(int, input().split())\n",
    "print(*product(a, b))"
   ]
  },
  {
   "cell_type": "markdown",
   "id": "d1f6c6b0",
   "metadata": {},
   "source": [
    "# swapcase"
   ]
  },
  {
   "cell_type": "code",
   "execution_count": 8,
   "id": "76792ee2",
   "metadata": {},
   "outputs": [
    {
     "name": "stdout",
     "output_type": "stream",
     "text": [
      "hACKERrANK.COM PRESENTS pYTHONIST 2\n"
     ]
    }
   ],
   "source": [
    "def swap_case(s):\n",
    "    result = []\n",
    "    for letter in s:\n",
    "        if letter == letter.lower():\n",
    "            result.append(letter.upper())\n",
    "        elif letter == letter.upper():\n",
    "            result.append(letter.lower())\n",
    "        else:\n",
    "            result.append(letter)\n",
    "    return ''.join(result)\n",
    "print(swap_case(\"HackerRank.com presents Pythonist 2\"))"
   ]
  },
  {
   "cell_type": "code",
   "execution_count": 6,
   "id": "59f2af39",
   "metadata": {},
   "outputs": [
    {
     "name": "stdout",
     "output_type": "stream",
     "text": [
      "hACKERrANK.COM PRESENTS pYTHONIST 2\n"
     ]
    }
   ],
   "source": [
    "SWAP=\"HackerRank.com presents Pythonist 2\"\n",
    "X=SWAP.swapcase()\n",
    "print(X)\n"
   ]
  },
  {
   "cell_type": "code",
   "execution_count": null,
   "id": "b19d7ed2",
   "metadata": {},
   "outputs": [],
   "source": [
    "string split join"
   ]
  },
  {
   "cell_type": "code",
   "execution_count": 1,
   "id": "d1151c90",
   "metadata": {},
   "outputs": [
    {
     "name": "stdout",
     "output_type": "stream",
     "text": [
      "['this', 'is', 'a', 'string']\n",
      "this-is-a-string\n"
     ]
    }
   ],
   "source": [
    "l=\"this is a string\"\n",
    "m=l.split()\n",
    "print(m)\n",
    "s=[]\n",
    "for i in m:\n",
    "    s.append(i)\n",
    "    t=\"-\".join(s)\n",
    "print(t)"
   ]
  },
  {
   "cell_type": "code",
   "execution_count": 17,
   "id": "81c81398",
   "metadata": {},
   "outputs": [
    {
     "name": "stdout",
     "output_type": "stream",
     "text": [
      "this is qns\n",
      "this-is-qns\n"
     ]
    }
   ],
   "source": [
    "def splitJoin(line):\n",
    "    return line.replace(' ','-')\n",
    "\n",
    "\n",
    "line=input()\n",
    "result=splitJoin(line)\n",
    "print(result)"
   ]
  },
  {
   "cell_type": "code",
   "execution_count": null,
   "id": "a7ab4a47",
   "metadata": {},
   "outputs": [],
   "source": [
    "whats your name"
   ]
  },
  {
   "cell_type": "code",
   "execution_count": 18,
   "id": "c82f6a70",
   "metadata": {},
   "outputs": [
    {
     "name": "stdout",
     "output_type": "stream",
     "text": [
      "Ross\n",
      "Tatlor\n"
     ]
    },
    {
     "data": {
      "text/plain": [
       "'Hello Ross Tatlor! You just delved into python'"
      ]
     },
     "execution_count": 18,
     "metadata": {},
     "output_type": "execute_result"
    }
   ],
   "source": [
    "def print_full_name(first, last):\n",
    "    c=\"Hello {0} {1}! You just delved into python\".format(first_name,last_name)\n",
    "    return c\n",
    "\n",
    "\n",
    "    # Write your code here\n",
    "\n",
    "first_name = input()\n",
    "last_name = input()\n",
    "print_full_name(first_name, last_name)"
   ]
  },
  {
   "cell_type": "code",
   "execution_count": 20,
   "id": "e40e041d",
   "metadata": {},
   "outputs": [
    {
     "name": "stdout",
     "output_type": "stream",
     "text": [
      "ABCDCDC\n",
      "CDC\n",
      "1\n"
     ]
    }
   ],
   "source": [
    "def count_substring(string, sub_string):\n",
    "#     a=\"Suraiya is my friend,Suraiya is a mad girl and suraiya is learning coding in mcc\"\n",
    "    x=string.count(sub_string)\n",
    "#     print(x)\n",
    "    return x\n",
    "\n",
    "string = input().strip()\n",
    "sub_string = input().strip()\n",
    "    \n",
    "count = count_substring(string, sub_string)\n",
    "print(count)"
   ]
  },
  {
   "cell_type": "code",
   "execution_count": null,
   "id": "b7bfe422",
   "metadata": {},
   "outputs": [],
   "source": []
  },
  {
   "cell_type": "code",
   "execution_count": null,
   "id": "da881e86",
   "metadata": {},
   "outputs": [
    {
     "name": "stdout",
     "output_type": "stream",
     "text": [
      "12\n",
      "insert 1 2\n"
     ]
    }
   ],
   "source": [
    "if __name__ == '__main__':\n",
    "    N = int(input())\n",
    "    L=[];\n",
    "    for i in range(0,N):\n",
    "        cmd=input().split();\n",
    "        if cmd[0] == \"insert\":\n",
    "            L.insert(int(cmd[1]),int(cmd[2]))\n",
    "        elif cmd[0] == \"append\":\n",
    "            L.append(int(cmd[1]))\n",
    "        elif cmd[0] == \"pop\":\n",
    "            L.pop();\n",
    "        elif cmd[0] == \"print\":\n",
    "            print(L)\n",
    "        elif cmd[0] == \"remove\":\n",
    "            L.remove(int(cmd[1]))\n",
    "        elif cmd[0] == \"sort\":\n",
    "            L.sort();\n",
    "        else:\n",
    "            L.reverse();"
   ]
  },
  {
   "cell_type": "code",
   "execution_count": 1,
   "id": "6c8fef93",
   "metadata": {},
   "outputs": [
    {
     "name": "stdout",
     "output_type": "stream",
     "text": [
      "2\n",
      "1 2 3 4 5\n"
     ]
    },
    {
     "ename": "TypeError",
     "evalue": "unhashable type: 'list'",
     "output_type": "error",
     "traceback": [
      "\u001b[1;31m---------------------------------------------------------------------------\u001b[0m",
      "\u001b[1;31mTypeError\u001b[0m                                 Traceback (most recent call last)",
      "Cell \u001b[1;32mIn[1], line 6\u001b[0m\n\u001b[0;32m      4\u001b[0m \u001b[38;5;28;01mfor\u001b[39;00m i \u001b[38;5;129;01min\u001b[39;00m \u001b[38;5;28mrange\u001b[39m(\u001b[38;5;241m0\u001b[39m,I):\n\u001b[0;32m      5\u001b[0m     cd\u001b[38;5;241m=\u001b[39m\u001b[38;5;28minput\u001b[39m()\u001b[38;5;241m.\u001b[39msplit();\n\u001b[1;32m----> 6\u001b[0m     \u001b[43mS\u001b[49m\u001b[38;5;241;43m.\u001b[39;49m\u001b[43madd\u001b[49m\u001b[43m(\u001b[49m\u001b[43mcd\u001b[49m\u001b[43m)\u001b[49m\n\u001b[0;32m      7\u001b[0m     \u001b[38;5;28;01mif\u001b[39;00m cd[\u001b[38;5;241m0\u001b[39m] \u001b[38;5;241m==\u001b[39m \u001b[38;5;124m\"\u001b[39m\u001b[38;5;124mpop\u001b[39m\u001b[38;5;124m\"\u001b[39m:\n\u001b[0;32m      8\u001b[0m         S\u001b[38;5;241m.\u001b[39mpop();\n",
      "\u001b[1;31mTypeError\u001b[0m: unhashable type: 'list'"
     ]
    }
   ],
   "source": [
    "if __name__=='__main__':\n",
    "    I = int(input())\n",
    "    S=set();\n",
    "    for i in range(0,I):\n",
    "        cd=input().split();\n",
    "        S.add(cd)\n",
    "        if cd[0] == \"pop\":\n",
    "            S.pop();\n",
    "        elif cd[0] == \"remove\":\n",
    "            S.remove(int(cd[1]))\n",
    "        elif cd[0] == \"discard\":\n",
    "            S.discard(int(cd[1]))\n",
    "        elif cd[0] == \"print\":\n",
    "            print(S)\n",
    "\n",
    "# s = set([1, 2, 3, 4, 5, 6, 7, 8, 9])\n",
    "# s.pop()\n",
    "# s.remove(9)\n",
    "# s.discard(9)\n",
    "# s.discard(8)\n",
    "# s.remove(7)\n",
    "# s.pop()\n",
    "# s.discard(6)\n",
    "# s.remove(5)\n",
    "# s.pop()\n",
    "# s.discard(5)\n",
    "\n",
    "# print(s)"
   ]
  },
  {
   "cell_type": "code",
   "execution_count": 1,
   "id": "f88c90fe",
   "metadata": {},
   "outputs": [
    {
     "name": "stdout",
     "output_type": "stream",
     "text": [
      "10\n",
      "1 2 3 4 5 6 7 8 9\n",
      "pop\n"
     ]
    },
    {
     "ename": "ValueError",
     "evalue": "invalid literal for int() with base 10: 'pop'",
     "output_type": "error",
     "traceback": [
      "\u001b[1;31m---------------------------------------------------------------------------\u001b[0m",
      "\u001b[1;31mValueError\u001b[0m                                Traceback (most recent call last)",
      "Cell \u001b[1;32mIn[1], line 3\u001b[0m\n\u001b[0;32m      1\u001b[0m n \u001b[38;5;241m=\u001b[39m \u001b[38;5;28mint\u001b[39m(\u001b[38;5;28minput\u001b[39m())\n\u001b[0;32m      2\u001b[0m s \u001b[38;5;241m=\u001b[39m \u001b[38;5;28mset\u001b[39m(\u001b[38;5;28mmap\u001b[39m(\u001b[38;5;28mint\u001b[39m,\u001b[38;5;28minput\u001b[39m()\u001b[38;5;241m.\u001b[39msplit()))\n\u001b[1;32m----> 3\u001b[0m num \u001b[38;5;241m=\u001b[39m \u001b[38;5;28;43mint\u001b[39;49m\u001b[43m(\u001b[49m\u001b[38;5;28;43minput\u001b[39;49m\u001b[43m(\u001b[49m\u001b[43m)\u001b[49m\u001b[43m)\u001b[49m\n\u001b[0;32m      4\u001b[0m \u001b[38;5;28;01mfor\u001b[39;00m i \u001b[38;5;129;01min\u001b[39;00m \u001b[38;5;28mrange\u001b[39m(num):\n\u001b[0;32m      5\u001b[0m     ip \u001b[38;5;241m=\u001b[39m \u001b[38;5;28minput\u001b[39m()\u001b[38;5;241m.\u001b[39msplit()\n",
      "\u001b[1;31mValueError\u001b[0m: invalid literal for int() with base 10: 'pop'"
     ]
    }
   ],
   "source": [
    "n = int(input())\n",
    "s = set(map(int,input().split()))\n",
    "num = int(input())\n",
    "for i in range(num):\n",
    "    ip = input().split()\n",
    "    if ip[0]==\"remove\":\n",
    "        s.remove(int(ip[1]))\n",
    "    elif ip[0]==\"discard\":\n",
    "        s.discard(int(ip[1]))\n",
    "    else :\n",
    "        s.pop()\n",
    "print(sum(list(s)))\n"
   ]
  },
  {
   "cell_type": "code",
   "execution_count": 3,
   "id": "35367ed3",
   "metadata": {},
   "outputs": [
    {
     "name": "stdout",
     "output_type": "stream",
     "text": [
      "3\n",
      "1 2 3\n"
     ]
    }
   ],
   "source": [
    "n = int(input())\n",
    "arr = map(int, input().split())\n",
    "a=0\n",
    "for i in arr:\n",
    "    if i<a:\n",
    "        i==a\n",
    "        print(i)"
   ]
  },
  {
   "cell_type": "code",
   "execution_count": 5,
   "id": "9a4c050e",
   "metadata": {},
   "outputs": [
    {
     "data": {
      "text/plain": [
       "(17, 7)"
      ]
     },
     "execution_count": 5,
     "metadata": {},
     "output_type": "execute_result"
    }
   ],
   "source": [
    "def divmod(a,b):\n",
    "    c=a//b\n",
    "    d=a%b\n",
    "    return (c,d)\n",
    "\n",
    "\n",
    "divmod(177,10)"
   ]
  },
  {
   "cell_type": "code",
   "execution_count": 2,
   "id": "318cbe17",
   "metadata": {},
   "outputs": [
    {
     "name": "stdout",
     "output_type": "stream",
     "text": [
      "1 2 3 5 3 \n",
      "['1', '2', '3', '5', '3']\n",
      "{'1', '5', '2', '3'}\n"
     ]
    }
   ],
   "source": [
    "\n",
    "s=input().split();\n",
    "print(s)\n",
    "print(set(s))"
   ]
  },
  {
   "cell_type": "code",
   "execution_count": null,
   "id": "750ad03a",
   "metadata": {},
   "outputs": [
    {
     "name": "stdout",
     "output_type": "stream",
     "text": [
      "3\n",
      "1 2 3\n",
      "3\n"
     ]
    }
   ],
   "source": [
    "N = int(input())\n",
    "# s=set()\n",
    "for i in range(0,N):\n",
    "        st=input().split();\n",
    "        lenset=len(st)\n",
    "#         sumset=sum(int(st))\n",
    "        print(lenset)\n",
    "#         print(sumset)\n",
    "        \n",
    "        \n",
    "        \n"
   ]
  },
  {
   "cell_type": "code",
   "execution_count": 6,
   "id": "209d885e",
   "metadata": {},
   "outputs": [
    {
     "name": "stdout",
     "output_type": "stream",
     "text": [
      "4\n"
     ]
    }
   ],
   "source": [
    "for i in range(5):\n",
    "    pass\n",
    "#     if i%2==0:\n",
    "#         print(i)\n",
    "print(i)    "
   ]
  },
  {
   "cell_type": "markdown",
   "id": "d5dd5a1f",
   "metadata": {},
   "source": [
    "calender module"
   ]
  },
  {
   "cell_type": "code",
   "execution_count": 4,
   "id": "54e4ad1f",
   "metadata": {},
   "outputs": [
    {
     "name": "stdout",
     "output_type": "stream",
     "text": [
      "    January 2023\n",
      "Mo Tu We Th Fr Sa Su\n",
      "                   1\n",
      " 2  3  4  5  6  7  8\n",
      " 9 10 11 12 13 14 15\n",
      "16 17 18 19 20 21 22\n",
      "23 24 25 26 27 28 29\n",
      "30 31\n",
      "\n"
     ]
    }
   ],
   "source": [
    "import calendar\n",
    "\n",
    "yy=2023\n",
    "mm=1\n",
    "print(calendar.month(yy,mm))"
   ]
  },
  {
   "cell_type": "code",
   "execution_count": 8,
   "id": "a4ee367d",
   "metadata": {},
   "outputs": [
    {
     "name": "stdout",
     "output_type": "stream",
     "text": [
      "the calender of the year 2023 is\n",
      "                                  2023\n",
      "\n",
      "      January                   February                   March\n",
      "Mo Tu We Th Fr Sa Su      Mo Tu We Th Fr Sa Su      Mo Tu We Th Fr Sa Su\n",
      "                   1             1  2  3  4  5             1  2  3  4  5\n",
      " 2  3  4  5  6  7  8       6  7  8  9 10 11 12       6  7  8  9 10 11 12\n",
      " 9 10 11 12 13 14 15      13 14 15 16 17 18 19      13 14 15 16 17 18 19\n",
      "16 17 18 19 20 21 22      20 21 22 23 24 25 26      20 21 22 23 24 25 26\n",
      "23 24 25 26 27 28 29      27 28                     27 28 29 30 31\n",
      "30 31\n",
      "\n",
      "       April                      May                       June\n",
      "Mo Tu We Th Fr Sa Su      Mo Tu We Th Fr Sa Su      Mo Tu We Th Fr Sa Su\n",
      "                1  2       1  2  3  4  5  6  7                1  2  3  4\n",
      " 3  4  5  6  7  8  9       8  9 10 11 12 13 14       5  6  7  8  9 10 11\n",
      "10 11 12 13 14 15 16      15 16 17 18 19 20 21      12 13 14 15 16 17 18\n",
      "17 18 19 20 21 22 23      22 23 24 25 26 27 28      19 20 21 22 23 24 25\n",
      "24 25 26 27 28 29 30      29 30 31                  26 27 28 29 30\n",
      "\n",
      "        July                     August                  September\n",
      "Mo Tu We Th Fr Sa Su      Mo Tu We Th Fr Sa Su      Mo Tu We Th Fr Sa Su\n",
      "                1  2          1  2  3  4  5  6                   1  2  3\n",
      " 3  4  5  6  7  8  9       7  8  9 10 11 12 13       4  5  6  7  8  9 10\n",
      "10 11 12 13 14 15 16      14 15 16 17 18 19 20      11 12 13 14 15 16 17\n",
      "17 18 19 20 21 22 23      21 22 23 24 25 26 27      18 19 20 21 22 23 24\n",
      "24 25 26 27 28 29 30      28 29 30 31               25 26 27 28 29 30\n",
      "31\n",
      "\n",
      "      October                   November                  December\n",
      "Mo Tu We Th Fr Sa Su      Mo Tu We Th Fr Sa Su      Mo Tu We Th Fr Sa Su\n",
      "                   1             1  2  3  4  5                   1  2  3\n",
      " 2  3  4  5  6  7  8       6  7  8  9 10 11 12       4  5  6  7  8  9 10\n",
      " 9 10 11 12 13 14 15      13 14 15 16 17 18 19      11 12 13 14 15 16 17\n",
      "16 17 18 19 20 21 22      20 21 22 23 24 25 26      18 19 20 21 22 23 24\n",
      "23 24 25 26 27 28 29      27 28 29 30               25 26 27 28 29 30 31\n",
      "30 31\n",
      "\n"
     ]
    }
   ],
   "source": [
    "print(\"the calender of the year 2023 is\")\n",
    "print(calendar.calendar(2023,2,1,6))"
   ]
  },
  {
   "cell_type": "code",
   "execution_count": 1,
   "id": "8236cce4",
   "metadata": {},
   "outputs": [
    {
     "name": "stdout",
     "output_type": "stream",
     "text": [
      "02 01 2028\n",
      "TUESDAY\n"
     ]
    }
   ],
   "source": [
    "import calendar\n",
    "MM,DD,YYYY=map(int,input().split())\n",
    "print(calendar.day_name[calendar.weekday(YYYY,MM,DD)].upper())"
   ]
  },
  {
   "cell_type": "code",
   "execution_count": 22,
   "id": "91d43124",
   "metadata": {},
   "outputs": [
    {
     "name": "stdout",
     "output_type": "stream",
     "text": [
      "Date is: 2023-02-14\n",
      "Weekday name is: Tuesday\n",
      "week day\n"
     ]
    }
   ],
   "source": [
    "import calendar\n",
    "from datetime import date\n",
    "from datetime import date\n",
    "# get today's date\n",
    "d = date.today()\n",
    "# d=\"2024-07-01\"\n",
    "# d = 2023-02-12\n",
    "print('Date is:', d)\n",
    "\n",
    "# get day name in english\n",
    "x = calendar.day_name[d.weekday()]\n",
    "print('Weekday name is:', x)\n",
    "if x==\"Sunday\":\n",
    "    print(\"weekend\")\n",
    "else:\n",
    "    print(\"week day\")"
   ]
  },
  {
   "cell_type": "code",
   "execution_count": 4,
   "id": "05d0769b",
   "metadata": {},
   "outputs": [
    {
     "name": "stdout",
     "output_type": "stream",
     "text": [
      "0\n",
      "Date is Weekday\n"
     ]
    }
   ],
   "source": [
    "import datetime\n",
    "\n",
    "# given date\n",
    "x_date = datetime.date(2022, 2, 14)\n",
    "no = x_date.weekday()\n",
    "print(no)\n",
    "\n",
    "if no < 6:\n",
    "    print(\"Date is Weekday\")\n",
    "else:  # 5 Sat, 6 Sun\n",
    "    print(\"Date is Weekend\")"
   ]
  },
  {
   "cell_type": "code",
   "execution_count": 8,
   "id": "d05bb979",
   "metadata": {},
   "outputs": [
    {
     "name": "stdout",
     "output_type": "stream",
     "text": [
      "0 Monday\n"
     ]
    }
   ],
   "source": [
    "import pandas as pd\n",
    "\n",
    "d = pd.Timestamp('2022-02-14')\n",
    "print(d.dayofweek, d.day_name())"
   ]
  },
  {
   "cell_type": "code",
   "execution_count": 16,
   "id": "3fd71de2",
   "metadata": {},
   "outputs": [
    {
     "name": "stdout",
     "output_type": "stream",
     "text": [
      "Datetime is: 2023-02-14 <class 'datetime.date'>\n",
      "Weekday Number: 1\n",
      "ISO Weekday Number: 2\n",
      "Weekday Name: Tuesday\n",
      "Weekday name is: Tuesday\n"
     ]
    }
   ],
   "source": [
    "from datetime import datetime\n",
    "import calendar\n",
    "from datetime import date\n",
    "\n",
    "\n",
    "# get current datetime\n",
    "# dt = datetime.now()\n",
    "dt=date.today()\n",
    "# dt=2023-2-9\n",
    "print('Datetime is:', dt, type(dt))\n",
    "\n",
    "# weekday (Monday =0 Sunday=6)\n",
    "print('Weekday Number:', dt.weekday())\n",
    "\n",
    "# isoweekday(Monday =1 Sunday=6)\n",
    "print('ISO Weekday Number:', dt.isoweekday())\n",
    "\n",
    "# get weekday name\n",
    "print('Weekday Name:', dt.strftime('%A'))\n",
    "\n",
    "# get day name\n",
    "x = calendar.day_name[dt.weekday()]\n",
    "print('Weekday name is:', x)"
   ]
  },
  {
   "cell_type": "code",
   "execution_count": 51,
   "id": "294d8447",
   "metadata": {},
   "outputs": [
    {
     "name": "stdout",
     "output_type": "stream",
     "text": [
      "[datetime.date(2023, 2, 14), datetime.date(2023, 2, 15), datetime.date(2023, 2, 16), datetime.date(2023, 2, 17), datetime.date(2023, 2, 18)]\n"
     ]
    }
   ],
   "source": [
    "# import datetime\n",
    "from datetime import date\n",
    "\n",
    "# a = datetime.datetime.today()\n",
    "a=date.today()\n",
    "numdays = 5\n",
    "dateList = []\n",
    "\n",
    "for x in range (0, numdays):\n",
    "    dateList.append(a + datetime.timedelta(days = x))\n",
    "print(dateList)"
   ]
  },
  {
   "cell_type": "code",
   "execution_count": 35,
   "id": "a58dcbfe",
   "metadata": {},
   "outputs": [
    {
     "name": "stdout",
     "output_type": "stream",
     "text": [
      "[datetime.date(2023, 2, 14), datetime.date(2023, 2, 15), datetime.date(2023, 2, 16), datetime.date(2023, 2, 17), datetime.date(2023, 2, 18)]\n"
     ]
    }
   ],
   "source": [
    "from datetime import date\n",
    "\n",
    "base = date.today()\n",
    "date_list = [base + datetime.timedelta(days=x) for x in range(numdays)]\n",
    "print(date_list)"
   ]
  },
  {
   "cell_type": "code",
   "execution_count": 53,
   "id": "6e8090fa",
   "metadata": {},
   "outputs": [
    {
     "name": "stdout",
     "output_type": "stream",
     "text": [
      "len 11\n",
      "0\n",
      "Date is Weekday\n",
      "[datetime.date(2023, 2, 5), datetime.date(2023, 2, 6), datetime.date(2023, 2, 7), datetime.date(2023, 2, 8), datetime.date(2023, 2, 9), datetime.date(2023, 2, 10), datetime.date(2023, 2, 11), datetime.date(2023, 2, 12), datetime.date(2023, 2, 13), datetime.date(2023, 2, 14), datetime.date(2023, 2, 15)]\n"
     ]
    }
   ],
   "source": [
    "from datetime import date\n",
    "\n",
    "start = date(2023,2,5)\n",
    "# start = date.(2023,2,5)\n",
    "# end= date.(2023,2,15)\n",
    "end = date(2023,2,15)\n",
    "len=(end-start).days\n",
    "print('len',len+1)\n",
    "daterange = [start + datetime.timedelta(days=x) for x in range(0, len+1)]\n",
    "no = x_date.weekday()\n",
    "print(no)\n",
    "\n",
    "if no < 6:\n",
    "    print(\"Date is Weekday\")\n",
    "else:  # 5 Sat, 6 Sun\n",
    "    print(\"Date is Weekend\")\n",
    "print(daterange)"
   ]
  },
  {
   "cell_type": "code",
   "execution_count": 2,
   "id": "72473251",
   "metadata": {},
   "outputs": [
    {
     "data": {
      "text/plain": [
       "DatetimeIndex([], dtype='datetime64[ns]', freq='D')"
      ]
     },
     "execution_count": 2,
     "metadata": {},
     "output_type": "execute_result"
    }
   ],
   "source": [
    "import pandas as pd\n",
    "from datetime import datetime\n",
    "\n",
    "pd.date_range(end = datetime.today(), periods = 50).to_pydatetime().tolist()\n",
    "\n",
    "#OR\n",
    "\n",
    "pd.date_range(start=\"2023-02-09\",end=\"2020-02-15\")"
   ]
  },
  {
   "cell_type": "code",
   "execution_count": 60,
   "id": "56a9362c",
   "metadata": {},
   "outputs": [
    {
     "name": "stdout",
     "output_type": "stream",
     "text": [
      "len 11\n",
      "[datetime.date(2023, 2, 5), datetime.date(2023, 2, 6), datetime.date(2023, 2, 7), datetime.date(2023, 2, 8), datetime.date(2023, 2, 9), datetime.date(2023, 2, 10), datetime.date(2023, 2, 11), datetime.date(2023, 2, 12), datetime.date(2023, 2, 13), datetime.date(2023, 2, 14), datetime.date(2023, 2, 15)]\n"
     ]
    }
   ],
   "source": [
    "from datetime import date\n",
    "\n",
    "start = date(2023,2,5)\n",
    "end = date(2023,2,15)\n",
    "len=(end-start).days\n",
    "print('len',len+1)\n",
    "daterange = [start + datetime.timedelta(days=x) for x in range(0, len+1)]\n",
    "eList = []\n",
    "\n",
    "for x in range(0, len+1):\n",
    "    eList.append(start + datetime.timedelta(days=x) )\n",
    "print(eList)    \n",
    "    \n",
    "# no = x_date.weekday()"
   ]
  },
  {
   "cell_type": "code",
   "execution_count": 55,
   "id": "0029ca3e",
   "metadata": {},
   "outputs": [
    {
     "ename": "NameError",
     "evalue": "name 'date_str' is not defined",
     "output_type": "error",
     "traceback": [
      "\u001b[1;31m---------------------------------------------------------------------------\u001b[0m",
      "\u001b[1;31mNameError\u001b[0m                                 Traceback (most recent call last)",
      "Cell \u001b[1;32mIn[55], line 7\u001b[0m\n\u001b[0;32m      4\u001b[0m date_str1 \u001b[38;5;241m=\u001b[39m \u001b[38;5;124m'\u001b[39m\u001b[38;5;124m2023-02-19\u001b[39m\u001b[38;5;124m'\u001b[39m\n\u001b[0;32m      5\u001b[0m date_str2 \u001b[38;5;241m=\u001b[39m \u001b[38;5;124m'\u001b[39m\u001b[38;5;124m2023-02-25\u001b[39m\u001b[38;5;124m'\u001b[39m\n\u001b[1;32m----> 7\u001b[0m date_object \u001b[38;5;241m=\u001b[39m datetime\u001b[38;5;241m.\u001b[39mstrptime(\u001b[43mdate_str\u001b[49m, \u001b[38;5;124m'\u001b[39m\u001b[38;5;124m%\u001b[39m\u001b[38;5;124mY-\u001b[39m\u001b[38;5;124m%\u001b[39m\u001b[38;5;124mm-\u001b[39m\u001b[38;5;132;01m%d\u001b[39;00m\u001b[38;5;124m'\u001b[39m)\u001b[38;5;241m.\u001b[39mdate()\n\u001b[0;32m      8\u001b[0m date_object2 \u001b[38;5;241m=\u001b[39m datetime\u001b[38;5;241m.\u001b[39mstrptime(date_str2, \u001b[38;5;124m'\u001b[39m\u001b[38;5;124m%\u001b[39m\u001b[38;5;124mY-\u001b[39m\u001b[38;5;124m%\u001b[39m\u001b[38;5;124mm-\u001b[39m\u001b[38;5;132;01m%d\u001b[39;00m\u001b[38;5;124m'\u001b[39m)\u001b[38;5;241m.\u001b[39mdate()\n\u001b[0;32m     10\u001b[0m \u001b[38;5;28mlen\u001b[39m\u001b[38;5;241m=\u001b[39m(date_object2\u001b[38;5;241m-\u001b[39mdate_object)\u001b[38;5;241m.\u001b[39mdays\n",
      "\u001b[1;31mNameError\u001b[0m: name 'date_str' is not defined"
     ]
    }
   ],
   "source": [
    "from datetime import datetime\n",
    "\n",
    "# date_str = '09-19-2022'\n",
    "date_str1 = '2023-02-19'\n",
    "date_str2 = '2023-02-25'\n",
    "\n",
    "date_object = datetime.strptime(date_str, '%Y-%m-%d').date()\n",
    "date_object2 = datetime.strptime(date_str2, '%Y-%m-%d').date()\n",
    "\n",
    "len=(date_object2-date_object).days\n",
    "print(len)\n",
    "eList = []\n",
    "\n",
    "for x in range(0, len+1):\n",
    "    eList.append(date_object + datetime.timedelta(days=x) )\n",
    "print(eList)    \n",
    "\n",
    "# print(type(date_object))\n",
    "# print(date_object)\n",
    "# print(date_object2)  # printed in default format# printed in default format"
   ]
  },
  {
   "cell_type": "code",
   "execution_count": 59,
   "id": "38467e7a",
   "metadata": {},
   "outputs": [
    {
     "name": "stdout",
     "output_type": "stream",
     "text": [
      "2023-01-02 00:00:00\n",
      "32\n"
     ]
    }
   ],
   "source": [
    "import datetime\n",
    "# startip=input()\n",
    "# endip=input()\n",
    "# start = datetime.datetime.strptime(\"21-06-2014\", \"%d-%m-%Y\")\n",
    "\n",
    "start = datetime.datetime.strptime(\"2023-1-02\", \"%Y-%m-%d\")\n",
    "end = datetime.datetime.strptime(\"2023-2-02\", \"%Y-%m-%d\")\n",
    "\n",
    "print(start)\n",
    "l=(end-start).days\n",
    "print(l+1)\n",
    "date_generated = [start + datetime.timedelta(days=x) for x in range(0, l+1)]\n",
    "\n",
    "for date in date_generated:\n",
    "    pass\n",
    "#     print(date)\n",
    "    \n",
    "#     if date + timedelta(days=i).weekday() not in (6,):\n",
    "#     print(date.strftime(\"%Y-%m-%d\"))"
   ]
  },
  {
   "cell_type": "code",
   "execution_count": 68,
   "id": "5ab390c0",
   "metadata": {},
   "outputs": [
    {
     "name": "stdout",
     "output_type": "stream",
     "text": [
      "2023-02-17 00:00:00\n"
     ]
    }
   ],
   "source": [
    "import datetime\n",
    "\n",
    "def workdays(d, end, excluded=(7,)):\n",
    "    days = []\n",
    "    while d.date() <= end.date():\n",
    "        if d.isoweekday() not in excluded:\n",
    "            days.append(d)\n",
    "        d += datetime.timedelta(days=1)\n",
    "    return days\n",
    "total=workdays(datetime.datetime(2023, 2, 14),\n",
    "               datetime.datetime(2023, 2, 28))\n",
    "print(total[3])"
   ]
  },
  {
   "cell_type": "code",
   "execution_count": 79,
   "id": "3713a103",
   "metadata": {},
   "outputs": [
    {
     "name": "stdout",
     "output_type": "stream",
     "text": [
      "2023-02-14\n",
      "2023-02-15\n",
      "2023-02-16\n",
      "2023-02-17\n",
      "2023-02-18\n",
      "2023-02-20\n",
      "2023-02-21\n",
      "2023-02-22\n",
      "2023-02-23\n",
      "2023-02-24\n",
      "2023-02-25\n",
      "2023-02-27\n",
      "2023-02-28\n",
      "2023-03-01\n",
      "2023-03-02\n",
      "2023-03-03\n",
      "2023-03-04\n",
      "2023-03-06\n",
      "2023-03-07\n",
      "2023-03-08\n",
      "2023-03-09\n",
      "2023-03-10\n",
      "2023-03-11\n",
      "2023-03-13\n",
      "2023-03-14\n",
      "2023-03-15\n",
      "2023-03-16\n",
      "2023-03-17\n",
      "2023-03-18\n",
      "2023-03-20\n",
      "2023-03-21\n",
      "2023-03-22\n",
      "2023-03-23\n",
      "2023-03-24\n",
      "2023-03-25\n",
      "2023-03-27\n",
      "2023-03-28\n",
      "2023-03-29\n",
      "2023-03-30\n",
      "[datetime.datetime(2023, 2, 14, 0, 0), datetime.datetime(2023, 2, 15, 0, 0), datetime.datetime(2023, 2, 16, 0, 0), datetime.datetime(2023, 2, 17, 0, 0), datetime.datetime(2023, 2, 18, 0, 0), datetime.datetime(2023, 2, 20, 0, 0), datetime.datetime(2023, 2, 21, 0, 0), datetime.datetime(2023, 2, 22, 0, 0), datetime.datetime(2023, 2, 23, 0, 0), datetime.datetime(2023, 2, 24, 0, 0), datetime.datetime(2023, 2, 25, 0, 0), datetime.datetime(2023, 2, 27, 0, 0), datetime.datetime(2023, 2, 28, 0, 0), datetime.datetime(2023, 3, 1, 0, 0), datetime.datetime(2023, 3, 2, 0, 0), datetime.datetime(2023, 3, 3, 0, 0), datetime.datetime(2023, 3, 4, 0, 0), datetime.datetime(2023, 3, 6, 0, 0), datetime.datetime(2023, 3, 7, 0, 0), datetime.datetime(2023, 3, 8, 0, 0), datetime.datetime(2023, 3, 9, 0, 0), datetime.datetime(2023, 3, 10, 0, 0), datetime.datetime(2023, 3, 11, 0, 0), datetime.datetime(2023, 3, 13, 0, 0), datetime.datetime(2023, 3, 14, 0, 0), datetime.datetime(2023, 3, 15, 0, 0), datetime.datetime(2023, 3, 16, 0, 0), datetime.datetime(2023, 3, 17, 0, 0), datetime.datetime(2023, 3, 18, 0, 0), datetime.datetime(2023, 3, 20, 0, 0), datetime.datetime(2023, 3, 21, 0, 0), datetime.datetime(2023, 3, 22, 0, 0), datetime.datetime(2023, 3, 23, 0, 0), datetime.datetime(2023, 3, 24, 0, 0), datetime.datetime(2023, 3, 25, 0, 0), datetime.datetime(2023, 3, 27, 0, 0), datetime.datetime(2023, 3, 28, 0, 0), datetime.datetime(2023, 3, 29, 0, 0), datetime.datetime(2023, 3, 30, 0, 0)]\n"
     ]
    }
   ],
   "source": [
    "days = []\n",
    "\n",
    "start = datetime.datetime.strptime(\"2023-02-14\", \"%Y-%m-%d\")\n",
    "end = datetime.datetime.strptime(\"2023-03-30\", \"%Y-%m-%d\")\n",
    "btwn = datetime.datetime.strptime(\"2023-03-10\", \"%Y-%m-%d\")\n",
    "\n",
    "while start.date() <= end.date():\n",
    "    if start.isoweekday() not in (7,):\n",
    "        days.append(start)\n",
    "        print(start.strftime(\"%Y-%m-%d\"))\n",
    "    start += datetime.timedelta(days=1)\n",
    "    if start == btwn:\n",
    "        continue\n",
    "    \n",
    "print(days)\n"
   ]
  },
  {
   "cell_type": "code",
   "execution_count": 73,
   "id": "db827341",
   "metadata": {},
   "outputs": [
    {
     "ename": "TypeError",
     "evalue": "'<' not supported between instances of 'datetime.date' and 'NoneType'",
     "output_type": "error",
     "traceback": [
      "\u001b[1;31m---------------------------------------------------------------------------\u001b[0m",
      "\u001b[1;31mTypeError\u001b[0m                                 Traceback (most recent call last)",
      "Cell \u001b[1;32mIn[73], line 2\u001b[0m\n\u001b[0;32m      1\u001b[0m create_date\u001b[38;5;241m=\u001b[39mdatetime\u001b[38;5;241m.\u001b[39mdate\u001b[38;5;241m.\u001b[39mtoday()\n\u001b[1;32m----> 2\u001b[0m \u001b[38;5;28mprint\u001b[39m(\u001b[43mcreate_date\u001b[49m\u001b[38;5;241;43m<\u001b[39;49m\u001b[38;5;28;43;01mNone\u001b[39;49;00m)\n",
      "\u001b[1;31mTypeError\u001b[0m: '<' not supported between instances of 'datetime.date' and 'NoneType'"
     ]
    }
   ],
   "source": [
    "create_date=datetime.date.today()\n",
    "# print(create_date<None)"
   ]
  },
  {
   "cell_type": "code",
   "execution_count": 43,
   "id": "e296d4c6",
   "metadata": {},
   "outputs": [
    {
     "name": "stdout",
     "output_type": "stream",
     "text": [
      "13\n"
     ]
    }
   ],
   "source": [
    "from datetime import datetime, timedelta\n",
    "\n",
    "\n",
    "def get_business_days(start_date, end_date):\n",
    "    return sum([\n",
    "        (start_date + timedelta(days=i)).weekday() not in (6,)\n",
    "        for i in range((end_date - start_date).days + 1)\n",
    "        \n",
    "    ])\n",
    "\n",
    "\n",
    "create_date = \"2023-02-14 10:47:00\"\n",
    "resolve_date = \"2023-02-28 16:56:00\"\n",
    "\n",
    "s = datetime.strptime(create_date, '%Y-%m-%d %H:%M:%S')\n",
    "e = datetime.strptime(resolve_date, '%Y-%m-%d %H:%M:%S')\n",
    "\n",
    "print(get_business_days(s, e))"
   ]
  },
  {
   "cell_type": "code",
   "execution_count": 45,
   "id": "963168e8",
   "metadata": {},
   "outputs": [
    {
     "name": "stdout",
     "output_type": "stream",
     "text": [
      "[True, True, True, True, True, False, True, True, True, True, True, True, False, True, True]\n"
     ]
    }
   ],
   "source": [
    "create_date = \"2023-02-14 10:47:00\"\n",
    "resolve_date = \"2023-02-28 16:56:00\"\n",
    "\n",
    "start_date = datetime.strptime(create_date, '%Y-%m-%d %H:%M:%S')\n",
    "end_date = datetime.strptime(resolve_date, '%Y-%m-%d %H:%M:%S')\n",
    "\n",
    "total= [\n",
    "        (start_date + timedelta(days=i)).weekday() not in (6,)\n",
    "        for i in range((end_date - start_date).days + 1)\n",
    "        \n",
    "    ]\n",
    "print(total)"
   ]
  },
  {
   "cell_type": "code",
   "execution_count": 46,
   "id": "3b564a66",
   "metadata": {},
   "outputs": [
    {
     "name": "stdout",
     "output_type": "stream",
     "text": [
      "0:00:00\n",
      "1 day, 0:00:00\n",
      "2 days, 0:00:00\n",
      "3 days, 0:00:00\n",
      "4 days, 0:00:00\n",
      "6 days, 0:00:00\n",
      "7 days, 0:00:00\n",
      "8 days, 0:00:00\n",
      "9 days, 0:00:00\n",
      "10 days, 0:00:00\n",
      "11 days, 0:00:00\n",
      "13 days, 0:00:00\n",
      "14 days, 0:00:00\n"
     ]
    }
   ],
   "source": [
    "for i in range((end_date - start_date).days + 1):\n",
    "    if (start_date + timedelta(days=i)).weekday() not in (6,):\n",
    "        print(timedelta(days=i))\n",
    "    "
   ]
  },
  {
   "cell_type": "code",
   "execution_count": 42,
   "id": "081f1e58",
   "metadata": {},
   "outputs": [
    {
     "name": "stdout",
     "output_type": "stream",
     "text": [
      "19\n"
     ]
    }
   ],
   "source": [
    "from datetime import datetime, timedelta\n",
    "\n",
    "\n",
    "def get_business_days(start_date, end_date):\n",
    "    return sum([\n",
    "        (start_date + timedelta(days=i)).weekday() not in (5, 6)\n",
    "        for i in range((end_date - start_date).days + 1)\n",
    "    ])\n",
    "\n",
    "\n",
    "create_date = \"2017-08-29 10:47:00\"\n",
    "resolve_date = \"2017-09-23 16:56:00\"\n",
    "\n",
    "s = datetime.strptime(create_date, '%Y-%m-%d %H:%M:%S')\n",
    "e = datetime.strptime(resolve_date, '%Y-%m-%d %H:%M:%S')\n",
    "\n",
    "print(get_business_days(s, e))\n"
   ]
  },
  {
   "cell_type": "code",
   "execution_count": null,
   "id": "6afbff8f",
   "metadata": {},
   "outputs": [],
   "source": []
  },
  {
   "cell_type": "markdown",
   "id": "411c6e6a",
   "metadata": {},
   "source": [
    "# CODE WARS\n"
   ]
  },
  {
   "cell_type": "code",
   "execution_count": 3,
   "id": "d29429fa",
   "metadata": {},
   "outputs": [
    {
     "name": "stdout",
     "output_type": "stream",
     "text": [
      "enter first string:asif\n",
      "enter second string:ashar\n",
      "common charaters are {'a', 's'}\n"
     ]
    }
   ],
   "source": [
    "def common_str():\n",
    "    str1=input('enter first string:')\n",
    "    str2=input('enter second string:')\n",
    "    s1=set(str1)\n",
    "    s2=set(str2)\n",
    "#     print(s1)\n",
    "#     print(s2)\n",
    "    lst=s1 & s2\n",
    "    print('common charaters are',lst)\n",
    "common_str()    "
   ]
  },
  {
   "cell_type": "code",
   "execution_count": 1,
   "id": "36ef644c",
   "metadata": {},
   "outputs": [
    {
     "name": "stdout",
     "output_type": "stream",
     "text": [
      "67\n"
     ]
    }
   ],
   "source": [
    "from functools import reduce\n",
    "score=[23,34,12,67]\n",
    "total=reduce(lambda a,b:a if a>b else b,score)\n",
    "print(total)"
   ]
  },
  {
   "cell_type": "code",
   "execution_count": null,
   "id": "7a481707",
   "metadata": {},
   "outputs": [],
   "source": [
    "from collections import Counter\n",
    "\n",
    "s = input()\n",
    "s=sorted(s)\n",
    "frequency=Counter(list(s))\n",
    "for k,v in frequency.most_common(3):\n",
    "    print(k,v)\n"
   ]
  },
  {
   "cell_type": "code",
   "execution_count": 12,
   "id": "581984cb",
   "metadata": {},
   "outputs": [],
   "source": [
    "data=[{'address': [{'pincode': '400072', 'user_id': 6, 'city': 'mumbai', 'is_same': True, 'user': {'id': 6, 'name': 'minhaj'}, 'area': 'kurla', 'id': 1, 'state': 'Maharshtra'}], 'modified_on_tmz': '2023-02-13 13:10', 'current_education': [], 'name': 'minhaj', 'last_login': '2023-02-13', 'modified_user': {}, 'family_detail': None, 'basic_detail': {'aboutme': 'description of person', 'user_id': 6, 'video_link': 'vjbwebw b;.com', 'user': {'id': 6, 'name': 'minhaj'}, 'scholarship': 'zakat', 'religion': 'Muslim', 'gender': 'M', 'photo': '', 'id': 3, 'phone2': '9876543281', 'dob': '2023-02-04'}, 'email': 'minhaj688@gmail.com', 'past_education': [], 'id': 6, 'finance_asist': None, 'disabled': False, 'modified_on': '2023-02-13 07:40:26.103928'}]"
   ]
  },
  {
   "cell_type": "code",
   "execution_count": 24,
   "id": "0b764600",
   "metadata": {},
   "outputs": [
    {
     "name": "stdout",
     "output_type": "stream",
     "text": [
      "current_education\n",
      "modified_user\n",
      "family_detail\n",
      "past_education\n",
      "finance_asist\n",
      "disabled\n"
     ]
    }
   ],
   "source": [
    "# print(data[0])\n",
    "# print(data[0].get(\"address\"))\n",
    "# print(data[0].get(\"current_education\"))\n",
    "for i in data[0]:\n",
    "    if not data[0][i]:\n",
    "        print(i)"
   ]
  },
  {
   "cell_type": "code",
   "execution_count": 7,
   "id": "bcb977fb",
   "metadata": {},
   "outputs": [
    {
     "name": "stdout",
     "output_type": "stream",
     "text": [
      "{3: {'a': 12, 'b': 13}}\n",
      "{'a': 12, 'b': 13}\n"
     ]
    }
   ],
   "source": [
    "l=[1,2,{3:{\"a\":12,\"b\":13}},4,5]\n",
    "print(l[2])\n",
    "print(l[2].get(3))"
   ]
  },
  {
   "cell_type": "code",
   "execution_count": 1,
   "id": "e18c128b",
   "metadata": {},
   "outputs": [],
   "source": [
    "a={3:{\"a\":12,\"b\":13},\"b\":0,\"c\":[]}"
   ]
  },
  {
   "cell_type": "code",
   "execution_count": 3,
   "id": "173daad9",
   "metadata": {},
   "outputs": [
    {
     "name": "stdout",
     "output_type": "stream",
     "text": [
      "3\n",
      "b\n",
      "c\n"
     ]
    }
   ],
   "source": [
    "for i in a:\n",
    "    print(i)\n",
    "    if not i:\n",
    "        print(\"a\",i)"
   ]
  },
  {
   "cell_type": "code",
   "execution_count": 10,
   "id": "c8c03cc5",
   "metadata": {},
   "outputs": [
    {
     "name": "stdout",
     "output_type": "stream",
     "text": [
      "hello\n"
     ]
    }
   ],
   "source": [
    "b=[]\n",
    "if not b:\n",
    "    print(\"hello\")\n"
   ]
  },
  {
   "cell_type": "code",
   "execution_count": 76,
   "id": "7ee0e32d",
   "metadata": {},
   "outputs": [
    {
     "ename": "ModuleNotFoundError",
     "evalue": "No module named 'Countryinfo'",
     "output_type": "error",
     "traceback": [
      "\u001b[1;31m---------------------------------------------------------------------------\u001b[0m",
      "\u001b[1;31mModuleNotFoundError\u001b[0m                       Traceback (most recent call last)",
      "Cell \u001b[1;32mIn[76], line 1\u001b[0m\n\u001b[1;32m----> 1\u001b[0m \u001b[38;5;28;01mfrom\u001b[39;00m \u001b[38;5;21;01mCountryinfo\u001b[39;00m \u001b[38;5;28;01mimport\u001b[39;00m CountryInfo\n\u001b[0;32m      2\u001b[0m name \u001b[38;5;241m=\u001b[39m \u001b[38;5;124m\"\u001b[39m\u001b[38;5;124mIndia\u001b[39m\u001b[38;5;124m\"\u001b[39m\n\u001b[0;32m      3\u001b[0m country \u001b[38;5;241m=\u001b[39m CountryInfo(name)\n",
      "\u001b[1;31mModuleNotFoundError\u001b[0m: No module named 'Countryinfo'"
     ]
    }
   ],
   "source": [
    "from countryinfo import CountryInfo\n",
    "name = \"India\"\n",
    "country = CountryInfo(name)\n",
    "data = country.info()\n",
    "print(data[\"provinces\"])\n"
   ]
  },
  {
   "cell_type": "code",
   "execution_count": 1,
   "id": "78cb3d10",
   "metadata": {},
   "outputs": [
    {
     "name": "stdout",
     "output_type": "stream",
     "text": [
      "1\n",
      "2\n",
      "4\n",
      "5\n",
      "6\n"
     ]
    }
   ],
   "source": [
    "i = 0\n",
    "while i < 6:\n",
    "  i += 1\n",
    "  if i == 3:\n",
    "    continue\n",
    "  print(i)"
   ]
  },
  {
   "cell_type": "code",
   "execution_count": 2,
   "id": "8002354a",
   "metadata": {},
   "outputs": [
    {
     "name": "stdout",
     "output_type": "stream",
     "text": [
      "False\n"
     ]
    }
   ],
   "source": [
    "# numbers = [1, 2, 3, 4, 2, 5]\n",
    "\n",
    "# check if numbers is instance of list\n",
    "result = isinstance(\"4\", int)\n",
    "print(result)\n",
    "\n",
    "# Output: True"
   ]
  },
  {
   "cell_type": "code",
   "execution_count": null,
   "id": "2bfc9688",
   "metadata": {},
   "outputs": [],
   "source": []
  }
 ],
 "metadata": {
  "kernelspec": {
   "display_name": "Python 3 (ipykernel)",
   "language": "python",
   "name": "python3"
  },
  "language_info": {
   "codemirror_mode": {
    "name": "ipython",
    "version": 3
   },
   "file_extension": ".py",
   "mimetype": "text/x-python",
   "name": "python",
   "nbconvert_exporter": "python",
   "pygments_lexer": "ipython3",
   "version": "3.10.6"
  },
  "vscode": {
   "interpreter": {
    "hash": "778e1c0d97e8ccb4447350f67267b8c90fb9bd4985834c68b4d2c59951ec2097"
   }
  }
 },
 "nbformat": 4,
 "nbformat_minor": 5
}
