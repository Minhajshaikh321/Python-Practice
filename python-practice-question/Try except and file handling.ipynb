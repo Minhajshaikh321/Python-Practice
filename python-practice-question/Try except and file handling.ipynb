{
 "cells": [
  {
   "cell_type": "code",
   "execution_count": 1,
   "id": "bd49cbc2",
   "metadata": {},
   "outputs": [
    {
     "name": "stdout",
     "output_type": "stream",
     "text": [
      "2.0\n",
      "Rest of the code\n"
     ]
    }
   ],
   "source": [
    "a=10\n",
    "b=5\n",
    "d=a/b\n",
    "print(d)\n",
    "print('Rest of the code')"
   ]
  },
  {
   "cell_type": "code",
   "execution_count": 2,
   "id": "ca221320",
   "metadata": {},
   "outputs": [
    {
     "ename": "ZeroDivisionError",
     "evalue": "division by zero",
     "output_type": "error",
     "traceback": [
      "\u001b[1;31m---------------------------------------------------------------------------\u001b[0m",
      "\u001b[1;31mZeroDivisionError\u001b[0m                         Traceback (most recent call last)",
      "Input \u001b[1;32mIn [2]\u001b[0m, in \u001b[0;36m<cell line: 3>\u001b[1;34m()\u001b[0m\n\u001b[0;32m      1\u001b[0m a\u001b[38;5;241m=\u001b[39m\u001b[38;5;241m10\u001b[39m\n\u001b[0;32m      2\u001b[0m b\u001b[38;5;241m=\u001b[39m\u001b[38;5;241m0\u001b[39m\n\u001b[1;32m----> 3\u001b[0m d\u001b[38;5;241m=\u001b[39m\u001b[43ma\u001b[49m\u001b[38;5;241;43m/\u001b[39;49m\u001b[43mb\u001b[49m\n\u001b[0;32m      4\u001b[0m \u001b[38;5;28mprint\u001b[39m(d)\n\u001b[0;32m      5\u001b[0m \u001b[38;5;28mprint\u001b[39m(\u001b[38;5;124m'\u001b[39m\u001b[38;5;124mRest of the code\u001b[39m\u001b[38;5;124m'\u001b[39m)\n",
      "\u001b[1;31mZeroDivisionError\u001b[0m: division by zero"
     ]
    }
   ],
   "source": [
    "a=10\n",
    "b=0\n",
    "d=a/b\n",
    "print(d)\n",
    "print('Rest of the code')"
   ]
  },
  {
   "cell_type": "code",
   "execution_count": 20,
   "id": "0a335e44",
   "metadata": {},
   "outputs": [
    {
     "name": "stdout",
     "output_type": "stream",
     "text": [
      "division by zero\n",
      "Rest of the code\n"
     ]
    }
   ],
   "source": [
    "a=10\n",
    "# b=5\n",
    "b=0\n",
    "try:\n",
    "    d=a/b\n",
    "    print(d)\n",
    "    print(\"Inside try\")    \n",
    "except ZeroDivisionError as obj:\n",
    "    print(obj)\n",
    "except NameError as obj1:\n",
    "    print(obj1)  #jab d=a/f krdenge tabh ye exception raise hoga\n",
    "    # exception code chal gaya tabh else nhi hoga  \n",
    "print('Rest of the code')"
   ]
  },
  {
   "cell_type": "code",
   "execution_count": 24,
   "id": "c888ca98",
   "metadata": {},
   "outputs": [
    {
     "name": "stdout",
     "output_type": "stream",
     "text": [
      "division by zero\n",
      "Exception handler\n",
      "Rest of the code\n"
     ]
    }
   ],
   "source": [
    "a=10\n",
    "# b=5\n",
    "b=0\n",
    "try:\n",
    "    d=a/b\n",
    "    print(d)\n",
    "    print(\"Inside try\")    \n",
    "except (NameError,ZeroDivisionError) as obj:\n",
    "    print(obj)\n",
    "    print('Exception handler')\n",
    "print('Rest of the code')"
   ]
  },
  {
   "cell_type": "code",
   "execution_count": 25,
   "id": "d6707711",
   "metadata": {},
   "outputs": [
    {
     "name": "stdout",
     "output_type": "stream",
     "text": [
      "2.0\n",
      "Inside try\n",
      "Inside else\n",
      "Inside finally\n",
      "Rest of the code\n"
     ]
    }
   ],
   "source": [
    "a=10\n",
    "b=5\n",
    "# b=0\n",
    "try:\n",
    "    d=a/b\n",
    "    print(d)\n",
    "    print(\"Inside try\")    \n",
    "except ZeroDivisionError:\n",
    "    print('Division by zero is not allowed type non zero number') \n",
    "    # exception code chal gaya tabh else nhi hoga  \n",
    "else:\n",
    "    print('Inside else')\n",
    "finally:\n",
    "    print('Inside finally')\n",
    "    #chahe exception raise ho na ho ye chal jayga\n",
    "print('Rest of the code')"
   ]
  },
  {
   "cell_type": "markdown",
   "id": "83551f23",
   "metadata": {},
   "source": [
    "# user defined exception"
   ]
  },
  {
   "cell_type": "code",
   "execution_count": 28,
   "id": "f44b821b",
   "metadata": {},
   "outputs": [
    {
     "name": "stdout",
     "output_type": "stream",
     "text": [
      "5000\n"
     ]
    }
   ],
   "source": [
    "class BalanceException(Exception):\n",
    "    pass\n",
    "def checkbalance():\n",
    "    money=10000\n",
    "    withdraw=5000\n",
    "    balance=money-withdraw\n",
    "    print(balance)\n",
    "checkbalance()    "
   ]
  },
  {
   "cell_type": "code",
   "execution_count": 29,
   "id": "87ea16a1",
   "metadata": {},
   "outputs": [
    {
     "name": "stdout",
     "output_type": "stream",
     "text": [
      "Insufficient balance\n"
     ]
    }
   ],
   "source": [
    "class BalanceException(Exception):\n",
    "    pass\n",
    "def checkbalance():\n",
    "    money=10000\n",
    "    withdraw=9000\n",
    "    try:\n",
    "        balance=money-withdraw\n",
    "        if balance<=2000:\n",
    "            raise BalanceException('Insufficient balance')\n",
    "        print(balance)\n",
    "    except BalanceException as be:\n",
    "        print(be)\n",
    "        \n",
    "checkbalance()    "
   ]
  },
  {
   "cell_type": "code",
   "execution_count": 30,
   "id": "d9e3be0e",
   "metadata": {},
   "outputs": [
    {
     "name": "stdout",
     "output_type": "stream",
     "text": [
      "Insufficient balance\n"
     ]
    }
   ],
   "source": [
    "class BalanceException(Exception):\n",
    "    pass\n",
    "def checkbalance():\n",
    "    money=10000\n",
    "    withdraw=9000\n",
    "    balance=money-withdraw\n",
    "    if balance<=2000:\n",
    "            raise BalanceException('Insufficient balance')\n",
    "    print(balance)        \n",
    "try:\n",
    "    checkbalance()  \n",
    "except BalanceException as be:\n",
    "    print(be)\n",
    "    "
   ]
  },
  {
   "cell_type": "code",
   "execution_count": 2,
   "id": "89543ed3",
   "metadata": {},
   "outputs": [
    {
     "name": "stdout",
     "output_type": "stream",
     "text": [
      "Enter value of a:10\n",
      "Enter value of b:0\n",
      "Can't divide by zero\n"
     ]
    }
   ],
   "source": [
    "try:\n",
    "    a = int(input(\"Enter value of a:\"))\n",
    "    b = int(input(\"Enter value of b:\"))\n",
    "    c = a/b\n",
    "    print(\"The answer of a divide by b:\", c)\n",
    "except ValueError:\n",
    "    print(\"Entered value is wrong\")\n",
    "except ZeroDivisionError:\n",
    "    print(\"Can't divide by zero\")"
   ]
  },
  {
   "cell_type": "code",
   "execution_count": 3,
   "id": "3296950c",
   "metadata": {},
   "outputs": [
    {
     "name": "stdout",
     "output_type": "stream",
     "text": [
      "Enter value of a:5\n",
      "Enter value of b:2\n",
      "The answer of a divide by b: 2.5\n",
      "Inside a finally block\n"
     ]
    }
   ],
   "source": [
    "# If an exception is not handled by except clause,then finally block executes first,\n",
    "# then the exception is thrown. This process is known as clean-up action.\n",
    "try:\n",
    "    a = int(input(\"Enter value of a:\"))\n",
    "    b = int(input(\"Enter value of b:\"))\n",
    "    c = a / b\n",
    "    print(\"The answer of a divide by b:\", c)\n",
    "\n",
    "except ZeroDivisionError:\n",
    "    print(\"Can't divide with zero\")\n",
    "finally:\n",
    "    print(\"Inside a finally block\")\n"
   ]
  },
  {
   "cell_type": "code",
   "execution_count": 3,
   "id": "d529f4cc",
   "metadata": {},
   "outputs": [
    {
     "name": "stdout",
     "output_type": "stream",
     "text": [
      "Case1\n",
      "The simple interest is 294.0\n",
      "Case2\n",
      "interest rate is out of range 600\n"
     ]
    }
   ],
   "source": [
    "def simple_interest(amount,year,rate):\n",
    "    try:\n",
    "        if rate>100:\n",
    "            raise ValueError(rate)\n",
    "        interest = (amount*year*rate)/100\n",
    "        print('The simple interest is',interest)\n",
    "        return interest\n",
    "    except ValueError:\n",
    "        print('interest rate is out of range',rate)\n",
    "        \n",
    "print('Case1')\n",
    "simple_interest(700,7,6)\n",
    "        \n",
    "print('Case2')\n",
    "simple_interest(700,7,600)\n",
    "    \n",
    "        \n",
    "            \n",
    "            \n",
    "            "
   ]
  },
  {
   "cell_type": "code",
   "execution_count": 5,
   "id": "4561919b",
   "metadata": {},
   "outputs": [
    {
     "ename": "ValueError",
     "evalue": "Division failed",
     "output_type": "error",
     "traceback": [
      "\u001b[1;31m---------------------------------------------------------------------------\u001b[0m",
      "\u001b[1;31mZeroDivisionError\u001b[0m                         Traceback (most recent call last)",
      "Input \u001b[1;32mIn [5]\u001b[0m, in \u001b[0;36m<cell line: 1>\u001b[1;34m()\u001b[0m\n\u001b[0;32m      3\u001b[0m b\u001b[38;5;241m=\u001b[39m\u001b[38;5;241m0\u001b[39m\n\u001b[1;32m----> 4\u001b[0m c\u001b[38;5;241m=\u001b[39m\u001b[43ma\u001b[49m\u001b[38;5;241;43m/\u001b[39;49m\u001b[43mb\u001b[49m\n\u001b[0;32m      5\u001b[0m \u001b[38;5;28mprint\u001b[39m(\u001b[38;5;124m'\u001b[39m\u001b[38;5;124mc=\u001b[39m\u001b[38;5;124m'\u001b[39m,c)\n",
      "\u001b[1;31mZeroDivisionError\u001b[0m: division by zero",
      "\nThe above exception was the direct cause of the following exception:\n",
      "\u001b[1;31mValueError\u001b[0m                                Traceback (most recent call last)",
      "Input \u001b[1;32mIn [5]\u001b[0m, in \u001b[0;36m<cell line: 1>\u001b[1;34m()\u001b[0m\n\u001b[0;32m      5\u001b[0m     \u001b[38;5;28mprint\u001b[39m(\u001b[38;5;124m'\u001b[39m\u001b[38;5;124mc=\u001b[39m\u001b[38;5;124m'\u001b[39m,c)\n\u001b[0;32m      6\u001b[0m \u001b[38;5;28;01mexcept\u001b[39;00m \u001b[38;5;167;01mZeroDivisionError\u001b[39;00m  \u001b[38;5;28;01mas\u001b[39;00m e:\n\u001b[1;32m----> 7\u001b[0m     \u001b[38;5;28;01mraise\u001b[39;00m \u001b[38;5;167;01mValueError\u001b[39;00m(\u001b[38;5;124m'\u001b[39m\u001b[38;5;124mDivision failed\u001b[39m\u001b[38;5;124m'\u001b[39m) \u001b[38;5;28;01mfrom\u001b[39;00m \u001b[38;5;21;01me\u001b[39;00m\n",
      "\u001b[1;31mValueError\u001b[0m: Division failed"
     ]
    }
   ],
   "source": [
    "try:\n",
    "    a=10\n",
    "    b=0\n",
    "    c=a/b\n",
    "    print('c=',c)\n",
    "except ZeroDivisionError  as e:\n",
    "    raise ValueError('Division failed') from e"
   ]
  },
  {
   "cell_type": "code",
   "execution_count": 8,
   "id": "c688e6b9",
   "metadata": {},
   "outputs": [
    {
     "name": "stdout",
     "output_type": "stream",
     "text": [
      "Enter any value in 10 to 50 range: 60\n",
      "value out of range...try again\n",
      "Enter any value in 10 to 50 range: 5\n",
      "Value is below range..try again\n",
      "Enter any value in 10 to 50 range: 20\n",
      "Great! value in correct range.\n"
     ]
    }
   ],
   "source": [
    "class Error(Exception):\n",
    "    \"\"\"Base class for other exceptions\"\"\"\n",
    "    pass\n",
    "\n",
    "class ValueTooSmallError(Error):\n",
    "    \"\"\"Raised when the input value is small\"\"\"\n",
    "    pass\n",
    "\n",
    "class ValueTooLargeError(Error):\n",
    "    \"\"\"Raised when the input value is large\"\"\"\n",
    "    pass\n",
    "\n",
    "while(True):\n",
    "    try:\n",
    "        num = int(input(\"Enter any value in 10 to 50 range: \"))\n",
    "        if num < 10:\n",
    "            raise ValueTooSmallError\n",
    "        elif num > 50:\n",
    "            raise ValueTooLargeError\n",
    "        break\n",
    "    except ValueTooSmallError:\n",
    "            print(\"Value is below range..try again\")\n",
    "\n",
    "    except ValueTooLargeError:\n",
    "            print(\"value out of range...try again\")\n",
    "\n",
    "print(\"Great! value in correct range.\")"
   ]
  },
  {
   "cell_type": "code",
   "execution_count": 10,
   "id": "d80bab05",
   "metadata": {},
   "outputs": [
    {
     "name": "stdout",
     "output_type": "stream",
     "text": [
      "enter age-2\n"
     ]
    },
    {
     "ename": "NegativeAge",
     "evalue": "-2",
     "output_type": "error",
     "traceback": [
      "\u001b[1;31m---------------------------------------------------------------------------\u001b[0m",
      "\u001b[1;31mNegativeAge\u001b[0m                               Traceback (most recent call last)",
      "Input \u001b[1;32mIn [10]\u001b[0m, in \u001b[0;36m<cell line: 7>\u001b[1;34m()\u001b[0m\n\u001b[0;32m      6\u001b[0m age\u001b[38;5;241m=\u001b[39m\u001b[38;5;28mint\u001b[39m(\u001b[38;5;28minput\u001b[39m(\u001b[38;5;124m'\u001b[39m\u001b[38;5;124menter age\u001b[39m\u001b[38;5;124m'\u001b[39m))\n\u001b[0;32m      7\u001b[0m \u001b[38;5;28;01mif\u001b[39;00m age\u001b[38;5;241m<\u001b[39m\u001b[38;5;241m0\u001b[39m:\n\u001b[1;32m----> 8\u001b[0m     \u001b[38;5;28;01mraise\u001b[39;00m NegativeAge(age)\n",
      "\u001b[1;31mNegativeAge\u001b[0m: -2"
     ]
    }
   ],
   "source": [
    "class NegativeAge(Exception):\n",
    "    def __init__(self,age,):\n",
    "        message=\"Age should not be negative\"\n",
    "        self.age=age\n",
    "        self.message=message\n",
    "age=int(input('enter age'))\n",
    "if age<0:\n",
    "    raise NegativeAge(age)\n",
    "        "
   ]
  },
  {
   "cell_type": "code",
   "execution_count": 11,
   "id": "8612a254",
   "metadata": {},
   "outputs": [
    {
     "name": "stdout",
     "output_type": "stream",
     "text": [
      "Enter age: -34\n"
     ]
    },
    {
     "ename": "NegativeAgeError",
     "evalue": "-34",
     "output_type": "error",
     "traceback": [
      "\u001b[1;31m---------------------------------------------------------------------------\u001b[0m",
      "\u001b[1;31mNegativeAgeError\u001b[0m                          Traceback (most recent call last)",
      "Input \u001b[1;32mIn [11]\u001b[0m, in \u001b[0;36m<cell line: 9>\u001b[1;34m()\u001b[0m\n\u001b[0;32m      8\u001b[0m age \u001b[38;5;241m=\u001b[39m \u001b[38;5;28mint\u001b[39m(\u001b[38;5;28minput\u001b[39m(\u001b[38;5;124m\"\u001b[39m\u001b[38;5;124mEnter age: \u001b[39m\u001b[38;5;124m\"\u001b[39m))\n\u001b[0;32m      9\u001b[0m \u001b[38;5;28;01mif\u001b[39;00m age \u001b[38;5;241m<\u001b[39m \u001b[38;5;241m0\u001b[39m:\n\u001b[1;32m---> 10\u001b[0m     \u001b[38;5;28;01mraise\u001b[39;00m NegativeAgeError(age)\n",
      "\u001b[1;31mNegativeAgeError\u001b[0m: -34"
     ]
    }
   ],
   "source": [
    "class NegativeAgeError(Exception):\n",
    "\n",
    "    def __init__(self, age, ):\n",
    "        message = \"Age should not be negative\"\n",
    "        self.age = age\n",
    "        self.message = message\n",
    "\n",
    "age = int(input(\"Enter age: \"))\n",
    "if age < 0:\n",
    "    raise NegativeAgeError(age)\n",
    "# Output:\n",
    "# raise NegativeAgeError(age)\n",
    "# __main__.NegativeAgeError: -9\n"
   ]
  },
  {
   "cell_type": "code",
   "execution_count": null,
   "id": "98db8c66",
   "metadata": {},
   "outputs": [],
   "source": []
  }
 ],
 "metadata": {
  "kernelspec": {
   "display_name": "Python 3 (ipykernel)",
   "language": "python",
   "name": "python3"
  },
  "language_info": {
   "codemirror_mode": {
    "name": "ipython",
    "version": 3
   },
   "file_extension": ".py",
   "mimetype": "text/x-python",
   "name": "python",
   "nbconvert_exporter": "python",
   "pygments_lexer": "ipython3",
   "version": "3.10.6"
  }
 },
 "nbformat": 4,
 "nbformat_minor": 5
}
