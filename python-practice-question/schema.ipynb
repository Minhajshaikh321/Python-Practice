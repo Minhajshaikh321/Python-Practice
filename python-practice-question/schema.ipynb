{
 "cells": [
  {
   "cell_type": "code",
   "execution_count": 4,
   "id": "6d28596a",
   "metadata": {},
   "outputs": [
    {
     "name": "stdout",
     "output_type": "stream",
     "text": [
      "[{'a': '123'}, {'b': '456'}]\n",
      "<class 'list'>\n",
      "<class 'str'>\n"
     ]
    }
   ],
   "source": [
    "import json\n",
    "a=[{\"a\":\"123\"},{\"b\":\"456\"}]\n",
    "x=json.dumps(a)\n",
    "# x=json.dump(a)\n",
    "print(a)\n",
    "print(type(a))\n",
    "print(type(x))"
   ]
  },
  {
   "cell_type": "code",
   "execution_count": 5,
   "id": "ffdcab6b",
   "metadata": {},
   "outputs": [
    {
     "name": "stdout",
     "output_type": "stream",
     "text": [
      "[{\"a\":\"123\",\"b\":\"456\"}]\n",
      "<class 'list'>\n",
      "<class 'str'>\n"
     ]
    }
   ],
   "source": [
    "import json\n",
    "a=\"\"\"[{\"a\":\"123\",\"b\":\"456\"}]\"\"\"\n",
    "x=json.loads(a)\n",
    "print(a)\n",
    "print(type(x))\n",
    "print(type(a))\n"
   ]
  },
  {
   "cell_type": "code",
   "execution_count": 10,
   "id": "82f33eac",
   "metadata": {},
   "outputs": [
    {
     "ename": "AttributeError",
     "evalue": "'dict' object has no attribute 'jsonify'",
     "output_type": "error",
     "traceback": [
      "\u001b[1;31m---------------------------------------------------------------------------\u001b[0m",
      "\u001b[1;31mAttributeError\u001b[0m                            Traceback (most recent call last)",
      "Input \u001b[1;32mIn [10]\u001b[0m, in \u001b[0;36m<cell line: 5>\u001b[1;34m()\u001b[0m\n\u001b[0;32m      3\u001b[0m a\u001b[38;5;241m=\u001b[39m{\u001b[38;5;124m\"\u001b[39m\u001b[38;5;124ma\u001b[39m\u001b[38;5;124m\"\u001b[39m:\u001b[38;5;124m\"\u001b[39m\u001b[38;5;124m123\u001b[39m\u001b[38;5;124m\"\u001b[39m,\u001b[38;5;124m\"\u001b[39m\u001b[38;5;124mb\u001b[39m\u001b[38;5;124m\"\u001b[39m:\u001b[38;5;124m\"\u001b[39m\u001b[38;5;124m456\u001b[39m\u001b[38;5;124m\"\u001b[39m}\n\u001b[0;32m      4\u001b[0m \u001b[38;5;66;03m# x=jsonify(a)\u001b[39;00m\n\u001b[1;32m----> 5\u001b[0m \u001b[38;5;28mprint\u001b[39m(\u001b[43ma\u001b[49m\u001b[38;5;241;43m.\u001b[39;49m\u001b[43mjsonify\u001b[49m())\n",
      "\u001b[1;31mAttributeError\u001b[0m: 'dict' object has no attribute 'jsonify'"
     ]
    }
   ],
   "source": [
    "import jsonify\n",
    "from flask import jsonify, Flask\n",
    "a={\"a\":\"123\",\"b\":\"456\"}\n",
    "# x=jsonify(a)\n",
    "print(a.jsonify())"
   ]
  },
  {
   "cell_type": "code",
   "execution_count": 11,
   "id": "a24d6052",
   "metadata": {},
   "outputs": [],
   "source": [
    "from jsonify import convert\n",
    "# convert.jsonify('path')\n",
    "convert.jsonify('save.csv')"
   ]
  },
  {
   "cell_type": "code",
   "execution_count": null,
   "id": "321427d5",
   "metadata": {},
   "outputs": [],
   "source": []
  }
 ],
 "metadata": {
  "kernelspec": {
   "display_name": "Python 3 (ipykernel)",
   "language": "python",
   "name": "python3"
  },
  "language_info": {
   "codemirror_mode": {
    "name": "ipython",
    "version": 3
   },
   "file_extension": ".py",
   "mimetype": "text/x-python",
   "name": "python",
   "nbconvert_exporter": "python",
   "pygments_lexer": "ipython3",
   "version": "3.10.6"
  }
 },
 "nbformat": 4,
 "nbformat_minor": 5
}
