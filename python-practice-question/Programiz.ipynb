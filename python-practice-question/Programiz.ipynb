{
 "cells": [
  {
   "cell_type": "markdown",
   "id": "147bddd0",
   "metadata": {},
   "source": [
    "# isinstance()"
   ]
  },
  {
   "cell_type": "code",
   "execution_count": 9,
   "id": "01457954",
   "metadata": {},
   "outputs": [
    {
     "name": "stdout",
     "output_type": "stream",
     "text": [
      "True\n",
      "False\n"
     ]
    }
   ],
   "source": [
    "# The isinstance() function checks if the object (first argument) is an instance or subclass of \n",
    "# classinfo class (second argument).\n",
    "\n",
    "num_list=[1,2,3,4,5]\n",
    "num_tuple=(1,2,3,4)\n",
    "list_data=isinstance(num,list)\n",
    "tuple_data=isinstance(num_tuple,list)\n",
    "# tuple_data=isinstance(num_tuple,tuple)\n",
    "\n",
    "\n",
    "print(list_data)\n",
    "print(tuple_data)"
   ]
  },
  {
   "cell_type": "code",
   "execution_count": 10,
   "id": "b4778f32",
   "metadata": {},
   "outputs": [
    {
     "name": "stdout",
     "output_type": "stream",
     "text": [
      "True\n",
      "False\n",
      "True\n"
     ]
    }
   ],
   "source": [
    "class Foo:\n",
    "  a = 5\n",
    "  \n",
    "fooInstance = Foo()\n",
    "\n",
    "print(isinstance(fooInstance, Foo))\n",
    "print(isinstance(fooInstance, (list, tuple)))\n",
    "print(isinstance(fooInstance, (list, tuple, Foo)))"
   ]
  },
  {
   "cell_type": "code",
   "execution_count": 14,
   "id": "5cecceff",
   "metadata": {},
   "outputs": [
    {
     "name": "stdout",
     "output_type": "stream",
     "text": [
      "[11, 12, 13, 14, 15] isinstance of list True\n",
      "[11, 12, 13, 14, 15] isinstance of dict False\n",
      "[11, 12, 13, 14, 15] isinstance of list or tuple True\n",
      "[11, 12, 13, 14, 15] isinstance of int or tuple False\n"
     ]
    }
   ],
   "source": [
    "numbers=[11,12,13,14,15]\n",
    "result=isinstance(numbers,list)\n",
    "print(numbers,'isinstance of list',result)\n",
    "\n",
    "result=isinstance(numbers,dict)\n",
    "print(numbers,'isinstance of dict',result)\n",
    "\n",
    "result=isinstance(numbers,(list,tuple))\n",
    "print(numbers,'isinstance of list or tuple',result)\n",
    "\n",
    "result=isinstance(numbers,(int,tuple))\n",
    "print(numbers,'isinstance of int or tuple',result)"
   ]
  },
  {
   "cell_type": "markdown",
   "id": "4f41b70c",
   "metadata": {},
   "source": [
    "# abs()"
   ]
  },
  {
   "cell_type": "code",
   "execution_count": 17,
   "id": "0430f3d0",
   "metadata": {},
   "outputs": [
    {
     "name": "stdout",
     "output_type": "stream",
     "text": [
      "50\n"
     ]
    }
   ],
   "source": [
    "# The abs() function returns the absolute value of the given number.\n",
    "# If the number is a complex number, abs() returns its magnitude.\n",
    "\n",
    "num=-50\n",
    "absolute_num=abs(num)\n",
    "print(absolute_num)\n"
   ]
  },
  {
   "cell_type": "code",
   "execution_count": 18,
   "id": "5f2e910e",
   "metadata": {},
   "outputs": [
    {
     "name": "stdout",
     "output_type": "stream",
     "text": [
      "Absolute value of -20 is: 20\n",
      "Absolute value of -30.33 is: 30.33\n"
     ]
    }
   ],
   "source": [
    "# random integer\n",
    "integer = -20\n",
    "print('Absolute value of -20 is:', abs(integer))\n",
    "\n",
    "#random floating number\n",
    "floating = -30.33\n",
    "print('Absolute value of -30.33 is:', abs(floating))"
   ]
  },
  {
   "cell_type": "code",
   "execution_count": 19,
   "id": "02240f21",
   "metadata": {},
   "outputs": [
    {
     "name": "stdout",
     "output_type": "stream",
     "text": [
      "Magnitude of 3 - 4j is: 5.0\n"
     ]
    }
   ],
   "source": [
    "# random complex number\n",
    "complex = (3 - 4j)\n",
    "# |a+bi|=√a2+b2\n",
    "print('Magnitude of 3 - 4j is:', abs(complex))"
   ]
  },
  {
   "cell_type": "markdown",
   "id": "7826aaae",
   "metadata": {},
   "source": [
    "# any()"
   ]
  },
  {
   "cell_type": "code",
   "execution_count": 20,
   "id": "81a74df6",
   "metadata": {},
   "outputs": [
    {
     "name": "stdout",
     "output_type": "stream",
     "text": [
      "True\n"
     ]
    }
   ],
   "source": [
    "# The any() function returns True if any element of an iterable is True. If not, it returns False.\n",
    "booleanlist=[True,False]\n",
    "result=any(booleanlist)\n",
    "print(result)"
   ]
  },
  {
   "cell_type": "code",
   "execution_count": 24,
   "id": "36212f36",
   "metadata": {},
   "outputs": [
    {
     "name": "stdout",
     "output_type": "stream",
     "text": [
      "True\n",
      "False\n",
      "False\n",
      "True\n"
     ]
    }
   ],
   "source": [
    "element=[1,2,4,6,0]\n",
    "print(any(element))\n",
    "\n",
    "element2=[0,0,0]\n",
    "print(any(element2))\n",
    "\n",
    "element3=[0,False]\n",
    "print(any(element3))\n",
    "\n",
    "element4=[1,False]\n",
    "print(any(element4))"
   ]
  },
  {
   "cell_type": "code",
   "execution_count": 26,
   "id": "5c669c7f",
   "metadata": {},
   "outputs": [
    {
     "name": "stdout",
     "output_type": "stream",
     "text": [
      "False\n",
      "True\n"
     ]
    }
   ],
   "source": [
    "s=\"\"\n",
    "print(any(s))\n",
    "\n",
    "st=\"000\"\n",
    "print(any(st))"
   ]
  },
  {
   "cell_type": "code",
   "execution_count": 31,
   "id": "5f7d8545",
   "metadata": {},
   "outputs": [
    {
     "name": "stdout",
     "output_type": "stream",
     "text": [
      "False\n",
      "True\n",
      "True\n"
     ]
    }
   ],
   "source": [
    "# In the case of dictionaries, if all keys (not values) are false or the dictionary is empty, any() returns False.\n",
    "# If at least one key is true, any() returns True.\n",
    "d={0:'False'}\n",
    "print(any(d))\n",
    "\n",
    "d1={'0':'False'}\n",
    "print(any(d1))\n",
    "\n",
    "d2={0:4,1:0}\n",
    "print(any(d2))\n"
   ]
  },
  {
   "cell_type": "markdown",
   "id": "1a326adb",
   "metadata": {},
   "source": [
    "# all()"
   ]
  },
  {
   "cell_type": "code",
   "execution_count": 34,
   "id": "307b558e",
   "metadata": {},
   "outputs": [
    {
     "name": "stdout",
     "output_type": "stream",
     "text": [
      "True\n",
      "False\n"
     ]
    }
   ],
   "source": [
    "boolean_list = ['True', 'True', 'True']\n",
    "# check if all elements are true\n",
    "result = all(boolean_list)\n",
    "print(result)\n",
    "\n",
    "boolean_list2 = [False, 'True', 'True']\n",
    "# check if all elements are true\n",
    "result = all(boolean_list2)\n",
    "print(result)\n",
    "\n"
   ]
  },
  {
   "cell_type": "code",
   "execution_count": 37,
   "id": "4c2fc300",
   "metadata": {},
   "outputs": [
    {
     "name": "stdout",
     "output_type": "stream",
     "text": [
      "True\n",
      "False\n",
      "False\n",
      "False\n"
     ]
    }
   ],
   "source": [
    "element=[1,2,4,6]\n",
    "print(all(element))\n",
    "\n",
    "element2=[23,12,0]\n",
    "print(all(element2))\n",
    "\n",
    "element3=[0,False]\n",
    "print(all(element3))\n",
    "\n",
    "element4=[1,False]\n",
    "print(all(element4))"
   ]
  },
  {
   "cell_type": "code",
   "execution_count": 38,
   "id": "57830737",
   "metadata": {},
   "outputs": [
    {
     "name": "stdout",
     "output_type": "stream",
     "text": [
      "False\n",
      "True\n",
      "False\n"
     ]
    }
   ],
   "source": [
    "d={0:'False'}\n",
    "print(all(d))\n",
    "\n",
    "d1={'0':'False'}\n",
    "print(all(d1))\n",
    "\n",
    "d2={0:4,1:0}\n",
    "print(all(d2))"
   ]
  },
  {
   "cell_type": "markdown",
   "id": "3310a30a",
   "metadata": {},
   "source": [
    "# bool()"
   ]
  },
  {
   "cell_type": "code",
   "execution_count": 48,
   "id": "29eb8045",
   "metadata": {},
   "outputs": [
    {
     "name": "stdout",
     "output_type": "stream",
     "text": [
      "1 is True\n",
      "[] is False\n",
      "True is True\n",
      "False is False\n",
      "None is False\n"
     ]
    }
   ],
   "source": [
    "# The bool() method takes a specified argument and returns its boolean value.\n",
    "test=1\n",
    "print(test,'is',bool(test))\n",
    "\n",
    "test2=[]\n",
    "print(test2,'is',bool(test2))\n",
    "\n",
    "test3=True\n",
    "print(test3,'is',bool(test3))\n",
    "\n",
    "test4=False\n",
    "print(test4,'is',bool(test4))\n",
    "\n",
    "test5=None\n",
    "print(test5,'is',bool(test5))"
   ]
  },
  {
   "cell_type": "code",
   "execution_count": 49,
   "id": "0af4122c",
   "metadata": {},
   "outputs": [
    {
     "name": "stdout",
     "output_type": "stream",
     "text": [
      "b'Python is fun'\n"
     ]
    }
   ],
   "source": [
    "# The bytes() method returns an immutable bytes object initialized with the given size and data.\n",
    "message = 'Python is fun'\n",
    "\n",
    "# convert string to bytes\n",
    "byte_message = bytes(message, 'utf-8')\n",
    "print(byte_message)\n",
    "\n",
    "# Output: b'Python is fun'\n"
   ]
  },
  {
   "cell_type": "code",
   "execution_count": 52,
   "id": "6c04c936",
   "metadata": {},
   "outputs": [
    {
     "name": "stdout",
     "output_type": "stream",
     "text": [
      "10\n",
      "-3\n"
     ]
    }
   ],
   "source": [
    "class Coordinate:\n",
    "    x=10\n",
    "    y=-3\n",
    "points=Coordinate()\n",
    "print(points.x)\n",
    "print(points.y)"
   ]
  },
  {
   "cell_type": "code",
   "execution_count": 54,
   "id": "011b2f3a",
   "metadata": {},
   "outputs": [
    {
     "ename": "AttributeError",
     "evalue": "y",
     "output_type": "error",
     "traceback": [
      "\u001b[1;31m---------------------------------------------------------------------------\u001b[0m",
      "\u001b[1;31mAttributeError\u001b[0m                            Traceback (most recent call last)",
      "Cell \u001b[1;32mIn[54], line 1\u001b[0m\n\u001b[1;32m----> 1\u001b[0m \u001b[38;5;28;43mdelattr\u001b[39;49m\u001b[43m(\u001b[49m\u001b[43mCoordinate\u001b[49m\u001b[43m,\u001b[49m\u001b[38;5;124;43m'\u001b[39;49m\u001b[38;5;124;43my\u001b[39;49m\u001b[38;5;124;43m'\u001b[39;49m\u001b[43m)\u001b[49m\n\u001b[0;32m      2\u001b[0m \u001b[38;5;28mprint\u001b[39m(points\u001b[38;5;241m.\u001b[39mx)\n\u001b[0;32m      3\u001b[0m \u001b[38;5;28mprint\u001b[39m(point\u001b[38;5;241m.\u001b[39my)\n",
      "\u001b[1;31mAttributeError\u001b[0m: y"
     ]
    }
   ],
   "source": [
    "delattr(Coordinate,'y')\n",
    "print(points.x)\n",
    "print(point.y)"
   ]
  },
  {
   "cell_type": "markdown",
   "id": "ac32cf5f",
   "metadata": {},
   "source": [
    "# getattr()"
   ]
  },
  {
   "cell_type": "code",
   "execution_count": 60,
   "id": "27c3112e",
   "metadata": {},
   "outputs": [
    {
     "name": "stdout",
     "output_type": "stream",
     "text": [
      "John\n",
      "John\n",
      "20\n"
     ]
    }
   ],
   "source": [
    "class Student:\n",
    "    name='John'\n",
    "    mark=20\n",
    "    \n",
    "person=Student()\n",
    "\n",
    "\n",
    "name=getattr(person,'name')\n",
    "name2=person.name\n",
    "print(name)\n",
    "print(name2)\n",
    "\n",
    "mark=getattr(person,'mark')\n",
    "print(mark)"
   ]
  },
  {
   "cell_type": "markdown",
   "id": "2ee1255b",
   "metadata": {},
   "source": [
    "# hasattr()"
   ]
  },
  {
   "cell_type": "code",
   "execution_count": 63,
   "id": "3f5a3ad7",
   "metadata": {},
   "outputs": [
    {
     "name": "stdout",
     "output_type": "stream",
     "text": [
      "Fruit price True\n",
      "Fruit name True\n",
      "Fruit color False\n"
     ]
    }
   ],
   "source": [
    "# The hasattr() method returns true if an object has the given named attribute and false if it does not.\n",
    "class Fruit:\n",
    "    price=100\n",
    "    name=\"mango\"\n",
    "    \n",
    "fruit=Fruit()    \n",
    "\n",
    "print('Fruit price', hasattr(Fruit,'price'))\n",
    "print('Fruit name', hasattr(Fruit,'name'))\n",
    "print('Fruit color', hasattr(Fruit,'color'))\n",
    "\n"
   ]
  },
  {
   "cell_type": "code",
   "execution_count": 67,
   "id": "f2dc95ab",
   "metadata": {},
   "outputs": [
    {
     "name": "stdout",
     "output_type": "stream",
     "text": [
      "3000\n",
      "noise\n"
     ]
    }
   ],
   "source": [
    "class Earphone:\n",
    "    brand='boat'\n",
    "    price=2000\n",
    "earphone=Earphone()\n",
    "\n",
    "setattr(earphone,'price',3000)\n",
    "print(earphone.price)\n",
    "\n",
    "setattr(earphone,'brand','noise')\n",
    "print(earphone.brand)\n"
   ]
  },
  {
   "cell_type": "markdown",
   "id": "3d860bbe",
   "metadata": {},
   "source": [
    "# slice()"
   ]
  },
  {
   "cell_type": "code",
   "execution_count": 68,
   "id": "38cc96c6",
   "metadata": {},
   "outputs": [
    {
     "name": "stdout",
     "output_type": "stream",
     "text": [
      "Python\n"
     ]
    }
   ],
   "source": [
    "# The slice() function returns a slice object that is used to slice any sequence (string, tuple, list, range, or bytes).\n",
    "text = 'Python Programing'\n",
    "\n",
    "# get slice object to slice Python\n",
    "sliced_text = slice(6)\n",
    "print(text[sliced_text])\n",
    "\n",
    "# Output: Python"
   ]
  },
  {
   "cell_type": "code",
   "execution_count": 69,
   "id": "fe5d5407",
   "metadata": {},
   "outputs": [
    {
     "name": "stdout",
     "output_type": "stream",
     "text": [
      "edo\n"
     ]
    }
   ],
   "source": [
    "py_string = 'PythonCode'\n",
    "\n",
    "# start = -1, stop = -4, step = -1\n",
    "# contains indices -1, -2 and -3\n",
    "slice_object = slice(-1, -4, -1)\n",
    "\n",
    "print(py_string[slice_object])   # noh"
   ]
  },
  {
   "cell_type": "markdown",
   "id": "460a58fa",
   "metadata": {},
   "source": [
    "# sorted()"
   ]
  },
  {
   "cell_type": "code",
   "execution_count": 70,
   "id": "0c44f2b2",
   "metadata": {},
   "outputs": [
    {
     "name": "stdout",
     "output_type": "stream",
     "text": [
      "[2, 4, 8, 12]\n"
     ]
    }
   ],
   "source": [
    "# The sorted() function sorts elements of a given iterable in specific order (ascending or descending) and returns it as a list.\n",
    "numbers = [4, 2, 12, 8]\n",
    "\n",
    "sorted_numbers = sorted(numbers)\n",
    "print(sorted_numbers)\n",
    "\n",
    "# Output: [2, 4, 8, 12]\n"
   ]
  },
  {
   "cell_type": "code",
   "execution_count": 72,
   "id": "fc4f6b6c",
   "metadata": {},
   "outputs": [
    {
     "name": "stdout",
     "output_type": "stream",
     "text": [
      "['P', 'h', 'n', 'o', 't', 'y']\n"
     ]
    }
   ],
   "source": [
    "py_string='Python'\n",
    "print(sorted(py_string))"
   ]
  },
  {
   "cell_type": "markdown",
   "id": "ed2328f6",
   "metadata": {},
   "source": [
    "# sum()"
   ]
  },
  {
   "cell_type": "code",
   "execution_count": 73,
   "id": "b36afc74",
   "metadata": {},
   "outputs": [
    {
     "name": "stdout",
     "output_type": "stream",
     "text": [
      "26\n"
     ]
    }
   ],
   "source": [
    "numbers = [4, 2, 12, 8]\n",
    "print(sum(numbers))"
   ]
  },
  {
   "cell_type": "markdown",
   "id": "96f38682",
   "metadata": {},
   "source": [
    "# tuple()"
   ]
  },
  {
   "cell_type": "code",
   "execution_count": 76,
   "id": "fadc7141",
   "metadata": {},
   "outputs": [
    {
     "name": "stdout",
     "output_type": "stream",
     "text": [
      "()\n",
      "(7, 3, 4)\n",
      "('m', 'i', 'n', 'h', 'a', 'j')\n",
      "('alphabet', 'word')\n"
     ]
    }
   ],
   "source": [
    "t1=tuple()\n",
    "t2=tuple([7,3,4])\n",
    "t3=tuple('minhaj')\n",
    "t4=tuple({'alphabet':\"S\",\"word\":\"Suraiya\"})\n",
    "\n",
    "print(t1)\n",
    "print(t2)\n",
    "print(t3)\n",
    "print(t4)"
   ]
  },
  {
   "cell_type": "markdown",
   "id": "658637c3",
   "metadata": {},
   "source": [
    "# type()"
   ]
  },
  {
   "cell_type": "code",
   "execution_count": 77,
   "id": "7ca003fc",
   "metadata": {},
   "outputs": [
    {
     "name": "stdout",
     "output_type": "stream",
     "text": [
      "<class 'list'>\n"
     ]
    }
   ],
   "source": [
    "prime_numbers = [2, 3, 5, 7]\n",
    "\n",
    "# check type of prime_numbers\n",
    "result = type(prime_numbers)\n",
    "print(result)\n",
    "\n",
    "# Output: <class 'list'>"
   ]
  },
  {
   "cell_type": "markdown",
   "id": "1a340214",
   "metadata": {},
   "source": [
    "# range()"
   ]
  },
  {
   "cell_type": "code",
   "execution_count": 1,
   "id": "b46461dc",
   "metadata": {},
   "outputs": [
    {
     "name": "stdout",
     "output_type": "stream",
     "text": [
      "0\n",
      "1\n",
      "2\n",
      "3\n"
     ]
    }
   ],
   "source": [
    "# The range() function returns a sequence of numbers between the give range. range(start, stop, step)\n",
    "\n",
    "number=range(4)\n",
    "for i in number:\n",
    "    print(i)"
   ]
  },
  {
   "cell_type": "code",
   "execution_count": 2,
   "id": "dcbcb53a",
   "metadata": {},
   "outputs": [
    {
     "name": "stdout",
     "output_type": "stream",
     "text": [
      "[1, 4, 7]\n"
     ]
    }
   ],
   "source": [
    "num=range(1,10,3)\n",
    "print(list(num))"
   ]
  },
  {
   "cell_type": "code",
   "execution_count": 3,
   "id": "85f76dd2",
   "metadata": {},
   "outputs": [
    {
     "name": "stdout",
     "output_type": "stream",
     "text": [
      "0\n",
      "1\n",
      "2\n",
      "3\n",
      "4\n"
     ]
    }
   ],
   "source": [
    "for i in range(5):\n",
    "    print(i)"
   ]
  },
  {
   "cell_type": "markdown",
   "id": "e31360f3",
   "metadata": {},
   "source": [
    "# reversed()"
   ]
  },
  {
   "cell_type": "code",
   "execution_count": 5,
   "id": "813b5b41",
   "metadata": {},
   "outputs": [
    {
     "name": "stdout",
     "output_type": "stream",
     "text": [
      "<reversed object at 0x0000018E52FC7070>\n",
      "['j', 'a', 'h', 'n', 'i', 'M']\n"
     ]
    }
   ],
   "source": [
    "# The reversed() method computes the reverse of a given sequence object and returns it in the form of a list.\n",
    "seq=\"Minhaj\"\n",
    "print(reversed(seq))\n",
    "print(list(reversed(seq)))\n"
   ]
  },
  {
   "cell_type": "markdown",
   "id": "7093d061",
   "metadata": {},
   "source": [
    "# property()"
   ]
  },
  {
   "cell_type": "code",
   "execution_count": 8,
   "id": "23cf20dc",
   "metadata": {},
   "outputs": [
    {
     "name": "stdout",
     "output_type": "stream",
     "text": [
      "Getting name\n",
      "Minhaj\n",
      "set name toAsma\n",
      "Deleting name\n"
     ]
    }
   ],
   "source": [
    "class Person:\n",
    "    def __init__(self,name):\n",
    "        self._name=name\n",
    "    def get_name(self):\n",
    "        print('Getting name')\n",
    "        return self._name\n",
    "    def set_name(self,value):\n",
    "        print('set name to'+ value)\n",
    "        self._name=value\n",
    "    def del_name(self):\n",
    "        print('Deleting name')\n",
    "        del self._name\n",
    "        \n",
    "    name=property(get_name,set_name,del_name,'Name property')\n",
    "    \n",
    "p=Person('Minhaj')\n",
    "print(p.name)\n",
    "p.name='Asma'\n",
    "del p.name\n",
    "\n",
    "# As shown in the program, referencing p.name internally calls get_name() as getter, set_name() as\n",
    "# setter and del_name() as deleter through the printed output present inside the methods."
   ]
  },
  {
   "cell_type": "code",
   "execution_count": 1,
   "id": "82ec62ac",
   "metadata": {},
   "outputs": [
    {
     "name": "stdout",
     "output_type": "stream",
     "text": [
      "Getting name\n",
      "The name is Amziya\n",
      "Setting name to Yashfeen\n",
      "Deleting name Yashfeen\n"
     ]
    }
   ],
   "source": [
    "class Person:\n",
    "    def __init__(self,name):\n",
    "        self._name=name\n",
    "        \n",
    "    @property    \n",
    "    def name(self):\n",
    "        print('Getting name')\n",
    "        return self._name\n",
    "    @name.setter\n",
    "    def name(self,value):\n",
    "        print('Setting name to '+ value)\n",
    "        self._name=value\n",
    "    @name.deleter\n",
    "    def name(self):\n",
    "        print('Deleting name',self._name)\n",
    "        del self._name\n",
    "        \n",
    "p1=Person('Amziya')\n",
    "print('The name is', p1.name)\n",
    "\n",
    "p1.name='Yashfeen'\n",
    "del p1.name"
   ]
  },
  {
   "cell_type": "code",
   "execution_count": null,
   "id": "325ea7b0",
   "metadata": {},
   "outputs": [],
   "source": []
  }
 ],
 "metadata": {
  "kernelspec": {
   "display_name": "Python 3 (ipykernel)",
   "language": "python",
   "name": "python3"
  },
  "language_info": {
   "codemirror_mode": {
    "name": "ipython",
    "version": 3
   },
   "file_extension": ".py",
   "mimetype": "text/x-python",
   "name": "python",
   "nbconvert_exporter": "python",
   "pygments_lexer": "ipython3",
   "version": "3.10.6"
  }
 },
 "nbformat": 4,
 "nbformat_minor": 5
}
