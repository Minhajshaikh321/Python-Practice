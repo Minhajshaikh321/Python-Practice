{
 "cells": [
  {
   "cell_type": "markdown",
   "id": "3ab78aed",
   "metadata": {},
   "source": [
    "# logic qn"
   ]
  },
  {
   "cell_type": "code",
   "execution_count": 7,
   "id": "e710764e",
   "metadata": {},
   "outputs": [
    {
     "name": "stdout",
     "output_type": "stream",
     "text": [
      "[2, 8, 18, 32]\n"
     ]
    }
   ],
   "source": [
    "# i/p=[1,2,3,4]  o/p=[2,8,18,32]\n",
    "l=[1,2,3,4]\n",
    "l=list(map(lambda x:x**2 + x**2,l))\n",
    "print(l)"
   ]
  },
  {
   "cell_type": "code",
   "execution_count": 2,
   "id": "56f14f52",
   "metadata": {},
   "outputs": [
    {
     "name": "stdout",
     "output_type": "stream",
     "text": [
      "[3, 7, 4]\n"
     ]
    }
   ],
   "source": [
    "# i/p=[5,8,15,19]  o/p=[5,3,7,4]\n",
    "my_list = [5,8,15,19]\n",
    "diff_list = []\n",
    "for i in range(1,len(my_list)):\n",
    "    x = my_list[i] - my_list[i-1]\n",
    "    diff_list.append(x)\n",
    "print(diff_list)\n",
    "# diffs =[my_list[0]] + [y - x for x, y in zip(my_list, my_list[1:])]\n",
    "# print(diffs)"
   ]
  },
  {
   "cell_type": "code",
   "execution_count": 4,
   "id": "874b61ae",
   "metadata": {},
   "outputs": [
    {
     "name": "stdout",
     "output_type": "stream",
     "text": [
      "[8, 15, 19]\n",
      "[5, 8, 15, 19]\n"
     ]
    }
   ],
   "source": [
    "my_list=[5,8,15,19]\n",
    "print(my_list[1:])\n",
    "print(my_list)"
   ]
  },
  {
   "cell_type": "code",
   "execution_count": null,
   "id": "1e0669e6",
   "metadata": {},
   "outputs": [],
   "source": []
  },
  {
   "cell_type": "code",
   "execution_count": null,
   "id": "161a149d",
   "metadata": {},
   "outputs": [],
   "source": []
  },
  {
   "cell_type": "code",
   "execution_count": null,
   "id": "e6a887e7",
   "metadata": {},
   "outputs": [],
   "source": [
    "lst = [5,8,15,19]\n",
    "e=[]\n",
    "for i in range(1,len(lst)):\n",
    "    x=lst[i] - lst[i-1]\n",
    "    e.append(x)\n",
    "    "
   ]
  },
  {
   "cell_type": "code",
   "execution_count": null,
   "id": "df1e6022",
   "metadata": {},
   "outputs": [],
   "source": []
  },
  {
   "cell_type": "code",
   "execution_count": 9,
   "id": "e373c7ca",
   "metadata": {},
   "outputs": [
    {
     "name": "stdout",
     "output_type": "stream",
     "text": [
      "[8, 15, 19] [5, 8, 15]\n"
     ]
    }
   ],
   "source": [
    "z=[5,8,15,19]\n",
    "print(z[1:],z[:-1])"
   ]
  },
  {
   "cell_type": "markdown",
   "id": "88d867c0",
   "metadata": {},
   "source": [
    "# find largest num in list without using max funcn"
   ]
  },
  {
   "cell_type": "code",
   "execution_count": 7,
   "id": "aaa2c94e",
   "metadata": {},
   "outputs": [
    {
     "name": "stdout",
     "output_type": "stream",
     "text": [
      "80\n"
     ]
    }
   ],
   "source": [
    "lst=[1,10,17,80,20]\n",
    "a=0\n",
    "for i in lst:\n",
    "    while i>a:\n",
    "        a=i\n",
    "print(a)"
   ]
  },
  {
   "cell_type": "markdown",
   "id": "1c09321f",
   "metadata": {},
   "source": [
    "# sort the list len funcn"
   ]
  },
  {
   "cell_type": "code",
   "execution_count": 8,
   "id": "a923fbfb",
   "metadata": {},
   "outputs": [
    {
     "name": "stdout",
     "output_type": "stream",
     "text": [
      "['bmw', 'vion', 'skoda']\n"
     ]
    }
   ],
   "source": [
    "a=[\"vion\",\"bmw\",\"skoda\"]\n",
    "a.sort(key=len)\n",
    "print(a)"
   ]
  },
  {
   "cell_type": "markdown",
   "id": "9a65fa7d",
   "metadata": {},
   "source": [
    "# find max number value in dict"
   ]
  },
  {
   "cell_type": "code",
   "execution_count": 1,
   "id": "302dd91a",
   "metadata": {},
   "outputs": [
    {
     "data": {
      "text/plain": [
       "{'Ali': 91}"
      ]
     },
     "execution_count": 1,
     "metadata": {},
     "output_type": "execute_result"
    }
   ],
   "source": [
    "dict1={\"Ali\":{\"Score\":91},\"Akbar\":{\"Score\":45},\"Bilal\":{\"Score\":30}}\n",
    "def maximum():\n",
    "    maxm=0\n",
    "    stu=\" \"\n",
    "    for i in dict1:\n",
    "        Score=dict1.get(i)['Score']\n",
    "        if Score > maxm:\n",
    "            maxm=Score\n",
    "            stu=i\n",
    "    return {stu:maxm}\n",
    "maximum()"
   ]
  },
  {
   "cell_type": "markdown",
   "id": "9b8b8aae",
   "metadata": {},
   "source": [
    "# insertion sort"
   ]
  },
  {
   "cell_type": "code",
   "execution_count": 8,
   "id": "b4dff4a5",
   "metadata": {},
   "outputs": [
    {
     "name": "stdout",
     "output_type": "stream",
     "text": [
      "[5, 6, 11, 12, 13]\n"
     ]
    }
   ],
   "source": [
    "lt=[11,12,13,5,6]\n",
    "for i in range(1,len(lt)):\n",
    "    while lt[i-1]>lt[i] and i>0: \n",
    "        lt[i-1],lt[i]=lt[i],lt[i-1]\n",
    "        i = i-1\n",
    "#         print(\"updated\", lt)        \n",
    "print(lt)"
   ]
  },
  {
   "cell_type": "code",
   "execution_count": null,
   "id": "4e514804",
   "metadata": {},
   "outputs": [],
   "source": []
  },
  {
   "cell_type": "code",
   "execution_count": null,
   "id": "a526ca1b",
   "metadata": {},
   "outputs": [],
   "source": []
  },
  {
   "cell_type": "code",
   "execution_count": null,
   "id": "0417e412",
   "metadata": {},
   "outputs": [],
   "source": []
  },
  {
   "cell_type": "code",
   "execution_count": null,
   "id": "35dcfbeb",
   "metadata": {},
   "outputs": [],
   "source": []
  },
  {
   "cell_type": "code",
   "execution_count": null,
   "id": "ef93aa44",
   "metadata": {},
   "outputs": [],
   "source": []
  },
  {
   "cell_type": "code",
   "execution_count": null,
   "id": "f74c5075",
   "metadata": {},
   "outputs": [],
   "source": []
  },
  {
   "cell_type": "code",
   "execution_count": null,
   "id": "a3646bcc",
   "metadata": {},
   "outputs": [],
   "source": []
  },
  {
   "cell_type": "code",
   "execution_count": null,
   "id": "9ea00100",
   "metadata": {},
   "outputs": [],
   "source": []
  },
  {
   "cell_type": "code",
   "execution_count": 11,
   "id": "f1bcae32",
   "metadata": {},
   "outputs": [
    {
     "name": "stdout",
     "output_type": "stream",
     "text": [
      "[5, 15, 26, 32, 81]\n"
     ]
    }
   ],
   "source": [
    "lt=[11,12,13,5,6]\n",
    "lt=[81,32,15,5,26]\n",
    "for i in range(1,len(lt)):\n",
    "    while lt[i-1]>lt[i] and i>0:\n",
    "        lt[i-1],lt[i]=lt[i],lt[i-1]\n",
    "        i-=1\n",
    "print(lt)        "
   ]
  },
  {
   "cell_type": "code",
   "execution_count": null,
   "id": "f45bb50b",
   "metadata": {},
   "outputs": [],
   "source": []
  },
  {
   "cell_type": "code",
   "execution_count": null,
   "id": "4e3f8a16",
   "metadata": {},
   "outputs": [],
   "source": []
  },
  {
   "cell_type": "markdown",
   "id": "74bb664f",
   "metadata": {},
   "source": [
    "###### "
   ]
  },
  {
   "cell_type": "code",
   "execution_count": 13,
   "id": "1d379232",
   "metadata": {},
   "outputs": [
    {
     "name": "stdout",
     "output_type": "stream",
     "text": [
      "1 correct extension of python file?\n",
      "Ans: py.file\n",
      "2 what is django?\n",
      "Ans: Django is framework?\n",
      "3 what is class in oops?\n",
      "Ans: A class is a blueprint for the object\n",
      "4 what is instance varible?\n",
      "Ans: Attached to an instance of class\n",
      "1 django is use to create web app\n",
      "2 class contains the properties (attribute) and action (behavior) of the object.\n",
      "3 Instance variables are not shared by objects. Every object has its own copy of the instance attribute. This means that for each object of a class, the instance variable value is different\n"
     ]
    }
   ],
   "source": [
    "qn=[{\"question\":\"correct extension of python file?\",\n",
    "    \"answer\":\"py.file\",\n",
    "    \"explanation\":\" \"},\n",
    "    {\"question\":\"what is django?\",\n",
    "    \"answer\":\"Django is framework?\",\n",
    "    \"explanation\":\"django is use to create web app\"},\n",
    "    {\"question\":\"what is class in oops?\",\n",
    "    \"answer\":\"A class is a blueprint for the object\",\n",
    "    \"explanation\":\"class contains the properties (attribute) and action (behavior) of the object.\"},\n",
    "    {\"question\":\"what is instance varible?\",\n",
    "    \"answer\":\"Attached to an instance of class\",\n",
    "    \"explanation\":\"Instance variables are not shared by objects. Every object has its own copy of the instance attribute. This means that for each object of a class, the instance variable value is different\"\n",
    "     }]\n",
    "count=1\n",
    "for x in qn:\n",
    "    print(count,x[\"question\"])   \n",
    "    count+=1\n",
    "    print(\"Ans:\",x[\"answer\"])\n",
    "e=1\n",
    "for x in qn:\n",
    "    if x[\"explanation\"]==\" \":\n",
    "        pass\n",
    "    else:\n",
    "        print(e,x[\"explanation\"])\n",
    "        e+=1\n",
    "#     q=x[\"question\"]\n",
    "#     count=count+1\n",
    "#     print(i,count,'-',j)"
   ]
  },
  {
   "cell_type": "code",
   "execution_count": 14,
   "id": "443d3ad3",
   "metadata": {},
   "outputs": [
    {
     "data": {
      "text/plain": [
       "'what is django?'"
      ]
     },
     "execution_count": 14,
     "metadata": {},
     "output_type": "execute_result"
    }
   ],
   "source": [
    "x={\"question\":\"what is django?\",\"answer\":\"Django is framework?\",\"explanation\":\"django is use to create web app\"}\n",
    "x[\"question\"]"
   ]
  },
  {
   "cell_type": "code",
   "execution_count": 3,
   "id": "0008516e",
   "metadata": {},
   "outputs": [
    {
     "name": "stdout",
     "output_type": "stream",
     "text": [
      "[2, 9, 0]\n"
     ]
    }
   ],
   "source": [
    "a=[2,8,9]\n",
    "if a[-1]<9:\n",
    "    a[-1]+=1\n",
    "else:\n",
    "    a[-1]=0\n",
    "    a[-2]+=1\n",
    "print(a)    "
   ]
  },
  {
   "cell_type": "code",
   "execution_count": 5,
   "id": "c9e6fae1",
   "metadata": {},
   "outputs": [
    {
     "name": "stdout",
     "output_type": "stream",
     "text": [
      "123460\n",
      "[1, 2, 3, 4, 6, 0]\n"
     ]
    }
   ],
   "source": [
    "x=[1,2,3,4,5,9]\n",
    "s=\"\"\n",
    "for i in x:\n",
    "    s=s+str(i)\n",
    "strs=str(int(\"\".join(s))+1)\n",
    "print(strs)\n",
    "z=[int(a) for a in strs ]\n",
    "print(z)\n"
   ]
  },
  {
   "cell_type": "code",
   "execution_count": null,
   "id": "a541129e",
   "metadata": {},
   "outputs": [],
   "source": []
  },
  {
   "cell_type": "code",
   "execution_count": null,
   "id": "9242ecdd",
   "metadata": {},
   "outputs": [],
   "source": []
  },
  {
   "cell_type": "code",
   "execution_count": null,
   "id": "d2d7a8d3",
   "metadata": {},
   "outputs": [],
   "source": []
  },
  {
   "cell_type": "code",
   "execution_count": null,
   "id": "46b19926",
   "metadata": {},
   "outputs": [],
   "source": []
  },
  {
   "cell_type": "code",
   "execution_count": null,
   "id": "61e2a66b",
   "metadata": {},
   "outputs": [],
   "source": []
  },
  {
   "cell_type": "code",
   "execution_count": null,
   "id": "45b2b284",
   "metadata": {},
   "outputs": [],
   "source": []
  },
  {
   "cell_type": "code",
   "execution_count": 17,
   "id": "d7433849",
   "metadata": {},
   "outputs": [
    {
     "name": "stdout",
     "output_type": "stream",
     "text": [
      "[2, 3, 5]\n"
     ]
    }
   ],
   "source": [
    "a=[2,3,4]\n",
    "if a[-1]<9:\n",
    "        a[-1]+=1\n",
    "elif a[-1]==9:\n",
    "        a[-1]=0\n",
    "        a[-2]+=1\n",
    "print(a)"
   ]
  },
  {
   "cell_type": "code",
   "execution_count": 14,
   "id": "fc78d921",
   "metadata": {},
   "outputs": [
    {
     "name": "stdout",
     "output_type": "stream",
     "text": [
      "{'Talha': 78}\n"
     ]
    }
   ],
   "source": [
    "student = {\"Umar\":{\"score\": 67}, \"Talha\":{\"score\": 78}, \"Shadab\":{\"score\": 17}}\n",
    "max=0\n",
    "stu=' '\n",
    "for i in student:\n",
    "    var=student.get(i)[\"score\"]\n",
    "    if var>max:\n",
    "        max=var\n",
    "        stu=i\n",
    "print({stu:max})        "
   ]
  },
  {
   "cell_type": "code",
   "execution_count": 13,
   "id": "a02eea78",
   "metadata": {},
   "outputs": [
    {
     "name": "stdout",
     "output_type": "stream",
     "text": [
      "peanuts\n",
      "groot\n",
      "ml\n",
      "ipad\n",
      "case\n",
      "apple\n"
     ]
    }
   ],
   "source": [
    "# sort the list on the basis of second element in the tuple ?\n",
    "Sample= [(\"zoo\", \"peanuts\"),(1, 'groot'), (\"teams\",\"ml\"),('dell', 'ipad'), ('water', 'case'), (56,\"apple\")]\n",
    "for i in Sample:\n",
    "    var=i[1]\n",
    "    print(var)    \n",
    "# Sample Output = [(56, 'apple'), ('water', 'case'), (1, 'groot'), ('dell', 'ipad'), ('teams', 'ml'), ('zoo', 'peanuts')]̀\n"
   ]
  },
  {
   "cell_type": "markdown",
   "id": "7d6a7b67",
   "metadata": {},
   "source": [
    "# string format"
   ]
  },
  {
   "cell_type": "code",
   "execution_count": 8,
   "id": "1662d58c",
   "metadata": {},
   "outputs": [
    {
     "name": "stdout",
     "output_type": "stream",
     "text": [
      "the num is 2335.00 in txt\n"
     ]
    }
   ],
   "source": [
    "num=2335\n",
    "txt=\"the num is {} in txt\"\n",
    "\n",
    "#Format the num to be displayed as a number with two decimals:\n",
    "txt=\"the num is {:.2f} in txt\"\n",
    "\n",
    "\n",
    "\n",
    "print(txt.format(num))"
   ]
  },
  {
   "cell_type": "code",
   "execution_count": 9,
   "id": "28b6f93b",
   "metadata": {},
   "outputs": [
    {
     "name": "stdout",
     "output_type": "stream",
     "text": [
      "I want 3 pieces of item number 933 for 98.00 dollars.\n"
     ]
    }
   ],
   "source": [
    "# If you want to use more values, just add m\n",
    "# ore values to the format() method:\n",
    "quantity=3\n",
    "item=933\n",
    "price=98\n",
    "myorder=\"I want {} pieces of item number {} for {:.2f} dollars.\"\n",
    "print(myorder.format(quantity,item,price))\n"
   ]
  },
  {
   "cell_type": "code",
   "execution_count": 10,
   "id": "31ffb680",
   "metadata": {},
   "outputs": [
    {
     "name": "stdout",
     "output_type": "stream",
     "text": [
      "Her name is zyra.zyra is 10 years old.\n"
     ]
    }
   ],
   "source": [
    "age=10\n",
    "name=\"zyra\"\n",
    "text=\"Her name is {1}.{1} is {0} years old.\"\n",
    "print(text.format(age,name))"
   ]
  },
  {
   "cell_type": "code",
   "execution_count": 11,
   "id": "2fc22e85",
   "metadata": {},
   "outputs": [
    {
     "name": "stdout",
     "output_type": "stream",
     "text": [
      "I have a Ford, it is a Mustang.\n"
     ]
    }
   ],
   "source": [
    "myorder = \"I have a {carname}, it is a {model}.\"\n",
    "print(myorder.format(carname = \"Ford\", model = \"Mustang\"))\n"
   ]
  },
  {
   "cell_type": "code",
   "execution_count": 12,
   "id": "5b109e7c",
   "metadata": {},
   "outputs": [
    {
     "name": "stdout",
     "output_type": "stream",
     "text": [
      "2022\n",
      "Wednesday\n"
     ]
    }
   ],
   "source": [
    "import datetime\n",
    "\n",
    "x = datetime.datetime.now()\n",
    "\n",
    "print(x.year)\n",
    "print(x.strftime(\"%A\"))\n"
   ]
  },
  {
   "cell_type": "code",
   "execution_count": 7,
   "id": "79ba1b66",
   "metadata": {},
   "outputs": [
    {
     "name": "stdout",
     "output_type": "stream",
     "text": [
      "Student: Harry 12 ABC School\n",
      "Student: Harry 14 XYZ School\n",
      "Student: minhaj 21 XYZ School\n"
     ]
    }
   ],
   "source": [
    "# class methods demo\n",
    "class Student:\n",
    "    # class variable\n",
    "    school_name = 'ABC School'\n",
    "    # constructor\n",
    "    def __init__(self, name, age):\n",
    "        # instance variables\n",
    "        self.name = name\n",
    "        self.age = age\n",
    "    # instance method\n",
    "    def show(self):\n",
    "        # access instance variables and class variables\n",
    "        print('Student:', self.name, self.age, Student.school_name)\n",
    "    # instance method\n",
    "    def change_age(self, new_age):\n",
    "        # modify instance variable\n",
    "        self.age = new_age\n",
    "    # class method\n",
    "    @classmethod\n",
    "    def modify_school_name(cls, new_name):\n",
    "        # modify class variable\n",
    "        cls.school_name = new_name\n",
    "s1 = Student(\"Harry\", 12)\n",
    "s2=Student(\"minhaj\",21)\n",
    "# call instance methods\n",
    "s1.show()\n",
    "s1.change_age(14)\n",
    "# call class method\n",
    "s1.modify_school_name('XYZ School')\n",
    "# call instance methods\n",
    "s1.show()\n",
    "s2.show()"
   ]
  },
  {
   "cell_type": "code",
   "execution_count": 8,
   "id": "ae6099ac",
   "metadata": {},
   "outputs": [
    {
     "name": "stdout",
     "output_type": "stream",
     "text": [
      "The number of Employee: 1\n",
      "The number of Employee: 0\n"
     ]
    }
   ],
   "source": [
    "class Employee:\n",
    "    count = 0\n",
    "    def __init__(self):\n",
    "        Employee.count = Employee.count + 1\n",
    "    def __del__(self):\n",
    "        Employee.count = Employee.count - 1\n",
    "# creating objects\n",
    "e1 = Employee()\n",
    "e2 = Employee()\n",
    "e3 = Employee()\n",
    "print(\"The number of Employee:\", Employee.count)\n",
    "del e2\n",
    "print(\"The number of Employee:\", Employee.count)\n"
   ]
  },
  {
   "cell_type": "code",
   "execution_count": 1,
   "id": "2f26052e",
   "metadata": {},
   "outputs": [
    {
     "name": "stdout",
     "output_type": "stream",
     "text": [
      "Jessa's age is: 20\n",
      "Joy's age is: 27\n"
     ]
    }
   ],
   "source": [
    "from datetime import date\n",
    "\n",
    "class Student:\n",
    "    def __init__(self, name, age):\n",
    "        self.name = name\n",
    "        self.age = age\n",
    "\n",
    "    @classmethod\n",
    "    def calculate_age(cls, name, birth_year):\n",
    "        # calculate age an set it as a age\n",
    "        # return new object\n",
    "            #   Student(\"joy\",2022-1995)\n",
    "        return cls(name, date.today().year - birth_year)\n",
    "\n",
    "    def show(self):\n",
    "        print(self.name + \"'s age is: \" + str(self.age))\n",
    "\n",
    "jessa = Student('Jessa', 20)\n",
    "jessa.show()\n",
    "\n",
    "# create new object using the factory method\n",
    "joy = Student.calculate_age(\"Joy\", 1995)\n",
    "joy.show()\n"
   ]
  },
  {
   "cell_type": "code",
   "execution_count": 2,
   "id": "fdf82816",
   "metadata": {},
   "outputs": [
    {
     "ename": "TypeError",
     "evalue": "can only concatenate str (not \"int\") to str",
     "output_type": "error",
     "traceback": [
      "\u001b[1;31m---------------------------------------------------------------------------\u001b[0m",
      "\u001b[1;31mTypeError\u001b[0m                                 Traceback (most recent call last)",
      "Input \u001b[1;32mIn [2]\u001b[0m, in \u001b[0;36m<cell line: 19>\u001b[1;34m()\u001b[0m\n\u001b[0;32m     16\u001b[0m         \u001b[38;5;28;01mreturn\u001b[39;00m \u001b[38;5;28mcls\u001b[39m(name, age)\n\u001b[0;32m     18\u001b[0m jessa \u001b[38;5;241m=\u001b[39m Student(\u001b[38;5;124m'\u001b[39m\u001b[38;5;124mJessa\u001b[39m\u001b[38;5;124m'\u001b[39m, \u001b[38;5;241m20\u001b[39m)\n\u001b[1;32m---> 19\u001b[0m \u001b[43mjessa\u001b[49m\u001b[38;5;241;43m.\u001b[39;49m\u001b[43mshow\u001b[49m\u001b[43m(\u001b[49m\u001b[43m)\u001b[49m\n\u001b[0;32m     21\u001b[0m \u001b[38;5;66;03m# create new object using the factory method\u001b[39;00m\n\u001b[0;32m     22\u001b[0m joy \u001b[38;5;241m=\u001b[39m Student\u001b[38;5;241m.\u001b[39mcalculate_age(\u001b[38;5;124m\"\u001b[39m\u001b[38;5;124mJoy\u001b[39m\u001b[38;5;124m\"\u001b[39m, \u001b[38;5;241m1995\u001b[39m)\n",
      "Input \u001b[1;32mIn [2]\u001b[0m, in \u001b[0;36mStudent.show\u001b[1;34m(self)\u001b[0m\n\u001b[0;32m      7\u001b[0m \u001b[38;5;28;01mdef\u001b[39;00m \u001b[38;5;21mshow\u001b[39m(\u001b[38;5;28mself\u001b[39m):\n\u001b[1;32m----> 8\u001b[0m     \u001b[38;5;28mprint\u001b[39m(\u001b[38;5;28;43mself\u001b[39;49m\u001b[38;5;241;43m.\u001b[39;49m\u001b[43mname\u001b[49m\u001b[43m \u001b[49m\u001b[38;5;241;43m+\u001b[39;49m\u001b[43m \u001b[49m\u001b[38;5;28;43mself\u001b[39;49m\u001b[38;5;241;43m.\u001b[39;49m\u001b[43mage\u001b[49m)\n",
      "\u001b[1;31mTypeError\u001b[0m: can only concatenate str (not \"int\") to str"
     ]
    }
   ],
   "source": [
    "from datetime import date\n",
    "\n",
    "class Student:\n",
    "    def __init__(self, name, age):\n",
    "        self.name = name\n",
    "        self.age = age\n",
    "    def show(self):\n",
    "        print(self.name + self.age)\n",
    "\n",
    "    @classmethod\n",
    "    def calculate_age(cls, name, birth_year):\n",
    "        age=date.today().year-birth_year\n",
    "        # calculate age an set it as a age\n",
    "        # return new object\n",
    "            #   Student(\"joy\",2022-1995)\n",
    "        return cls(name, age)\n",
    "\n",
    "jessa = Student('Jessa', 20)\n",
    "jessa.show()\n",
    "\n",
    "# create new object using the factory method\n",
    "joy = Student.calculate_age(\"Joy\", 1995)\n",
    "joy.show()\n"
   ]
  },
  {
   "cell_type": "code",
   "execution_count": 3,
   "id": "cedcbd8f",
   "metadata": {},
   "outputs": [
    {
     "name": "stdout",
     "output_type": "stream",
     "text": [
      "4\n"
     ]
    }
   ],
   "source": [
    "import sys\n",
    "# imp gc\n",
    "\n",
    "minhaj12=\"minhaj\"\n",
    "y=minhaj12\n",
    "z=y\n",
    "print(sys.getrefcount(minhaj12))"
   ]
  },
  {
   "cell_type": "code",
   "execution_count": null,
   "id": "a6e91379",
   "metadata": {},
   "outputs": [],
   "source": []
  },
  {
   "cell_type": "code",
   "execution_count": null,
   "id": "5b9ff75c",
   "metadata": {},
   "outputs": [],
   "source": []
  }
 ],
 "metadata": {
  "kernelspec": {
   "display_name": "Python 3 (ipykernel)",
   "language": "python",
   "name": "python3"
  },
  "language_info": {
   "codemirror_mode": {
    "name": "ipython",
    "version": 3
   },
   "file_extension": ".py",
   "mimetype": "text/x-python",
   "name": "python",
   "nbconvert_exporter": "python",
   "pygments_lexer": "ipython3",
   "version": "3.10.6"
  }
 },
 "nbformat": 4,
 "nbformat_minor": 5
}
