{
 "cells": [
  {
   "cell_type": "markdown",
   "id": "182bf0a3",
   "metadata": {},
   "source": [
    "# find the unique number in a list using function?\n",
    "Sample Input : [2,1,4,3,1,4,2]\n",
    "Sample Output : 3"
   ]
  },
  {
   "cell_type": "code",
   "execution_count": null,
   "id": "a271c176",
   "metadata": {},
   "outputs": [],
   "source": [
    "arr = [2,1,4,3,1,4,2,5]\n",
    "def odd_occurring_num(arr):\n",
    "    return [i for i in arr if arr.count(i) < 2]\n",
    "# print(arr)\n",
    "\n",
    "print(odd_occurring_num(arr))"
   ]
  },
  {
   "cell_type": "code",
   "execution_count": null,
   "id": "3ff364fe",
   "metadata": {},
   "outputs": [],
   "source": [
    "l=[2,1,3,2,1]\n",
    "def odd(l):\n",
    "    for i in l:\n",
    "        if l.count(i)<2:\n",
    "            print(odd(l))        "
   ]
  },
  {
   "cell_type": "code",
   "execution_count": 1,
   "id": "45093383",
   "metadata": {},
   "outputs": [
    {
     "name": "stdout",
     "output_type": "stream",
     "text": [
      "5\n"
     ]
    }
   ],
   "source": [
    "a=[2,1,4,3,5,2,1,4,3]\n",
    "r=0\n",
    "for i in a:\n",
    "    r^=i\n",
    "print(r)    "
   ]
  },
  {
   "cell_type": "markdown",
   "id": "55e1e3e3",
   "metadata": {},
   "source": [
    "# 1.find the student who has Highest marks ?\n",
    "Input :  student = {\"Umar\":{\"score\": 67}, \"Talha\":{\"score\": 78}, \"Shadab\":{\"score\": 17}}\n",
    "Output : {'xyz':78}\n"
   ]
  },
  {
   "cell_type": "code",
   "execution_count": 1,
   "id": "3e74ae27",
   "metadata": {},
   "outputs": [
    {
     "name": "stdout",
     "output_type": "stream",
     "text": [
      "{'Talha': 78}\n"
     ]
    }
   ],
   "source": [
    "student = {\"Umar\":{\"score\": 67}, \"Talha\":{\"score\": 78}, \"Shadab\":{\"score\": 17}}\n",
    "max=0\n",
    "stu=' '\n",
    "for i in student:\n",
    "    var=student.get(i)[\"score\"]\n",
    "    if var>max:\n",
    "        max=var\n",
    "        stu=i\n",
    "print({stu:max})        "
   ]
  },
  {
   "cell_type": "markdown",
   "id": "a5f6a6c9",
   "metadata": {},
   "source": [
    "# 2. Sort the list on the basis of second element in the tuple ?\n",
    "Sample Input = [(\"zoo\", \"peanuts\"),(1, 'groot'), (\"teams\",\"ml\"),('dell', 'ipad'), ('water', 'case'), (56,\"apple\")]\n",
    "Sample Output = [(56, 'apple'), ('water', 'case'), (1, 'groot'), ('dell', 'ipad'), ('teams', 'ml'), ('zoo', 'peanuts')]̀\n"
   ]
  },
  {
   "cell_type": "code",
   "execution_count": null,
   "id": "6e8f3eb0",
   "metadata": {},
   "outputs": [],
   "source": [
    "tup = [(\"zoo\", \"peanuts\"),(1, 'groot'), (\"teams\",\"ml\"),('dell', 'ipad'), ('water', 'case'), (56,\"apple\")]\n",
    "def SortTuple(tup):  \n",
    "    n = len(tup)\n",
    "    for i in range(n):\n",
    "        for j in range(n-i-1):\n",
    "            if tup[j][1] > tup[j + 1][1]:\n",
    "                tup[j], tup[j + 1] = tup[j + 1], tup[j]\n",
    "    return tup    \n",
    "print(SortTuple(tup))\n"
   ]
  },
  {
   "cell_type": "markdown",
   "id": "a9eefe4e",
   "metadata": {},
   "source": [
    "# 3.Swap adjacent elements in a list without using inbuilt functions?\n"
   ]
  },
  {
   "cell_type": "code",
   "execution_count": 32,
   "id": "7d972744",
   "metadata": {},
   "outputs": [
    {
     "name": "stdout",
     "output_type": "stream",
     "text": [
      "[22, 23, 24, 21, 25]\n"
     ]
    }
   ],
   "source": [
    "swap_list=[21,22,23,24,25]\n",
    "for i in range(0,len(swap_list)):\n",
    "    swap_list[i],swap_list[i-1]=swap_list[i-1],swap_list[i]\n",
    "print(swap_list)     "
   ]
  },
  {
   "cell_type": "code",
   "execution_count": 2,
   "id": "4bd94fed",
   "metadata": {},
   "outputs": [
    {
     "name": "stdout",
     "output_type": "stream",
     "text": [
      "[1, 2, 4, 3, 5]\n"
     ]
    }
   ],
   "source": [
    "l=[2,1,3,4,5]\n",
    "for i in (0,len(l),2):\n",
    "    if i<len(l):\n",
    "        l[i],l[i+1]=l[i+1],l[i]\n",
    "print(l)        "
   ]
  },
  {
   "cell_type": "code",
   "execution_count": 3,
   "id": "e6e3b3fb",
   "metadata": {},
   "outputs": [
    {
     "name": "stdout",
     "output_type": "stream",
     "text": [
      "[33, 32, 35, 34, 1, 0]\n"
     ]
    }
   ],
   "source": [
    "l=[32,33,34,35,0,1]\n",
    "for i in range(1,len(l),2):\n",
    "    l[i],l[i-1]=l[i-1],l[i]\n",
    "print(l)        "
   ]
  },
  {
   "cell_type": "code",
   "execution_count": 2,
   "id": "9c95eae7",
   "metadata": {},
   "outputs": [
    {
     "ename": "SyntaxError",
     "evalue": "invalid syntax (3818784005.py, line 1)",
     "output_type": "error",
     "traceback": [
      "\u001b[1;36m  Input \u001b[1;32mIn [2]\u001b[1;36m\u001b[0m\n\u001b[1;33m    def func_list(a,a[1],a[2]):\u001b[0m\n\u001b[1;37m                     ^\u001b[0m\n\u001b[1;31mSyntaxError\u001b[0m\u001b[1;31m:\u001b[0m invalid syntax\n"
     ]
    }
   ],
   "source": [
    "def func_list(a,a[1],a[2]):\n",
    "    i=0\n",
    "    for i in range(len(a),2):\n",
    "        a[i],a[i+1]=a[i+1],a[i]\n",
    "a=[21,22,23,24,25,26]\n",
    "func_list(a,a[1],a[2])"
   ]
  },
  {
   "cell_type": "markdown",
   "id": "194bd63f",
   "metadata": {},
   "source": [
    "# swap the ajacent element of iterable using function take indexing as argument"
   ]
  },
  {
   "cell_type": "code",
   "execution_count": 1,
   "id": "0188cc93",
   "metadata": {},
   "outputs": [
    {
     "data": {
      "text/plain": [
       "[32, 21, 45, 56]"
      ]
     },
     "execution_count": 1,
     "metadata": {},
     "output_type": "execute_result"
    }
   ],
   "source": [
    "def func(myl,pos1,pos2):\n",
    "    myl[pos1],myl[pos2]=myl[pos2],myl[pos1]\n",
    "    return myl\n",
    "myl=[21,32,45,56]\n",
    "func(myl,0,1)"
   ]
  },
  {
   "cell_type": "code",
   "execution_count": 4,
   "id": "19d14d80",
   "metadata": {},
   "outputs": [
    {
     "data": {
      "text/plain": [
       "[32, 21, 45, 56]"
      ]
     },
     "execution_count": 4,
     "metadata": {},
     "output_type": "execute_result"
    }
   ],
   "source": [
    "def func(myl,pos1,pos2):\n",
    "    myl[pos1],myl[pos2]=myl[pos2],myl[pos1]\n",
    "    return myl        \n",
    "myl=[21,32,45,56]\n",
    "func(myl,0,1)"
   ]
  },
  {
   "cell_type": "code",
   "execution_count": null,
   "id": "53b11a4b",
   "metadata": {},
   "outputs": [],
   "source": [
    "def compress(s):\n",
    "    n=len(s)\n",
    "    new_s=''\n",
    "    count=1\n",
    "    for i in range(n-1):\n",
    "        if s[i]==s[i+1]:\n",
    "            count+=1\n",
    "        else:\n",
    "            new_s=new_s + s[i] + str(count)\n",
    "            count=1\n",
    "    new_s=new_s + s[n-1] + str(count)\n",
    "\n",
    "    return new_s\n",
    "s='aabbccafff'\n",
    "print(compress(s))"
   ]
  },
  {
   "cell_type": "markdown",
   "id": "d1e2b699",
   "metadata": {},
   "source": [
    "# 4. Write a program to enter the number till the user wants and at the\n",
    "end it should display the sum of all numbers entered.(using while loop)\n"
   ]
  },
  {
   "cell_type": "code",
   "execution_count": null,
   "id": "1494b11b",
   "metadata": {},
   "outputs": [],
   "source": [
    "a=int(input())\n",
    "b=int(input())\n",
    "def sum(a,b):\n",
    "    print(a+b)\n",
    "sum(a,b)    "
   ]
  },
  {
   "cell_type": "code",
   "execution_count": null,
   "id": "eb540f2a",
   "metadata": {},
   "outputs": [],
   "source": [
    "result=0\n",
    "i=0\n",
    "b=[]\n",
    "n=int(input('enter number you want to add'))\n",
    "for j in range(n):\n",
    "    k=int(input('enter the number'))\n",
    "    b.append(k)\n",
    "while i<len(b):\n",
    "    result=result+b[i]\n",
    "    i+=1\n",
    "print('sum of all the number',result)"
   ]
  },
  {
   "cell_type": "markdown",
   "id": "eaffd192",
   "metadata": {},
   "source": [
    "# 6.Create a iterator to find all the Power of 3?\n"
   ]
  },
  {
   "cell_type": "code",
   "execution_count": null,
   "id": "ca09a1f6",
   "metadata": {},
   "outputs": [],
   "source": [
    "class PowTwo:\n",
    "    \"\"\"Class to implement an iterator of powers of three\"\"\"\n",
    "    def __init__(self, max=0):\n",
    "        self.max = max\n",
    "\n",
    "    def __iter__(self):\n",
    "        self.n = 0\n",
    "        return self\n",
    "    def __next__(self):\n",
    "        if self.n <= self.max:\n",
    "            result = 3 ** self.n\n",
    "            self.n += 1\n",
    "            return result\n",
    "        else:\n",
    "            raise StopIteration\n",
    "# create an object\n",
    "numbers = PowTwo(3)\n",
    "# create an iterable from the object\n",
    "i = iter(numbers)\n",
    "# Using next to get to the next iterator element\n",
    "print(next(i))\n",
    "print(next(i))\n",
    "# print(next(i))\n",
    "# print(next(i))\n",
    "# print(next(i))"
   ]
  },
  {
   "cell_type": "code",
   "execution_count": null,
   "id": "ea57ec64",
   "metadata": {
    "scrolled": true
   },
   "outputs": [],
   "source": [
    "a=[3,4,5]\n",
    "b=iter(a)\n",
    "print(b)\n",
    "print(next(b))\n",
    "print(next(b))"
   ]
  },
  {
   "cell_type": "markdown",
   "id": "7baf4199",
   "metadata": {},
   "source": [
    "# 7.give example of Multilevel Inheritence and use super function in the same  \n"
   ]
  },
  {
   "cell_type": "code",
   "execution_count": null,
   "id": "22a35ec8",
   "metadata": {},
   "outputs": [],
   "source": [
    "class Bus:\n",
    "    def __init__(self,name):\n",
    "        self.name=name\n",
    "    def info(self):\n",
    "        print('name',self.name)\n",
    "class Car(Bus):\n",
    "    def __init__(self,name,age):\n",
    "        super().__init__(name)\n",
    "        self.age=age\n",
    "        c=super().info()\n",
    "    def info(self):\n",
    "        print('name',self.name,'age',self.age)\n",
    "#         print('c',c)\n",
    "class Truck(Car):\n",
    "    def __init__(self,name,age,alpha):\n",
    "        super().__init__(name,age)\n",
    "        self.alpha=alpha\n",
    "    def info(self):\n",
    "        print('name',self.name,'age',self.age,'alpha',self.alpha)\n",
    "        \n",
    "obj=Truck('minhaj',21,'A')        \n",
    "obj.info()        "
   ]
  },
  {
   "cell_type": "markdown",
   "id": "3c7b60de",
   "metadata": {},
   "source": [
    "# 8.Convert a local variable into global variable and give the methods to access the same \n"
   ]
  },
  {
   "cell_type": "code",
   "execution_count": 2,
   "id": "7703e5bb",
   "metadata": {},
   "outputs": [
    {
     "name": "stdout",
     "output_type": "stream",
     "text": [
      "Sky is awesomE\n",
      "Sky is awesomE\n"
     ]
    }
   ],
   "source": [
    " \n",
    "def local_func():\n",
    "    global y\n",
    "    y=\"awesomE\"\n",
    "    print(\"Sky is\",y)\n",
    "local_func()\n",
    "print(\"Sky is\",y)\n"
   ]
  },
  {
   "cell_type": "markdown",
   "id": "d474fa8e",
   "metadata": {},
   "source": [
    "# input=\"sky is blue\" output=\"blue is sky\""
   ]
  },
  {
   "cell_type": "code",
   "execution_count": 29,
   "id": "a3049f72",
   "metadata": {},
   "outputs": [
    {
     "name": "stdout",
     "output_type": "stream",
     "text": [
      "blue is sky\n"
     ]
    }
   ],
   "source": [
    "st=\"sky is blue\"\n",
    "lt=st.split()\n",
    "# x=x[::-1]\n",
    "z=\" \".join(st.split()[::-1])\n",
    "print(z)\n",
    "# print(type(lt))\n"
   ]
  },
  {
   "cell_type": "code",
   "execution_count": 3,
   "id": "4d809ee4",
   "metadata": {},
   "outputs": [
    {
     "name": "stdout",
     "output_type": "stream",
     "text": [
      "4150.0\n"
     ]
    }
   ],
   "source": [
    "dict1 = [{'item':'item1','amount':'400'},{'item':'item2','amount':'3000'},{'item':'item1','amount':'750'}]\n",
    "dict2=[]\n",
    "for i in dict1:\n",
    "    c=i[\"amount\"]\n",
    "    dict2.append(float(c))\n",
    "print(sum(dict2))\n",
    "#     i+=1\n",
    "#     print(sum(d))"
   ]
  },
  {
   "cell_type": "markdown",
   "id": "b5571bbe",
   "metadata": {},
   "source": [
    "# 10.Find the even and odd from the given list using anonymous function\n"
   ]
  },
  {
   "cell_type": "code",
   "execution_count": null,
   "id": "47338c88",
   "metadata": {},
   "outputs": [],
   "source": [
    "x=[2,3,4,5]\n",
    "b=[]\n",
    "def func(x):\n",
    "    for i in x:\n",
    "        if i%2==0:\n",
    "            print(\"even\") \n",
    "        else:\n",
    "            print(\"odd\") \n",
    "    b.append(x)\n",
    "func(x)        "
   ]
  },
  {
   "cell_type": "code",
   "execution_count": 4,
   "id": "5d4f4c3e",
   "metadata": {},
   "outputs": [
    {
     "name": "stdout",
     "output_type": "stream",
     "text": [
      "['even', 'even', 'odd', 'even', 'odd']\n"
     ]
    }
   ],
   "source": [
    "list1=[12,14,15,16,17]\n",
    "y=map(lambda x:\"even\" if x%2==0 else \"odd\",list1)\n",
    "print(list(y))"
   ]
  },
  {
   "cell_type": "code",
   "execution_count": 5,
   "id": "7912c5fd",
   "metadata": {},
   "outputs": [
    {
     "name": "stdout",
     "output_type": "stream",
     "text": [
      "[1, 8, 27, 64]\n"
     ]
    }
   ],
   "source": [
    "list1=[1,2,3,4]\n",
    "y=map(lambda x:x**3 ,list1)\n",
    "print(list(y))"
   ]
  },
  {
   "cell_type": "markdown",
   "id": "b3a9f1a4",
   "metadata": {},
   "source": [
    "# ip=\"a,a,b,b,c,c,c\" => op=a:2,b:2,c:3\n"
   ]
  },
  {
   "cell_type": "code",
   "execution_count": 1,
   "id": "acc3a241",
   "metadata": {},
   "outputs": [
    {
     "name": "stdout",
     "output_type": "stream",
     "text": [
      "a:1,b:2,c:3,"
     ]
    }
   ],
   "source": [
    "ip=\"a,b,b,c,c,c\"\n",
    "lp=ip.split(',')\n",
    "ep=[]\n",
    "for i in lp:\n",
    "    if i not in ep:\n",
    "        print(f\"{i}:{lp.count(i)}\",end=\",\")\n",
    "        ep.append(i)\n"
   ]
  },
  {
   "cell_type": "code",
   "execution_count": null,
   "id": "354ffbdc",
   "metadata": {},
   "outputs": [],
   "source": [
    "def arithmetic(num1, num2):\n",
    "    add = num1 + num2\n",
    "    sub = num1 - num2\n",
    "    multiply = num1 * num2\n",
    "    division = num1 / num2\n",
    "    square = num1*2\n",
    "    # return four values\n",
    "    return add, sub, multiply, division, square\n",
    "\n",
    "# read four return values in four variables\n",
    "a, b, c, d ,e= arithmetic(10, 2)\n",
    "\n",
    "print(\"Addition: \", a)\n",
    "print(\"Subtraction: \", b)\n",
    "print(\"Multiplication: \", c)\n",
    "print(\"Division: \", d)\n",
    "print(\"Square\",e)"
   ]
  },
  {
   "cell_type": "code",
   "execution_count": null,
   "id": "cc099814",
   "metadata": {},
   "outputs": [],
   "source": [
    "def add(a,b):\n",
    "    c=a*2\n",
    "    return c\n",
    "d=add(2,3)\n",
    "print('power is',d)"
   ]
  },
  {
   "cell_type": "code",
   "execution_count": 6,
   "id": "23522a81",
   "metadata": {},
   "outputs": [
    {
     "name": "stdout",
     "output_type": "stream",
     "text": [
      "254\n"
     ]
    }
   ],
   "source": [
    "a=[254,56,120,30,0.5,0]\n",
    "c=0\n",
    "for i in a:\n",
    "    if c<i:\n",
    "        c=i\n",
    "print(c)"
   ]
  },
  {
   "cell_type": "code",
   "execution_count": null,
   "id": "581d64ef",
   "metadata": {},
   "outputs": [],
   "source": [
    "class findmax:\n",
    "    def __init__(self,a):\n",
    "        self.a=a\n",
    "    def show(self):\n",
    "        a=[254,56,120,30,0.5,0]\n",
    "        c=0\n",
    "        for i in a:\n",
    "            if c<i:\n",
    "                c=i\n",
    "        return c\n",
    "obj=findmax(a)\n",
    "obj.show()"
   ]
  },
  {
   "cell_type": "code",
   "execution_count": null,
   "id": "5e691657",
   "metadata": {},
   "outputs": [],
   "source": [
    "class listh:\n",
    "#     def __init__(self,a):\n",
    "#         self.a=a\n",
    "    def show(self):\n",
    "        a=[254,56,120,30,0.5,0]\n",
    "        c=0\n",
    "        for i in a:\n",
    "            if c<i:\n",
    "                c=i\n",
    "obj1=listh()\n",
    "obj1.show()\n",
    "        "
   ]
  },
  {
   "cell_type": "code",
   "execution_count": 7,
   "id": "559fd487",
   "metadata": {},
   "outputs": [
    {
     "data": {
      "text/plain": [
       "254"
      ]
     },
     "execution_count": 7,
     "metadata": {},
     "output_type": "execute_result"
    }
   ],
   "source": [
    "class findmaxm:\n",
    "    def max(self):\n",
    "        a=[254,56,120,30,0.5,0]\n",
    "        c=0\n",
    "        for i in a:\n",
    "            if c<i:\n",
    "                c=i\n",
    "        return c\n",
    "obj=findmaxm()\n",
    "obj.max()"
   ]
  },
  {
   "cell_type": "markdown",
   "id": "625dbc6b",
   "metadata": {},
   "source": [
    "# qns on dictonery"
   ]
  },
  {
   "cell_type": "code",
   "execution_count": null,
   "id": "c65dc091",
   "metadata": {},
   "outputs": [],
   "source": [
    "dict1={}\n",
    "for i in range(0,11):\n",
    "    dict1[i]=i**2\n",
    "print(dict1)    "
   ]
  },
  {
   "cell_type": "markdown",
   "id": "e190a937",
   "metadata": {},
   "source": [
    "# op={0:\"even\",1:\"odd\",2:\"even\"......}"
   ]
  },
  {
   "cell_type": "code",
   "execution_count": 31,
   "id": "3e3f907c",
   "metadata": {},
   "outputs": [
    {
     "name": "stdout",
     "output_type": "stream",
     "text": [
      "{0: 'even', 1: 'odd', 2: 'even', 3: 'odd', 4: 'even', 5: 'odd', 6: 'even', 7: 'odd', 8: 'even'}\n"
     ]
    }
   ],
   "source": [
    "dict_even={x:\"even\" if x%2==0 else \"odd\" for x in range(0,9)}\n",
    "print(dict_even)"
   ]
  },
  {
   "cell_type": "code",
   "execution_count": 30,
   "id": "042bc9f1",
   "metadata": {},
   "outputs": [
    {
     "name": "stdout",
     "output_type": "stream",
     "text": [
      "{1: 'odd', 2: 'even', 3: 'odd', 4: 'even', 5: 'odd'}\n"
     ]
    }
   ],
   "source": [
    "dict2={1:1,2:2,3:3,4:4,5:5}\n",
    "dict3={key:\"even\" if key%2==0 else \"odd\" for key in dict2}\n",
    "print(dict3)"
   ]
  },
  {
   "cell_type": "markdown",
   "id": "f4ab2989",
   "metadata": {},
   "source": [
    "# how to find max value in dict"
   ]
  },
  {
   "cell_type": "code",
   "execution_count": null,
   "id": "4228fa6e",
   "metadata": {},
   "outputs": [],
   "source": [
    "dict3={1: 1, 2: 4, 3: 9, 4: 16, 5: 25, 6: 36, 7: 49, 8: 64, 9: 81, 10: 100}\n",
    "dict4=0\n",
    "for i in dict3:\n",
    "    val=dict3.get(i)\n",
    "    if val>dict4:\n",
    "        dict4=val\n",
    "print({i:dict4})\n"
   ]
  },
  {
   "cell_type": "code",
   "execution_count": null,
   "id": "0f00ab55",
   "metadata": {},
   "outputs": [],
   "source": [
    "dictm={1: 1, 2: 4, 3: 9, 4: 16, 5: 25, 6: 36, 7: 49, 8: 64, 9: 81, 10: 100}\n",
    "# dict1m=0\n",
    "dict2m=map(lambda key:dictm[key] if dictm[key]>0 )\n",
    "print(dict{key:dictm[key]})"
   ]
  },
  {
   "cell_type": "code",
   "execution_count": 1,
   "id": "fced76cb",
   "metadata": {},
   "outputs": [
    {
     "name": "stdout",
     "output_type": "stream",
     "text": [
      "{10: 100}\n"
     ]
    }
   ],
   "source": [
    "#using max\n",
    "dictm={1: 1, 2: 4, 3: 9, 4: 16, 5: 25, 6: 36, 7: 49, 8: 64, 9: 81, 10: 100}\n",
    "dictmax=max(dictm.values())\n",
    "dictkey=max(dictm.keys())\n",
    "print({dictkey:dictmax})"
   ]
  },
  {
   "cell_type": "code",
   "execution_count": 2,
   "id": "424b222e",
   "metadata": {},
   "outputs": [
    {
     "name": "stdout",
     "output_type": "stream",
     "text": [
      "[(1, 10000), (2, 4), (3, 9), (4, 16), (5, 25), (6, 36), (7, 49), (8, 64), (9, 81), (10, 1000)]\n"
     ]
    }
   ],
   "source": [
    "dicts={1: 10000,3: 9, 4: 16,2:4, 5: 25, 6: 36, 7: 49, 8: 64, 9: 81, 10: 1000}\n",
    "print(sorted(dicts.items()))"
   ]
  },
  {
   "cell_type": "code",
   "execution_count": 3,
   "id": "894e31a2",
   "metadata": {},
   "outputs": [
    {
     "name": "stdout",
     "output_type": "stream",
     "text": [
      "{'score total': 162}\n"
     ]
    }
   ],
   "source": [
    "dictv = {\"Umar\":{\"score\": 67}, \"Talha\":{\"score\": 78}, \"Shadab\":{\"score\": 17}}\n",
    "dicts=[]\n",
    "for i in dictv:\n",
    "    value=dictv.get(i)['score']\n",
    "    dicts.append(value)\n",
    "print({'score total':sum(dicts)})\n"
   ]
  },
  {
   "cell_type": "code",
   "execution_count": 4,
   "id": "2074d85f",
   "metadata": {},
   "outputs": [
    {
     "name": "stdout",
     "output_type": "stream",
     "text": [
      "18276.98\n"
     ]
    }
   ],
   "source": [
    "li=[{\"name\":\"raja\",\"totalPremium\":4569},{\"name\":\"raja\",\"totalPremium\":\"4569\"}, {\"name\":\"raja\",\"totalPremium\":4569.44},{\"name\":\"raja\",\"totalPremium\":\"4569.54\"}]\n",
    "li2=[]\n",
    "for i in li:\n",
    "    li2.append(float(i[\"totalPremium\"]))\n",
    "\n",
    "print(sum(li2))\n"
   ]
  },
  {
   "cell_type": "code",
   "execution_count": null,
   "id": "b64329a3",
   "metadata": {},
   "outputs": [],
   "source": [
    "dictval = {\"Umar\":{\"score\": '67'}, \"Talha\":{\"score\": 78}, \"Shadab\":{\"score\": 17}}\n",
    "dictst=[]\n"
   ]
  },
  {
   "cell_type": "code",
   "execution_count": null,
   "id": "b7f076f9",
   "metadata": {},
   "outputs": [],
   "source": [
    "a=[23,34,12]\n",
    "a.sort()\n",
    "print(a)\n",
    "print(a[-1])\n"
   ]
  },
  {
   "cell_type": "code",
   "execution_count": null,
   "id": "dcd88e8c",
   "metadata": {},
   "outputs": [],
   "source": [
    "n1=int(input('enter your number'))\n",
    "n2=int(input('enter your second number'))\n",
    "print('''\n",
    "1.Add\n",
    "2.Subtract''')\n",
    "op=input('enter operator')\n",
    "def calci(n1,n2):\n",
    "    add = n1+n2\n",
    "    subtract = n1-n2\n",
    "    multiply = n1*n2\n",
    "    divide = n1%n2\n",
    "    return add,subtract,multiply,divide\n",
    "add,subtract,multiply,divide=(n1,n2)\n",
    "calci(n1,n2)    \n",
    "# print('add')"
   ]
  },
  {
   "cell_type": "code",
   "execution_count": null,
   "id": "a9d3708c",
   "metadata": {},
   "outputs": [],
   "source": [
    "a=int(input())\n",
    "b=int(input())\n",
    "def cal(a,b):\n",
    "    c=a-b\n",
    "    return c    \n",
    "cal(a,b)"
   ]
  },
  {
   "cell_type": "code",
   "execution_count": null,
   "id": "573b8078",
   "metadata": {},
   "outputs": [],
   "source": [
    "a=input()\n",
    "b=input()\n",
    "class cal(a,b):\n",
    "    def __init__(self,a,b):\n",
    "        self.a=a\n",
    "        self.b=b\n",
    "    def add(self) :\n",
    "        return a+b\n",
    "obj=cal(a,b)  \n",
    "obj.add()"
   ]
  },
  {
   "cell_type": "code",
   "execution_count": null,
   "id": "ca063072",
   "metadata": {},
   "outputs": [],
   "source": [
    "m=int(input())\n",
    "n=int(input())\n",
    "def calci(m,n):\n",
    "    return m + n\n",
    "calci(m,n)"
   ]
  },
  {
   "cell_type": "code",
   "execution_count": null,
   "id": "1f549955",
   "metadata": {},
   "outputs": [],
   "source": [
    "print((\"A\" != \"A\") or not (2 >= 3))\n"
   ]
  },
  {
   "cell_type": "code",
   "execution_count": null,
   "id": "5751bee3",
   "metadata": {},
   "outputs": [],
   "source": []
  },
  {
   "cell_type": "markdown",
   "id": "dfe20ce5",
   "metadata": {},
   "source": [
    "# Write a Python if/else statement in the code box below that sets the variable m to the smaller of a and b.\n",
    "\n"
   ]
  },
  {
   "cell_type": "code",
   "execution_count": null,
   "id": "bd8fb013",
   "metadata": {},
   "outputs": [],
   "source": [
    "m=int(input())\n",
    "a=100\n",
    "b=50\n",
    "# m=int(input())\n",
    "if a<b:\n",
    "    print(m==a)\n",
    "else:\n",
    "    print(m==b)"
   ]
  },
  {
   "cell_type": "code",
   "execution_count": null,
   "id": "9436c293",
   "metadata": {},
   "outputs": [],
   "source": [
    "def outer_fun(a, b):\n",
    "    def inner_fun(c, d):\n",
    "        return c + d\n",
    "#      return a\n",
    "\n",
    "    return inner_fun(a, b)\n",
    "    return a\n",
    "\n",
    "result = outer_fun(5, 10)\n",
    "print(result)"
   ]
  },
  {
   "cell_type": "code",
   "execution_count": null,
   "id": "4c4e3e3b",
   "metadata": {},
   "outputs": [],
   "source": [
    "def display(**kwargs):\n",
    "    for i in kwargs:\n",
    "        print(i)\n",
    "\n",
    "display(emp=\"Kelly\", salary=9000)\n"
   ]
  },
  {
   "cell_type": "code",
   "execution_count": null,
   "id": "c3ecab19",
   "metadata": {},
   "outputs": [],
   "source": [
    "aTuple = (100, 200, 300, 400, 500)\n",
    "aTuple[1] = 800\n",
    "print(aTuple)\n"
   ]
  },
  {
   "cell_type": "code",
   "execution_count": null,
   "id": "eb1f785a",
   "metadata": {},
   "outputs": [],
   "source": [
    "sample_set = {'Mark', 'Jessa', [35, 78, 92]}\n",
    "print(sample_set)\n"
   ]
  },
  {
   "cell_type": "markdown",
   "id": "70d3ab62",
   "metadata": {},
   "source": [
    "# sort the set"
   ]
  },
  {
   "cell_type": "code",
   "execution_count": null,
   "id": "a307be46",
   "metadata": {},
   "outputs": [],
   "source": [
    "s1={20,4,8,3,10}\n",
    "print(s1)\n",
    "s2=sorted(s1)\n",
    "print(s2)\n",
    "s3=set(s2)\n",
    "print(s3)"
   ]
  },
  {
   "cell_type": "code",
   "execution_count": null,
   "id": "496cfc5d",
   "metadata": {},
   "outputs": [],
   "source": [
    "s1={10,1,100,2,200}\n",
    "print(s1)\n",
    "s2=sorted(s1)\n",
    "print(s2)\n",
    "s3=set(s2)\n",
    "print(s3)"
   ]
  },
  {
   "cell_type": "code",
   "execution_count": null,
   "id": "d93d40ab",
   "metadata": {},
   "outputs": [],
   "source": [
    "a=[2,5,21,3]\n",
    "b=set(a)\n",
    "print(b)"
   ]
  },
  {
   "cell_type": "code",
   "execution_count": null,
   "id": "548d0967",
   "metadata": {},
   "outputs": [],
   "source": [
    "color_set = {'violet', 'indigo', 'blue', 'green', 'yellow'}\n",
    "remaining_colors = {'indigo', 'orange', 'red'}\n",
    "vibgyor = color_set | remaining_colors\n",
    "# vibgyor = color_set.union(remaining_colors)\n",
    "print(vibgyor)"
   ]
  },
  {
   "cell_type": "code",
   "execution_count": null,
   "id": "19e47bad",
   "metadata": {},
   "outputs": [],
   "source": [
    "color_set = {'violet', 'indigo', 'blue', 'green', 'yellow'}\n",
    "remaining_colors = {'indigo', 'orange', 'red'}\n",
    "vibgyor = color_set & remaining_colors\n",
    "print(vibgyor)"
   ]
  },
  {
   "cell_type": "code",
   "execution_count": null,
   "id": "3f7a8dbe",
   "metadata": {},
   "outputs": [],
   "source": [
    "color_set = {'violet', 'indigo', 'blue', 'green', 'yellow'}\n",
    "remaining_colors = {'indigo', 'orange', 'red'}\n",
    "vibgyor = color_set - remaining_colors\n",
    "print(vibgyor)"
   ]
  },
  {
   "cell_type": "code",
   "execution_count": null,
   "id": "8bc21796",
   "metadata": {},
   "outputs": [],
   "source": [
    "l=[2,5,3,4]\n",
    "for i in range(1,len(l)):\n",
    "        if l[i]>l[i-1] :\n",
    "            l[i],l[i-1]=l[i-1],l[i]\n",
    "            \n",
    "print(l)            "
   ]
  },
  {
   "cell_type": "code",
   "execution_count": null,
   "id": "0a9ac017",
   "metadata": {},
   "outputs": [],
   "source": [
    "l=[2,5,3,4]\n",
    "for i in range(1,len(l)):\n",
    "        while l[i-1]>l[i]  and i>0:\n",
    "            l[i-1],l[i]=l[i],l[i-1]\n",
    "            i=i-1\n",
    "print(l)\n",
    "            "
   ]
  },
  {
   "cell_type": "code",
   "execution_count": null,
   "id": "46db0a60",
   "metadata": {},
   "outputs": [],
   "source": [
    "from functools import reduce\n",
    "a=[1,2,3,4]\n",
    "c=reduce(lambda a,b:a+b,a)\n",
    "print(c)    "
   ]
  },
  {
   "cell_type": "code",
   "execution_count": null,
   "id": "49913b74",
   "metadata": {},
   "outputs": [],
   "source": [
    "a=[2,5,3]\n",
    "sums= 0\n",
    "for i in a:\n",
    "    sums +=i\n",
    "print(sums)    "
   ]
  },
  {
   "cell_type": "code",
   "execution_count": 6,
   "id": "b5b9d28b",
   "metadata": {},
   "outputs": [
    {
     "name": "stdout",
     "output_type": "stream",
     "text": [
      "1 4\n",
      "4\n",
      "2 8\n",
      "8\n",
      "3 24\n",
      "24\n"
     ]
    }
   ],
   "source": [
    "class A(object):\n",
    "    def __init__(self,num):\n",
    "        self.num=num\n",
    "        print(\"1\",self.num)\n",
    "    def mul_two(self):\n",
    "        self.num*=2\n",
    "        print(\"2\",self.num)\n",
    "        \n",
    "class B(A):\n",
    "    def __init__(self,num):\n",
    "        super().__init__(num)\n",
    "    def mul_three(self):\n",
    "        self.num*=3\n",
    "        print(\"3\",self.num)\n",
    "\n",
    "obj=B(4)\n",
    "print(obj.num)\n",
    "obj.mul_two()\n",
    "print(obj.num)\n",
    "obj.mul_three()\n",
    "print(obj.num)"
   ]
  },
  {
   "cell_type": "code",
   "execution_count": null,
   "id": "245060d3",
   "metadata": {},
   "outputs": [],
   "source": [
    "class A(object):\n",
    "    def __init__(self,name,human):\n",
    "        self.name=name\n",
    "        self.person=human\n",
    "    def info(self):class A(object):\n",
    "    def __init__(self,num):\n",
    "        self.num=num\n",
    "        print(\"1\",self.num)\n",
    "    def mul_two(self):\n",
    "        self.num*=2\n",
    "        print(\"2\",self.num)        \n",
    "class B(A):\n",
    "    def __init__(self,num):\n",
    "        super().__init__(num)\n",
    "    def mul_three(self):\n",
    "        self.num*=3\n",
    "        print(\"3\",self.num)\n",
    "obj=B(4)\n",
    "print(obj.num)\n",
    "obj.mul_two()\n",
    "print(obj.num)\n",
    "obj.mul_three()\n",
    "print(obj.num)\n",
    "        print(\"My name is {0}, I am a {1}\".format(self.name,self.__class__.__name__))\n",
    "#           print(f\"My name is {self.name}, I am a {self.name}\")\n",
    "#           print(f\"My name is {self.name}, I am a {self.person}\")\n",
    "\n",
    "bob = person(name='Robert',human=\"Human\")\n",
    "bob.info()\n",
    "# My name is Robert, I am a person\n"
   ]
  },
  {
   "cell_type": "code",
   "execution_count": null,
   "id": "7c45613c",
   "metadata": {},
   "outputs": [],
   "source": [
    "import time\n",
    "print(time.time())"
   ]
  },
  {
   "cell_type": "code",
   "execution_count": null,
   "id": "56c50519",
   "metadata": {},
   "outputs": [],
   "source": [
    "import datetime\n",
    "print(datetime.datetime.now())"
   ]
  },
  {
   "cell_type": "code",
   "execution_count": null,
   "id": "61962e19",
   "metadata": {},
   "outputs": [],
   "source": [
    "from datetime import date\n",
    "def test():\n",
    "    t=date.today()\n",
    "    print(\"today\",t)\n",
    "test()    "
   ]
  },
  {
   "cell_type": "code",
   "execution_count": null,
   "id": "eae43857",
   "metadata": {},
   "outputs": [],
   "source": [
    "import calendar\n",
    "\n",
    "# year = 2022\n",
    "# month = 10\n",
    "\n",
    "# Display calendar\n",
    "# print(calendar.isleap(2023))\n",
    "print(calendar.setfirstweekday(1))"
   ]
  },
  {
   "cell_type": "code",
   "execution_count": 9,
   "id": "ba3a6096",
   "metadata": {},
   "outputs": [
    {
     "name": "stdout",
     "output_type": "stream",
     "text": [
      "Hello, my name is iram\n",
      "Hello python, my name is iram\n",
      "[<class '__main__.Person'>, <class 'object'>]\n"
     ]
    }
   ],
   "source": [
    "class Person(object):\n",
    "    \n",
    "    def __init__(self, name,other):\n",
    "        self.name = name\n",
    "        self.other=other\n",
    "        \n",
    "    def say_hello(self):\n",
    "        print(\"Hello, my name is \" + self.name)\n",
    "        \n",
    "    def say_hello_to(self):\n",
    "        print(\"Hello \" + self.other + \", my name is \" + self.name)\n",
    "\n",
    "phone=Person(\"iram\",\"python\")\n",
    "phone.say_hello()\n",
    "phone.say_hello_to()\n",
    "print(Person.mro())\n"
   ]
  },
  {
   "cell_type": "code",
   "execution_count": 7,
   "id": "68ccc380",
   "metadata": {},
   "outputs": [
    {
     "name": "stdout",
     "output_type": "stream",
     "text": [
      "Hello python 12 my name is irammy friend name is minhaj\n",
      "hello 90752\n"
     ]
    }
   ],
   "source": [
    "class Person(object):\n",
    "    \n",
    "    def __init__(self, name):\n",
    "        self.name = name\n",
    "        \n",
    "        \n",
    "    def say_hello(self):\n",
    "        print(\"Hello, my name is \" + self.name)\n",
    "        \n",
    "    def say_hello_to(self,other,age,name1,num):\n",
    "        print(f\"Hello {other.name} {age.name} my name is {self.name}my friend name is {name1.name}\")\n",
    "        print(f\"hello {num.name}\")\n",
    "\n",
    "        \n",
    "phone=Person(\"iram\")\n",
    "phone1=Person(\"python\")\n",
    "phone2=Person(12)\n",
    "phone3=Person(\"minhaj\")\n",
    "phone4=Person(90752)\n",
    "# phone.say_hello()\n",
    "phone.say_hello_to(phone1,phone2,phone3,phone4)\n",
    "\n"
   ]
  },
  {
   "cell_type": "code",
   "execution_count": 8,
   "id": "ced30f66",
   "metadata": {},
   "outputs": [
    {
     "name": "stdout",
     "output_type": "stream",
     "text": [
      "excecuted in dec2\n",
      "executed in main\n",
      "excuted in func\n"
     ]
    }
   ],
   "source": [
    "def dec1(func):\n",
    "    def dec2():\n",
    "        print(\"excecuted in dec2\")\n",
    "        func()\n",
    "        print(\"excuted in func\")\n",
    "    return dec2\n",
    "@dec1\n",
    "def main():\n",
    "    print(\"executed in main\")\n",
    "main()    "
   ]
  },
  {
   "cell_type": "code",
   "execution_count": 9,
   "id": "a9411e7b",
   "metadata": {},
   "outputs": [
    {
     "name": "stdout",
     "output_type": "stream",
     "text": [
      "True\n",
      "True\n",
      "True\n",
      "True\n",
      "True\n"
     ]
    }
   ],
   "source": [
    "input='qA2'\n",
    "print(any(i.isalnum() for i in input))\n",
    "print(any(i.isalpha() for i in input))\n",
    "print(any(i.islower() for i in input))\n",
    "print(any(i.isdigit() for i in input))\n",
    "print(any(i.isupper() for i in input))"
   ]
  },
  {
   "cell_type": "code",
   "execution_count": 13,
   "id": "460429f6",
   "metadata": {},
   "outputs": [
    {
     "name": "stdout",
     "output_type": "stream",
     "text": [
      "[13, 12, 11, 6, 5]\n"
     ]
    }
   ],
   "source": [
    "lt=[11,12,13,5,6]\n",
    "for i in range(1,len(lt)):\n",
    "    while lt[i]>lt[i-1] and i>0:\n",
    "        lt[i],lt[i-1]=lt[i-1],lt[i]\n",
    "        i-=1\n",
    "print(lt)"
   ]
  },
  {
   "cell_type": "code",
   "execution_count": 15,
   "id": "b944c295",
   "metadata": {},
   "outputs": [
    {
     "name": "stdout",
     "output_type": "stream",
     "text": [
      "{'Talha': 78}\n"
     ]
    }
   ],
   "source": [
    "# candidates = {\"Umar\":{\"score\": 67}, \"Talha\":{\"score\": 78}, \"Shadab\":{\"score\": 17}}\n",
    "candidates = {\"Umar\":67, \"Talha\":78, \"Shadab\": 17}\n",
    "\n",
    "max=0\n",
    "st=\" \"\n",
    "for i in candidates:\n",
    "#     score=candidates.get(i)['score']\n",
    "    score=candidates.get(i)\n",
    "    if score>max:\n",
    "        max=score\n",
    "        st=i\n",
    "print({st:max})        \n",
    "        \n"
   ]
  },
  {
   "cell_type": "code",
   "execution_count": 16,
   "id": "1d4c007b",
   "metadata": {},
   "outputs": [
    {
     "name": "stdout",
     "output_type": "stream",
     "text": [
      "[1, 2, 4, 3, 5]\n"
     ]
    }
   ],
   "source": [
    "lst=[2,1,3,4,5]\n",
    "for i in range(1,len(lst),2):\n",
    "    lst[i],lst[i-1]=lst[i-1],lst[i]\n",
    "print(lst)    "
   ]
  },
  {
   "cell_type": "code",
   "execution_count": null,
   "id": "ec797650",
   "metadata": {},
   "outputs": [],
   "source": []
  },
  {
   "cell_type": "code",
   "execution_count": 20,
   "id": "dece62e2",
   "metadata": {},
   "outputs": [
    {
     "name": "stdout",
     "output_type": "stream",
     "text": [
      "[0, 1, 2, 4, 5, 3]\n"
     ]
    }
   ],
   "source": [
    "given_list=[0,2,1,5,3,4]\n",
    "new_list=[]\n",
    "for i in given_list:\n",
    "        l=given_list[i]\n",
    "        new_list.append(l)\n",
    "print(new_list)\n"
   ]
  },
  {
   "cell_type": "code",
   "execution_count": 42,
   "id": "3e809b13",
   "metadata": {},
   "outputs": [
    {
     "name": "stdout",
     "output_type": "stream",
     "text": [
      "['g', 'e', 'k', 's', 'f', 'o', 'r']\n",
      "geksfor\n"
     ]
    }
   ],
   "source": [
    "# st=\"geeksforgeeks\"\n",
    "st=\"HappyNewYear\"\n",
    "est=[]\n",
    "for i in st:\n",
    "    if i not in est:\n",
    "        est.append(i)\n",
    "print(est)        \n",
    "x=\"\".join(est) \n",
    "print(x)"
   ]
  },
  {
   "cell_type": "code",
   "execution_count": 46,
   "id": "b541ffa7",
   "metadata": {},
   "outputs": [
    {
     "name": "stdout",
     "output_type": "stream",
     "text": [
      "geksfor\n"
     ]
    }
   ],
   "source": [
    "def remove_duplicate(st):\n",
    "    e_lst=[]\n",
    "    for char in st:\n",
    "        if char not in e_lst:\n",
    "            e_lst.append(char)\n",
    "    remove=\"\".join(e_lst)\n",
    "    return remove\n",
    "st=\"geeksforgeeks\"\n",
    "print(remove_duplicate(st))"
   ]
  },
  {
   "cell_type": "code",
   "execution_count": 47,
   "id": "e13f247f",
   "metadata": {},
   "outputs": [
    {
     "name": "stdout",
     "output_type": "stream",
     "text": [
      "HapyNewYr\n"
     ]
    }
   ],
   "source": [
    "st=\"HappyNewYear\"\n",
    "st2=\"\"\n",
    "for i in st:\n",
    "    if i not in st2:\n",
    "        st2+=i\n",
    "print(st2)        "
   ]
  },
  {
   "cell_type": "code",
   "execution_count": null,
   "id": "70e5b1da",
   "metadata": {},
   "outputs": [],
   "source": []
  },
  {
   "cell_type": "code",
   "execution_count": 6,
   "id": "67b80933",
   "metadata": {},
   "outputs": [
    {
     "name": "stdout",
     "output_type": "stream",
     "text": [
      "M\n",
      "Mi\n",
      "Min\n",
      "Minh\n",
      "Minha\n",
      "Minhaj\n"
     ]
    }
   ],
   "source": [
    "word = \"Minhaj\"\n",
    "x = \"\"\n",
    "for i in word:\n",
    "    x += i\n",
    "    print(x)\n"
   ]
  },
  {
   "cell_type": "code",
   "execution_count": null,
   "id": "8c5ea81c",
   "metadata": {},
   "outputs": [],
   "source": []
  }
 ],
 "metadata": {
  "kernelspec": {
   "display_name": "Python 3 (ipykernel)",
   "language": "python",
   "name": "python3"
  },
  "language_info": {
   "codemirror_mode": {
    "name": "ipython",
    "version": 3
   },
   "file_extension": ".py",
   "mimetype": "text/x-python",
   "name": "python",
   "nbconvert_exporter": "python",
   "pygments_lexer": "ipython3",
   "version": "3.10.6"
  }
 },
 "nbformat": 4,
 "nbformat_minor": 5
}
