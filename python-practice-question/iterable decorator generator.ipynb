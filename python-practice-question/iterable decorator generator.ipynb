{
 "cells": [
  {
   "cell_type": "markdown",
   "id": "3ba58ab9",
   "metadata": {},
   "source": [
    "# decorator"
   ]
  },
  {
   "cell_type": "code",
   "execution_count": 1,
   "id": "1668bced",
   "metadata": {
    "scrolled": true
   },
   "outputs": [
    {
     "name": "stdout",
     "output_type": "stream",
     "text": [
      "executing now\n",
      "he is a good boy\n",
      "executed\n"
     ]
    }
   ],
   "source": [
    "def dec1(func1):\n",
    "    def nowexec():\n",
    "        print('executing now')\n",
    "        func1()\n",
    "        print('executed')\n",
    "    return nowexec\n",
    "@dec1\n",
    "def who_is_man():\n",
    "    print('he is a good boy')\n",
    "who_is_man()"
   ]
  },
  {
   "cell_type": "code",
   "execution_count": 4,
   "id": "232acfec",
   "metadata": {},
   "outputs": [
    {
     "name": "stdout",
     "output_type": "stream",
     "text": [
      "Hi\n",
      "9\n",
      "Hey\n"
     ]
    }
   ],
   "source": [
    "def main(add):\n",
    "    def inner(a):\n",
    "        print('Hi')\n",
    "        add(a)\n",
    "        print('Hey')\n",
    "    return inner\n",
    "@main\n",
    "def square(a):\n",
    "    print(a*a)\n",
    "square(3)"
   ]
  },
  {
   "cell_type": "code",
   "execution_count": 3,
   "id": "3ce48255",
   "metadata": {},
   "outputs": [
    {
     "name": "stdout",
     "output_type": "stream",
     "text": [
      "Hello\n",
      "heyyy\n"
     ]
    }
   ],
   "source": [
    "def first(msg):\n",
    "    print(msg)\n",
    "\n",
    "\n",
    "first(\"Hello\")\n",
    "\n",
    "second = first\n",
    "second(\"heyyy\")"
   ]
  },
  {
   "cell_type": "code",
   "execution_count": 9,
   "id": "9cfec832",
   "metadata": {},
   "outputs": [
    {
     "name": "stdout",
     "output_type": "stream",
     "text": [
      "4\n",
      "7\n",
      "2\n",
      "8\n"
     ]
    }
   ],
   "source": [
    "lst=[4,7,2,8]\n",
    "my_iter=iter(lst)   #get and iterator using iter\n",
    "print(next(my_iter)) #iterate through using next\n",
    "print(next(my_iter))\n",
    "\n",
    "print(my_iter.__next__())  # next(obj) is same as obj.__next__()\n",
    "print(next(my_iter))"
   ]
  },
  {
   "cell_type": "code",
   "execution_count": 9,
   "id": "7f1950ff",
   "metadata": {},
   "outputs": [
    {
     "name": "stdout",
     "output_type": "stream",
     "text": [
      "my school name abc schl\n",
      "myname is minhaj 35\n"
     ]
    }
   ],
   "source": [
    "def name(func):\n",
    "    def inner(name,roll,school):\n",
    "        print('my school name',school)\n",
    "        func(name,roll)\n",
    "    return inner\n",
    "@name\n",
    "def student(name,roll):\n",
    "    print('myname is',name,roll)\n",
    "\n",
    "student('minhaj',35,'abc schl')"
   ]
  },
  {
   "cell_type": "code",
   "execution_count": 5,
   "id": "c038b1aa",
   "metadata": {},
   "outputs": [
    {
     "name": "stdout",
     "output_type": "stream",
     "text": [
      "first num3\n",
      "second num2\n",
      "I am going to divide 3 and 2\n",
      "ans = 1\n"
     ]
    }
   ],
   "source": [
    "def smart_divide(func):\n",
    "    def inner(a, b):\n",
    "        print(\"I am going to divide\", a, \"and\", b)\n",
    "        if b == 0:\n",
    "            print(\"Whoops! cannot divide\")\n",
    "            print(\"enter another nonzero element\")\n",
    "            return\n",
    "        return func(a, b)\n",
    "    return inner\n",
    "@smart_divide\n",
    "def divide(a, b):\n",
    "    print('ans =',a%b)\n",
    "a=int(input('first num'))\n",
    "b=int(input('second num'))\n",
    "divide(a,b)"
   ]
  },
  {
   "cell_type": "code",
   "execution_count": 5,
   "id": "38c6a169",
   "metadata": {},
   "outputs": [
    {
     "ename": "TypeError",
     "evalue": "addition() missing 1 required positional argument: 'c'",
     "output_type": "error",
     "traceback": [
      "\u001b[1;31m---------------------------------------------------------------------------\u001b[0m",
      "\u001b[1;31mTypeError\u001b[0m                                 Traceback (most recent call last)",
      "Input \u001b[1;32mIn [5]\u001b[0m, in \u001b[0;36m<cell line: 12>\u001b[1;34m()\u001b[0m\n\u001b[0;32m      8\u001b[0m     \u001b[38;5;28mprint\u001b[39m(d)\n\u001b[0;32m     11\u001b[0m \u001b[38;5;66;03m# the below line shows an error\u001b[39;00m\n\u001b[1;32m---> 12\u001b[0m \u001b[43maddition\u001b[49m\u001b[43m(\u001b[49m\u001b[38;5;241;43m4\u001b[39;49m\u001b[43m,\u001b[49m\u001b[43m \u001b[49m\u001b[38;5;241;43m5\u001b[39;49m\u001b[43m)\u001b[49m\n",
      "\u001b[1;31mTypeError\u001b[0m: addition() missing 1 required positional argument: 'c'"
     ]
    }
   ],
   "source": [
    "def addition(a, b=0):\n",
    "    c = a + b\n",
    "    print(c)\n",
    "\n",
    "\n",
    "def addition(a, b, c):\n",
    "    d = a + b + c\n",
    "    print(d)\n",
    "\n",
    "\n",
    "# the below line shows an error\n",
    "addition(4, 5)\n",
    "\n",
    "# This line will call the second product method\n",
    "# addition(3, 7, 5)\n"
   ]
  },
  {
   "cell_type": "code",
   "execution_count": 7,
   "id": "6d5bb677",
   "metadata": {},
   "outputs": [
    {
     "name": "stdout",
     "output_type": "stream",
     "text": [
      "******************************\n",
      "%%%%%%%%%%%%%%%%%%%%%%%%%%%%%%\n",
      "Hello\n",
      "%%%%%%%%%%%%%%%%%%%%%%%%%%%%%%\n",
      "******************************\n"
     ]
    }
   ],
   "source": [
    "def star(func1):\n",
    "    def inner(*args, **kwargs):\n",
    "        print(\"*\" * 30)\n",
    "        func1(*args, **kwargs)\n",
    "        print(\"*\" * 30)\n",
    "    return inner\n",
    "def percent(func2):\n",
    "    def inner(*args, **kwargs):\n",
    "        print(\"%\" * 30)\n",
    "        func2(*args, **kwargs)\n",
    "        print(\"%\" * 30)\n",
    "    return inner\n",
    "@star\n",
    "@percent\n",
    "def printer(msg):\n",
    "    print(msg)\n",
    "printer(\"Hello\")"
   ]
  },
  {
   "cell_type": "markdown",
   "id": "1404cede",
   "metadata": {},
   "source": [
    "# Generator"
   ]
  },
  {
   "cell_type": "code",
   "execution_count": 2,
   "id": "71c30475",
   "metadata": {},
   "outputs": [
    {
     "name": "stdout",
     "output_type": "stream",
     "text": [
      "1\n",
      "4\n",
      "9\n",
      "16\n",
      "25\n",
      "36\n",
      "49\n",
      "64\n",
      "81\n",
      "100\n"
     ]
    }
   ],
   "source": [
    "def square():\n",
    "    i=1\n",
    "    while True:\n",
    "        yield i*i\n",
    "        i+=1\n",
    "for num in square():     \n",
    "    if num>100:    \n",
    "        break\n",
    "    print(num)"
   ]
  },
  {
   "cell_type": "code",
   "execution_count": 6,
   "id": "41c44962",
   "metadata": {},
   "outputs": [
    {
     "data": {
      "text/plain": [
       "1"
      ]
     },
     "execution_count": 6,
     "metadata": {},
     "output_type": "execute_result"
    }
   ],
   "source": [
    "def square():\n",
    "    for i in a:\n",
    "        return i*i\n",
    "a=[1,2,3]  \n",
    "square()"
   ]
  },
  {
   "cell_type": "code",
   "execution_count": 7,
   "id": "68713365",
   "metadata": {},
   "outputs": [
    {
     "name": "stdout",
     "output_type": "stream",
     "text": [
      "1\n",
      "4\n",
      "9\n"
     ]
    }
   ],
   "source": [
    "def square():\n",
    "    for i in a:\n",
    "        print(i*i)\n",
    "a=[1,2,3]  \n",
    "square()"
   ]
  },
  {
   "cell_type": "code",
   "execution_count": 2,
   "id": "a161516b",
   "metadata": {},
   "outputs": [
    {
     "name": "stdout",
     "output_type": "stream",
     "text": [
      "10\n",
      "11\n",
      "14\n",
      "19\n",
      "26\n"
     ]
    }
   ],
   "source": [
    "def square(x):\n",
    "    for i in range(5):\n",
    "        yield i*i\n",
    "def test(x):\n",
    "    for i in square(5):\n",
    "        print(i+x)\n",
    "test(10)"
   ]
  },
  {
   "cell_type": "markdown",
   "id": "dfb28c85",
   "metadata": {},
   "source": [
    "# Iterator"
   ]
  },
  {
   "cell_type": "code",
   "execution_count": 2,
   "id": "8ddededb",
   "metadata": {},
   "outputs": [
    {
     "name": "stdout",
     "output_type": "stream",
     "text": [
      "4\n",
      "7\n",
      "0\n"
     ]
    }
   ],
   "source": [
    "# define a list\n",
    "my_list = [4, 7, 0]\n",
    "\n",
    "# create an iterator from the list\n",
    "iterator = iter(my_list)\n",
    "\n",
    "# get the first element of the iterator\n",
    "print(next(iterator))  # prints 4\n",
    "\n",
    "# get the second element of the iterator\n",
    "print(next(iterator))  # prints 7\n",
    "\n",
    "# get the third element of the iterator\n",
    "print(next(iterator))  # prints 0"
   ]
  },
  {
   "cell_type": "markdown",
   "id": "068befc6",
   "metadata": {},
   "source": [
    "# Working for loop iterator"
   ]
  },
  {
   "cell_type": "code",
   "execution_count": 5,
   "id": "dff2b211",
   "metadata": {},
   "outputs": [
    {
     "name": "stdout",
     "output_type": "stream",
     "text": [
      "1\n",
      "2\n",
      "3\n",
      "4\n",
      "5\n"
     ]
    }
   ],
   "source": [
    "# create a list of integers\n",
    "my_list = [1, 2, 3, 4, 5]\n",
    "\n",
    "# create an iterator from the list\n",
    "iterator = iter(my_list)\n",
    "\n",
    "# iterate through the elements of the iterator\n",
    "for element in iterator:\n",
    "\n",
    "    # Print each element\n",
    "    print(element)"
   ]
  },
  {
   "cell_type": "markdown",
   "id": "b70af155",
   "metadata": {},
   "source": [
    "# Building custom iterator"
   ]
  },
  {
   "cell_type": "code",
   "execution_count": 3,
   "id": "27c3f6b4",
   "metadata": {},
   "outputs": [
    {
     "name": "stdout",
     "output_type": "stream",
     "text": [
      "1\n",
      "2\n",
      "4\n",
      "8\n"
     ]
    },
    {
     "ename": "StopIteration",
     "evalue": "",
     "output_type": "error",
     "traceback": [
      "\u001b[1;31m---------------------------------------------------------------------------\u001b[0m",
      "\u001b[1;31mStopIteration\u001b[0m                             Traceback (most recent call last)",
      "Input \u001b[1;32mIn [3]\u001b[0m, in \u001b[0;36m<cell line: 32>\u001b[1;34m()\u001b[0m\n\u001b[0;32m     30\u001b[0m \u001b[38;5;28mprint\u001b[39m(\u001b[38;5;28mnext\u001b[39m(i)) \u001b[38;5;66;03m# prints 4\u001b[39;00m\n\u001b[0;32m     31\u001b[0m \u001b[38;5;28mprint\u001b[39m(\u001b[38;5;28mnext\u001b[39m(i)) \u001b[38;5;66;03m# prints 8\u001b[39;00m\n\u001b[1;32m---> 32\u001b[0m \u001b[38;5;28mprint\u001b[39m(\u001b[38;5;28;43mnext\u001b[39;49m\u001b[43m(\u001b[49m\u001b[43mi\u001b[49m\u001b[43m)\u001b[49m)\n",
      "Input \u001b[1;32mIn [3]\u001b[0m, in \u001b[0;36mPowTwo.__next__\u001b[1;34m(self)\u001b[0m\n\u001b[0;32m     16\u001b[0m     \u001b[38;5;28;01mreturn\u001b[39;00m result\n\u001b[0;32m     17\u001b[0m \u001b[38;5;28;01melse\u001b[39;00m:\n\u001b[1;32m---> 18\u001b[0m     \u001b[38;5;28;01mraise\u001b[39;00m \u001b[38;5;167;01mStopIteration\u001b[39;00m\n",
      "\u001b[1;31mStopIteration\u001b[0m: "
     ]
    }
   ],
   "source": [
    "class PowTwo:\n",
    "    \"\"\"Class to implement an iterator\n",
    "    of powers of two\"\"\"\n",
    "\n",
    "    def __init__(self, max=0):\n",
    "        self.max = max\n",
    "\n",
    "    def __iter__(self):\n",
    "        self.n = 0\n",
    "        return self\n",
    "\n",
    "    def __next__(self):\n",
    "        if self.n <= self.max:\n",
    "            result = 2 ** self.n\n",
    "            self.n += 1\n",
    "            return result\n",
    "        else:\n",
    "            raise StopIteration\n",
    "\n",
    "\n",
    "# create an object\n",
    "numbers = PowTwo(3)\n",
    "\n",
    "# create an iterable from the object\n",
    "i = iter(numbers)\n",
    "\n",
    "# Using next to get to the next iterator element\n",
    "print(next(i)) # prints 1\n",
    "print(next(i)) # prints 2\n",
    "print(next(i)) # prints 4\n",
    "print(next(i)) # prints 8\n",
    "print(next(i)) # raises StopIteration exception"
   ]
  },
  {
   "cell_type": "code",
   "execution_count": null,
   "id": "dffe4ce5",
   "metadata": {},
   "outputs": [],
   "source": []
  }
 ],
 "metadata": {
  "kernelspec": {
   "display_name": "Python 3 (ipykernel)",
   "language": "python",
   "name": "python3"
  },
  "language_info": {
   "codemirror_mode": {
    "name": "ipython",
    "version": 3
   },
   "file_extension": ".py",
   "mimetype": "text/x-python",
   "name": "python",
   "nbconvert_exporter": "python",
   "pygments_lexer": "ipython3",
   "version": "3.10.6"
  }
 },
 "nbformat": 4,
 "nbformat_minor": 5
}
