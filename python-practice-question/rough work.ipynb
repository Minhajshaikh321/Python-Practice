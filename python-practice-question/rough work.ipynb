{
 "cells": [
  {
   "cell_type": "code",
   "execution_count": 3,
   "id": "a609e64e",
   "metadata": {},
   "outputs": [
    {
     "name": "stdout",
     "output_type": "stream",
     "text": [
      "iram\n",
      "anam\n",
      "{'a', 'm', 'i', 'r'} {'a', 'n', 'm'}\n",
      "{'a', 'm'}\n"
     ]
    }
   ],
   "source": [
    "str1=input()\n",
    "str2=input()\n",
    "set1=set(str1)\n",
    "set2=set(str2)\n",
    "print(set1,set2)\n",
    "l=set1 & set2\n",
    "print(l)\n"
   ]
  },
  {
   "cell_type": "code",
   "execution_count": 4,
   "id": "abcca87b",
   "metadata": {},
   "outputs": [
    {
     "name": "stdout",
     "output_type": "stream",
     "text": [
      "mam\n",
      "True\n"
     ]
    }
   ],
   "source": [
    "a=input()\n",
    "print(str(a)==str(a)[::-1])"
   ]
  },
  {
   "cell_type": "code",
   "execution_count": 7,
   "id": "8211778b",
   "metadata": {},
   "outputs": [
    {
     "name": "stdout",
     "output_type": "stream",
     "text": [
      "a a a b b b c c c c c c c \n",
      "['a', 'a', 'a', 'b', 'b', 'b', 'c', 'c', 'c', 'c', 'c', 'c', 'c']\n",
      "{'a': 3, 'b': 3, 'c': 7}\n"
     ]
    }
   ],
   "source": [
    "s=input()\n",
    "x=s.split()\n",
    "print(x)\n",
    "d={}\n",
    "for i in x:\n",
    "    if i not in d.keys():\n",
    "        d[i]=0\n",
    "    d[i]+=1\n",
    "print(d)           "
   ]
  },
  {
   "cell_type": "code",
   "execution_count": 7,
   "id": "9569e347",
   "metadata": {},
   "outputs": [
    {
     "name": "stdout",
     "output_type": "stream",
     "text": [
      "[1, 3, 5, 7, 9, 17]\n"
     ]
    }
   ],
   "source": [
    "def sortfunc(s_list):\n",
    "    for i in range(1,len(s_list)):\n",
    "        while s_list[i-1]>s_list[i] and i>0:\n",
    "            s_list[i-1],s_list[i]=s_list[i],s_list[i-1]\n",
    "            i-=1\n",
    "    return s_list    \n",
    "s_list=[3,5,1,7,9,17]\n",
    "print(sortfunc(s_list))\n"
   ]
  },
  {
   "cell_type": "code",
   "execution_count": 11,
   "id": "05663f0d",
   "metadata": {},
   "outputs": [
    {
     "name": "stdout",
     "output_type": "stream",
     "text": [
      "[4, 5, 0, 1, 2, 3]\n"
     ]
    }
   ],
   "source": [
    "nums = [5,0,1,2,3,4]\n",
    "l=[]\n",
    "for i in nums:\n",
    "    a=nums[i]\n",
    "    i+=1\n",
    "    l.append(a)\n",
    "print(l)"
   ]
  },
  {
   "cell_type": "code",
   "execution_count": null,
   "id": "741b4a7f",
   "metadata": {},
   "outputs": [],
   "source": [
    "m=[0,1,2,3,4]\n",
    "for i in range(1,len(m))"
   ]
  }
 ],
 "metadata": {
  "kernelspec": {
   "display_name": "Python 3 (ipykernel)",
   "language": "python",
   "name": "python3"
  },
  "language_info": {
   "codemirror_mode": {
    "name": "ipython",
    "version": 3
   },
   "file_extension": ".py",
   "mimetype": "text/x-python",
   "name": "python",
   "nbconvert_exporter": "python",
   "pygments_lexer": "ipython3",
   "version": "3.10.6"
  }
 },
 "nbformat": 4,
 "nbformat_minor": 5
}
